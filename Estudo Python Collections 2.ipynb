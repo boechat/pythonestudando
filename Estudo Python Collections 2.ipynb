{
 "cells": [
  {
   "cell_type": "code",
   "execution_count": 10,
   "id": "986aa6ca",
   "metadata": {},
   "outputs": [],
   "source": [
    "usuarios_data_science = [15, 23, 43, 56]\n",
    "usuarios_machine_learning = [13, 23, 56, 42]"
   ]
  },
  {
   "cell_type": "code",
   "execution_count": 12,
   "id": "8722c2fa",
   "metadata": {},
   "outputs": [
    {
     "data": {
      "text/plain": [
       "[15, 23, 43, 56, 13, 23, 56, 42]"
      ]
     },
     "execution_count": 12,
     "metadata": {},
     "output_type": "execute_result"
    }
   ],
   "source": [
    "assistiram = usuarios_data_science.copy()\n",
    "assistiram.extend(usuarios_machine_learning)\n",
    "assistiram"
   ]
  },
  {
   "cell_type": "code",
   "execution_count": 14,
   "id": "7c5ee8b7",
   "metadata": {},
   "outputs": [
    {
     "data": {
      "text/plain": [
       "8"
      ]
     },
     "execution_count": 14,
     "metadata": {},
     "output_type": "execute_result"
    }
   ],
   "source": [
    "len(assistiram)"
   ]
  },
  {
   "cell_type": "code",
   "execution_count": 16,
   "id": "d3041c46",
   "metadata": {},
   "outputs": [
    {
     "data": {
      "text/plain": [
       "{13, 15, 23, 42, 43, 56}"
      ]
     },
     "execution_count": 16,
     "metadata": {},
     "output_type": "execute_result"
    }
   ],
   "source": [
    "#SET cria um conjunto, não ordenado\n",
    "set(assistiram) #transforma em um conjunto, não colocando elementos repetidos"
   ]
  },
  {
   "cell_type": "code",
   "execution_count": 18,
   "id": "ea9056ae",
   "metadata": {},
   "outputs": [
    {
     "data": {
      "text/plain": [
       "{2, 3, 4, 5, 6, 7}"
      ]
     },
     "execution_count": 18,
     "metadata": {},
     "output_type": "execute_result"
    }
   ],
   "source": [
    "{3,4,5,5,6,7,2}"
   ]
  },
  {
   "cell_type": "code",
   "execution_count": 20,
   "id": "f235ee30",
   "metadata": {},
   "outputs": [
    {
     "name": "stdout",
     "output_type": "stream",
     "text": [
      "42\n",
      "43\n",
      "13\n",
      "15\n",
      "23\n",
      "56\n"
     ]
    }
   ],
   "source": [
    "for usuario in set(assistiram):\n",
    "    print(usuario)"
   ]
  },
  {
   "cell_type": "code",
   "execution_count": 23,
   "id": "535ed10f",
   "metadata": {},
   "outputs": [
    {
     "data": {
      "text/plain": [
       "{13, 15, 23, 42, 43, 56}"
      ]
     },
     "execution_count": 23,
     "metadata": {},
     "output_type": "execute_result"
    }
   ],
   "source": [
    "usuarios_data_science = {15, 23, 43, 56}\n",
    "usuarios_machine_learning = {13, 23, 56, 42}\n",
    "usuarios_data_science | usuarios_machine_learning  #retorna elemenos que estejam presentes em um Ou em outro"
   ]
  },
  {
   "cell_type": "code",
   "execution_count": 25,
   "id": "4ac05910",
   "metadata": {},
   "outputs": [
    {
     "data": {
      "text/plain": [
       "{23, 56}"
      ]
     },
     "execution_count": 25,
     "metadata": {},
     "output_type": "execute_result"
    }
   ],
   "source": [
    "usuarios_data_science & usuarios_machine_learning  #retornar elementos que estejam presentes em um E em outro"
   ]
  },
  {
   "cell_type": "code",
   "execution_count": 30,
   "id": "b560c051",
   "metadata": {},
   "outputs": [
    {
     "data": {
      "text/plain": [
       "(15, 23, 56, False)"
      ]
     },
     "execution_count": 30,
     "metadata": {},
     "output_type": "execute_result"
    }
   ],
   "source": [
    "fez_datasciencemasnaofezmachinelerarning = usuarios_data_science - usuarios_machine_learning\n",
    "15 in fez_datasciencemasnaofezmachinelerarning\n",
    "15,23,56,42 in fez_datasciencemasnaofezmachinelerarning\n"
   ]
  },
  {
   "cell_type": "code",
   "execution_count": 32,
   "id": "8f821954",
   "metadata": {},
   "outputs": [
    {
     "data": {
      "text/plain": [
       "{13, 15, 42, 43}"
      ]
     },
     "execution_count": 32,
     "metadata": {},
     "output_type": "execute_result"
    }
   ],
   "source": [
    "usuarios_data_science ^ usuarios_machine_learning  # OU Exclusivo ;  fez isso ou isso, mas não pode ter feito os dois ao mesmo tempo. "
   ]
  },
  {
   "cell_type": "code",
   "execution_count": 37,
   "id": "d652980c",
   "metadata": {},
   "outputs": [
    {
     "data": {
      "text/plain": [
       "{5, 15, 23, 43, 56}"
      ]
     },
     "execution_count": 37,
     "metadata": {},
     "output_type": "execute_result"
    }
   ],
   "source": [
    "usuarios = {15, 23, 43, 56}\n",
    "#modificando conjuntos\n",
    "usuarios.add(5)  #adicionado elemento 5\n",
    "usuarios"
   ]
  },
  {
   "cell_type": "code",
   "execution_count": 40,
   "id": "1f0950bb",
   "metadata": {},
   "outputs": [
    {
     "ename": "AttributeError",
     "evalue": "'frozenset' object has no attribute 'add'",
     "output_type": "error",
     "traceback": [
      "\u001b[1;31m---------------------------------------------------------------------------\u001b[0m",
      "\u001b[1;31mAttributeError\u001b[0m                            Traceback (most recent call last)",
      "\u001b[1;32m~\\AppData\\Local\\Temp\\ipykernel_6196\\2164328812.py\u001b[0m in \u001b[0;36m<module>\u001b[1;34m\u001b[0m\n\u001b[0;32m      1\u001b[0m \u001b[1;31m#Caso queira fazer um conjunto imutavel\u001b[0m\u001b[1;33m\u001b[0m\u001b[1;33m\u001b[0m\u001b[0m\n\u001b[0;32m      2\u001b[0m \u001b[0musuarios\u001b[0m \u001b[1;33m=\u001b[0m \u001b[0mfrozenset\u001b[0m\u001b[1;33m(\u001b[0m\u001b[0musuarios\u001b[0m\u001b[1;33m)\u001b[0m\u001b[1;33m\u001b[0m\u001b[1;33m\u001b[0m\u001b[0m\n\u001b[1;32m----> 3\u001b[1;33m \u001b[0musuarios\u001b[0m\u001b[1;33m.\u001b[0m\u001b[0madd\u001b[0m\u001b[1;33m(\u001b[0m\u001b[1;36m8\u001b[0m\u001b[1;33m)\u001b[0m\u001b[1;33m\u001b[0m\u001b[1;33m\u001b[0m\u001b[0m\n\u001b[0m",
      "\u001b[1;31mAttributeError\u001b[0m: 'frozenset' object has no attribute 'add'"
     ]
    }
   ],
   "source": [
    "#Caso queira fazer um conjunto imutavel\n",
    "usuarios = frozenset(usuarios)\n",
    "usuarios.add(8)"
   ]
  },
  {
   "cell_type": "code",
   "execution_count": 43,
   "id": "3136ac1e",
   "metadata": {},
   "outputs": [
    {
     "data": {
      "text/plain": [
       "{'Teste', 'cachorro', 'do', 'e', 'que', 'teste', 'testoso', 'um', 'é'}"
      ]
     },
     "execution_count": 43,
     "metadata": {},
     "output_type": "execute_result"
    }
   ],
   "source": [
    "texto = 'Teste teste do cachorro e teste que é um teste testoso'\n",
    "set(texto.split())"
   ]
  },
  {
   "cell_type": "code",
   "execution_count": 47,
   "id": "b8b980bb",
   "metadata": {},
   "outputs": [],
   "source": [
    "#DICIONARIO\n",
    "\n",
    "dicta={    'Teste': 1,\n",
    "     'cachorro': 2,\n",
    "     'do': 1,\n",
    "     'teste': 3\n",
    "}\n"
   ]
  },
  {
   "cell_type": "code",
   "execution_count": 49,
   "id": "60fe3534",
   "metadata": {},
   "outputs": [
    {
     "data": {
      "text/plain": [
       "2"
      ]
     },
     "execution_count": 49,
     "metadata": {},
     "output_type": "execute_result"
    }
   ],
   "source": [
    "dicta['cachorro']"
   ]
  },
  {
   "cell_type": "code",
   "execution_count": 51,
   "id": "62b52251",
   "metadata": {},
   "outputs": [
    {
     "data": {
      "text/plain": [
       "{'Teste': 1, 'cachorro': 2, 'do': 1, 'teste': 3, 'Novo Elemento': 5}"
      ]
     },
     "execution_count": 51,
     "metadata": {},
     "output_type": "execute_result"
    }
   ],
   "source": [
    "#Adicionar elementos\n",
    "\n",
    "dicta['Novo Elemento'] = 5\n",
    "dicta"
   ]
  },
  {
   "cell_type": "code",
   "execution_count": 56,
   "id": "7122889d",
   "metadata": {},
   "outputs": [
    {
     "data": {
      "text/plain": [
       "{'Teste': 1, 'cachorro': 2, 'teste': 3, 'Novo Elemento': 5}"
      ]
     },
     "execution_count": 56,
     "metadata": {},
     "output_type": "execute_result"
    }
   ],
   "source": [
    "# Remover Elementos\n",
    "\n",
    "del dicta['do']\n",
    "dicta"
   ]
  },
  {
   "cell_type": "code",
   "execution_count": 58,
   "id": "ab40960a",
   "metadata": {},
   "outputs": [
    {
     "data": {
      "text/plain": [
       "False"
      ]
     },
     "execution_count": 58,
     "metadata": {},
     "output_type": "execute_result"
    }
   ],
   "source": [
    "'do' in dicta"
   ]
  },
  {
   "cell_type": "code",
   "execution_count": 61,
   "id": "a3cae932",
   "metadata": {},
   "outputs": [
    {
     "name": "stdout",
     "output_type": "stream",
     "text": [
      "Teste\n",
      "cachorro\n",
      "teste\n",
      "Novo Elemento\n"
     ]
    }
   ],
   "source": [
    "for elemento in dicta:\n",
    "    print(elemento)"
   ]
  },
  {
   "cell_type": "code",
   "execution_count": 63,
   "id": "9c9dc35c",
   "metadata": {},
   "outputs": [
    {
     "name": "stdout",
     "output_type": "stream",
     "text": [
      "Teste\n",
      "cachorro\n",
      "teste\n",
      "Novo Elemento\n"
     ]
    }
   ],
   "source": [
    "for elemento in dicta.keys():  #iteração pelas chaves ao inves de elementos\n",
    "    print(elemento)"
   ]
  },
  {
   "cell_type": "code",
   "execution_count": 66,
   "id": "5de3cc3b",
   "metadata": {},
   "outputs": [
    {
     "name": "stdout",
     "output_type": "stream",
     "text": [
      "1\n",
      "2\n",
      "3\n",
      "5\n"
     ]
    }
   ],
   "source": [
    "for elemento in dicta.values():  #iteração pelos valores\n",
    "    print(elemento)  "
   ]
  },
  {
   "cell_type": "code",
   "execution_count": 68,
   "id": "c189a411",
   "metadata": {},
   "outputs": [
    {
     "name": "stdout",
     "output_type": "stream",
     "text": [
      "Teste 1\n",
      "cachorro 2\n",
      "teste 3\n",
      "Novo Elemento 5\n"
     ]
    }
   ],
   "source": [
    "for elemento in dicta.keys():  #iteração linha a linha mostrando tudo\n",
    "    valor = dicta[elemento]\n",
    "    print(elemento,valor)"
   ]
  },
  {
   "cell_type": "code",
   "execution_count": 70,
   "id": "b02993c6",
   "metadata": {},
   "outputs": [
    {
     "name": "stdout",
     "output_type": "stream",
     "text": [
      "('Teste', 1)\n",
      "('cachorro', 2)\n",
      "('teste', 3)\n",
      "('Novo Elemento', 5)\n"
     ]
    }
   ],
   "source": [
    "for elemento in dicta.items():  #iteração linha a linha, mostrando os items\n",
    "    print(elemento)"
   ]
  },
  {
   "cell_type": "code",
   "execution_count": 72,
   "id": "ad75a7ac",
   "metadata": {},
   "outputs": [
    {
     "name": "stdout",
     "output_type": "stream",
     "text": [
      "Teste ==== 1\n",
      "cachorro ==== 2\n",
      "teste ==== 3\n",
      "Novo Elemento ==== 5\n"
     ]
    }
   ],
   "source": [
    "for chave,valor in dicta.items():  #iteração pelas chaves ao inves de elementos\n",
    "    print(chave, \"====\", valor)"
   ]
  },
  {
   "cell_type": "code",
   "execution_count": 77,
   "id": "90114afe",
   "metadata": {},
   "outputs": [
    {
     "data": {
      "text/plain": [
       "['teste teste teste Teste',\n",
       " 'teste teste teste cachorro',\n",
       " 'teste teste teste teste',\n",
       " 'teste teste teste Novo Elemento']"
      ]
     },
     "execution_count": 77,
     "metadata": {},
     "output_type": "execute_result"
    }
   ],
   "source": [
    "[\"teste teste teste {}\".format(chave) for chave in dicta.keys()]\n"
   ]
  },
  {
   "cell_type": "code",
   "execution_count": 88,
   "id": "f9451ab5",
   "metadata": {},
   "outputs": [
    {
     "data": {
      "text/plain": [
       "{'Teste': 1,\n",
       " 'teste': 3,\n",
       " 'do': 1,\n",
       " 'cachorro': 1,\n",
       " 'e': 1,\n",
       " 'que': 1,\n",
       " 'é': 1,\n",
       " 'um': 1,\n",
       " 'testoso': 1}"
      ]
     },
     "execution_count": 88,
     "metadata": {},
     "output_type": "execute_result"
    }
   ],
   "source": [
    "texto.lower()\n",
    "aparicoes = {}\n",
    "for palavra in texto.split():\n",
    "    ate_agora = aparicoes.get(palavra, 0)\n",
    "    aparicoes[palavra]=ate_agora+1\n",
    "    \n",
    "aparicoes"
   ]
  },
  {
   "cell_type": "code",
   "execution_count": 90,
   "id": "ab080550",
   "metadata": {},
   "outputs": [
    {
     "data": {
      "text/plain": [
       "defaultdict(int,\n",
       "            {'Teste': 1,\n",
       "             'teste': 3,\n",
       "             'do': 1,\n",
       "             'cachorro': 1,\n",
       "             'e': 1,\n",
       "             'que': 1,\n",
       "             'é': 1,\n",
       "             'um': 1,\n",
       "             'testoso': 1})"
      ]
     },
     "execution_count": 90,
     "metadata": {},
     "output_type": "execute_result"
    }
   ],
   "source": [
    "##USANDO DEFAULT DICT\n",
    "\n",
    "from collections import defaultdict\n",
    "\n",
    "aparicoes = defaultdict(int)\n",
    "for palavra in texto.split():\n",
    "    ate_agora = aparicoes.get(palavra, 0)\n",
    "    aparicoes[palavra]=ate_agora+1\n",
    "    \n",
    "aparicoes"
   ]
  },
  {
   "cell_type": "code",
   "execution_count": 92,
   "id": "ecd065dd",
   "metadata": {},
   "outputs": [
    {
     "data": {
      "text/plain": [
       "defaultdict(int,\n",
       "            {'Teste': 1,\n",
       "             'teste': 3,\n",
       "             'do': 1,\n",
       "             'cachorro': 1,\n",
       "             'e': 1,\n",
       "             'que': 1,\n",
       "             'é': 1,\n",
       "             'um': 1,\n",
       "             'testoso': 1})"
      ]
     },
     "execution_count": 92,
     "metadata": {},
     "output_type": "execute_result"
    }
   ],
   "source": [
    "#COUNTER\n",
    "\n",
    "aparicoes = defaultdict(int)\n",
    "\n",
    "for palavra in texto.split():\n",
    "    aparicoes[palavra] += 1\n",
    "    \n",
    "aparicoes"
   ]
  },
  {
   "cell_type": "code",
   "execution_count": 95,
   "id": "7ac19423",
   "metadata": {},
   "outputs": [],
   "source": [
    "class Conta:\n",
    "    def __init__(self):\n",
    "        print(\"Imprimindo uma conta\")"
   ]
  },
  {
   "cell_type": "code",
   "execution_count": 98,
   "id": "c3cd0824",
   "metadata": {},
   "outputs": [
    {
     "name": "stdout",
     "output_type": "stream",
     "text": [
      "Imprimindo uma conta\n",
      "Imprimindo uma conta\n"
     ]
    },
    {
     "data": {
      "text/plain": [
       "<__main__.Conta at 0x2e81f31c850>"
      ]
     },
     "execution_count": 98,
     "metadata": {},
     "output_type": "execute_result"
    }
   ],
   "source": [
    "contas = defaultdict(Conta)\n",
    "contas[15]\n",
    "contas[17]\n",
    "contas[15]"
   ]
  },
  {
   "cell_type": "code",
   "execution_count": 100,
   "id": "6757e6e5",
   "metadata": {},
   "outputs": [
    {
     "data": {
      "text/plain": [
       "Counter({'Teste': 1,\n",
       "         'teste': 3,\n",
       "         'do': 1,\n",
       "         'cachorro': 1,\n",
       "         'e': 1,\n",
       "         'que': 1,\n",
       "         'é': 1,\n",
       "         'um': 1,\n",
       "         'testoso': 1})"
      ]
     },
     "execution_count": 100,
     "metadata": {},
     "output_type": "execute_result"
    }
   ],
   "source": [
    "#COUNTER\n",
    "from collections import Counter\n",
    "\n",
    "aparicoes = Counter(texto.split())\n",
    "    \n",
    "aparicoes"
   ]
  },
  {
   "cell_type": "code",
   "execution_count": null,
   "id": "3ec76e74",
   "metadata": {},
   "outputs": [],
   "source": []
  }
 ],
 "metadata": {
  "kernelspec": {
   "display_name": "Python 3 (ipykernel)",
   "language": "python",
   "name": "python3"
  },
  "language_info": {
   "codemirror_mode": {
    "name": "ipython",
    "version": 3
   },
   "file_extension": ".py",
   "mimetype": "text/x-python",
   "name": "python",
   "nbconvert_exporter": "python",
   "pygments_lexer": "ipython3",
   "version": "3.9.13"
  }
 },
 "nbformat": 4,
 "nbformat_minor": 5
}
