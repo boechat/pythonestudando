{
 "cells": [
  {
   "cell_type": "markdown",
   "id": "9e34be00",
   "metadata": {},
   "source": [
    "<h1><center>HackerRank</center></h1>\n",
    "\n",
    "                                        https://www.hackerrank.com/dashboard"
   ]
  },
  {
   "cell_type": "markdown",
   "id": "d88fa27d",
   "metadata": {},
   "source": [
    "<h2>1) PROBLEMAS DE ARITMETICA</h2>\n",
    "\n",
    "https://www.hackerrank.com/challenges/python-arithmetic-operators/problem?isFullScreen=true"
   ]
  },
  {
   "cell_type": "code",
   "execution_count": 12,
   "id": "c6e3909a",
   "metadata": {},
   "outputs": [
    {
     "name": "stdout",
     "output_type": "stream",
     "text": [
      "5\n",
      "8\n"
     ]
    },
    {
     "data": {
      "text/plain": [
       "40"
      ]
     },
     "execution_count": 12,
     "metadata": {},
     "output_type": "execute_result"
    }
   ],
   "source": [
    "## PROBLEMAS DE ARITMETICA\n",
    "# https://www.hackerrank.com/challenges/python-arithmetic-operators/problem?isFullScreen=true\n",
    "\n",
    "if __name__ == '__main__':\n",
    "    a = int(input())\n",
    "    b = int(input())\n",
    "\n",
    "def soma(a,b):\n",
    "    if (a+b <= (10 ** 10) and (a*b > 0)):\n",
    "        return a+b\n",
    "    else:\n",
    "        print('Erro')\n",
    "        \n",
    "def subtracao(a,b):\n",
    "    if (a-b <= (10 ** 10) and (a*b > 0)):\n",
    "        return a-b\n",
    "    else:\n",
    "        print('Erro')\n",
    "    \n",
    "\n",
    "def multi(a,b):\n",
    "    if (a*b <= (10 ** 10) and (a*b > 0)):\n",
    "        return a*b\n",
    "    else:\n",
    "        print('Erro')\n",
    "    \n",
    "soma(a,b)\n",
    "subtracao(a,b)\n",
    "multi(a,b)\n"
   ]
  },
  {
   "cell_type": "code",
   "execution_count": 17,
   "id": "e3a1fba2",
   "metadata": {},
   "outputs": [
    {
     "name": "stdout",
     "output_type": "stream",
     "text": [
      "6887676987\n",
      "6241172063\n",
      "2121966389319430550\n"
     ]
    }
   ],
   "source": [
    "############################################ OUTRA RESOLUÇÃO###############################################\n",
    "# Passando o valor literal\n",
    "\n",
    "if __name__ == '__main__':\n",
    "    a = int(6564424525)\n",
    "    b = int(323252462)\n",
    "\n",
    "def soma(a,b):\n",
    "    if (a+b <= (10 ** 10) and (a*b > 0)):\n",
    "        print(str(a+b))\n",
    "    else:\n",
    "        print('Erro')\n",
    "        \n",
    "def subtracao(a,b):\n",
    "    if (a-b <= (10 ** 10) and (a*b > 0)):\n",
    "        print(str(a-b))\n",
    "    else:\n",
    "        print('Erro')\n",
    "    \n",
    "\n",
    "def multi(a,b):\n",
    "    if (a*b > 0):\n",
    "        return print(str(a*b))\n",
    "    else:\n",
    "        print('Erro')\n",
    "    \n",
    "soma(a,b)\n",
    "subtracao(a,b)\n",
    "multi(a,b)"
   ]
  },
  {
   "cell_type": "code",
   "execution_count": null,
   "id": "81e449f2",
   "metadata": {},
   "outputs": [],
   "source": [
    "############################################ RESOLUÇÃO DO EXERCICIO ###############################################\n",
    "# Imprimindo tudo sem função\n",
    "\n",
    "if __name__ == '__main__':\n",
    "    a = int(input())\n",
    "    b = int(input())\n",
    "    \n",
    "    print(str(a+b))\n",
    "    print(str(a-b))\n",
    "    print(str(a*b))"
   ]
  },
  {
   "cell_type": "markdown",
   "id": "9bfa9402",
   "metadata": {},
   "source": [
    "<h2>2) Divisão</h2>\n",
    "\n",
    "https://www.hackerrank.com/challenges/python-division/problem?isFullScreen=true"
   ]
  },
  {
   "cell_type": "code",
   "execution_count": 21,
   "id": "50f289a4",
   "metadata": {},
   "outputs": [
    {
     "name": "stdout",
     "output_type": "stream",
     "text": [
      "3\n",
      "4\n",
      "0\n",
      "0.75\n"
     ]
    }
   ],
   "source": [
    "############################################ RESOLUÇÃO DO EXERCICIO ###############################################\n",
    "# Imprimindo tudo sem função\n",
    "# Add logic to print two lines. The first line should contain the result of integer division,  // . \n",
    "# The second line should contain the result of float division,  / .\n",
    "\n",
    "if __name__ == '__main__':\n",
    "    a = int(input())\n",
    "    b = int(input())\n",
    "    \n",
    "    # Divisão voltando com o resultado INTEGER\n",
    "    print(str(a//b))\n",
    "    # Divisão voltando com o resultado FLOAT\n",
    "    print(str(a/b))"
   ]
  },
  {
   "cell_type": "markdown",
   "id": "30a8a864",
   "metadata": {},
   "source": [
    "<h2>3) LOOP</h2>\n",
    "\n",
    "https://www.hackerrank.com/challenges/python-loops/problem?isFullScreen=true"
   ]
  },
  {
   "cell_type": "code",
   "execution_count": 31,
   "id": "41097d1d",
   "metadata": {},
   "outputs": [
    {
     "name": "stdout",
     "output_type": "stream",
     "text": [
      "5\n",
      "====================\n",
      "0\n",
      "1\n",
      "4\n",
      "9\n",
      "16\n"
     ]
    }
   ],
   "source": [
    "############################################ RESOLUÇÃO DO EXERCICIO ###############################################\n",
    "#  The provided code stub reads and integer, , from STDIN. For all non-negative integers , print .\n",
    "\n",
    "# Print the square of each number on a separate line.\n",
    "# Print n lines, one corresponding to each i.\n",
    "if __name__ == '__main__':\n",
    "    n = int(input())\n",
    "    print('='*20)\n",
    "    #Começando do 0, indo até N\n",
    "    for i in range(0,n):  \n",
    "        #Printa i elevado ao quadrado\n",
    "        print(str(i**2))\n",
    "        #print('Indice '+str(i))"
   ]
  },
  {
   "cell_type": "markdown",
   "id": "1e3aa550",
   "metadata": {},
   "source": [
    "<h2>4) Write a Function</h2>\n",
    "\n",
    "https://www.hackerrank.com/challenges/write-a-function/problem?isFullScreen=true\n",
    "\n",
    "<b>Task<b>\n",
    "\n",
    "Given a year, determine whether it is a leap year. \n",
    "    If it is a leap year, return the Boolean True, otherwise return False.\n",
    "\n",
    "Note that the code stub provided reads from STDIN and passes arguments to the is_leap function. \n",
    "<p>It is only necessary to complete the is_leap function."
   ]
  },
  {
   "cell_type": "code",
   "execution_count": 48,
   "id": "05bc45ef",
   "metadata": {},
   "outputs": [
    {
     "name": "stdout",
     "output_type": "stream",
     "text": [
      "1990\n",
      "1990 não é um ano bissexto.\n"
     ]
    }
   ],
   "source": [
    "############################################ RESOLUÇÃO DO EXERCICIO ###############################################\n",
    "\n",
    "## An extra day is added to the calendar almost every four years as February 29, and the day is called a leap day. It corrects the calendar for the fact that our planet takes approximately 365.25 days to orbit the sun. \n",
    "## A leap year contains a leap day.\n",
    "\n",
    "### In the Gregorian calendar, three conditions are used to identify leap years:\n",
    "\n",
    "## The year can be evenly divided by 4, is a leap year, unless:\n",
    "    ## The year can be evenly divided by 100, it is NOT a leap year, unless:\n",
    "## The year is also evenly divisible by 400. Then it is a leap year.\n",
    "\n",
    "# This means that in the Gregorian calendar, the years 2000 and 2400 are leap years, while 1800, \n",
    "# 1900, 2100, 2200, 2300 and 2500 are NOT leap years.\n",
    "\n",
    "def is_leap(year):\n",
    "    leap = False\n",
    "    if (year % 4 == 0 and year % 100 != 0) or (year % 400 == 0):\n",
    "        leap = True\n",
    "        return leap\n",
    "\n",
    "year = int(input())\n",
    "\n",
    "if is_leap(year):\n",
    "    print(f\"{year} é um ano bissexto.\")\n",
    "else:\n",
    "    print(f\"{year} não é um ano bissexto.\")"
   ]
  },
  {
   "cell_type": "markdown",
   "id": "6f01b10e",
   "metadata": {},
   "source": [
    "<h2>5) Python Print</h2>\n",
    "\n",
    "https://www.hackerrank.com/challenges/python-print/problem?isFullScreen=true"
   ]
  },
  {
   "cell_type": "code",
   "execution_count": 57,
   "id": "74bb198d",
   "metadata": {},
   "outputs": [
    {
     "name": "stdout",
     "output_type": "stream",
     "text": [
      "5\n",
      "12345"
     ]
    }
   ],
   "source": [
    "############################################ RESOLUÇÃO DO EXERCICIO ###############################################\n",
    "\n",
    "# The included code stub will read an integer,  n   , from STDIN.\n",
    "\n",
    "# Without using any string methods, try to print the following:\n",
    "# 123...n\n",
    "\n",
    "if __name__ == '__main__':\n",
    "    n = int(input())\n",
    "    \n",
    "    for i in range (1,n+1):\n",
    "        if (i>0):\n",
    "            print(i,end=\"\")\n"
   ]
  },
  {
   "cell_type": "markdown",
   "id": "878a2895",
   "metadata": {},
   "source": [
    "<h1>CLASSES</h1>\n",
    "<h2> 6)CLASSES - 1 : LIDANDO COM NÚMEROS COMPLEXOS</h2> \n",
    "\n",
    "https://www.hackerrank.com/challenges/class-1-dealing-with-complex-numbers/problem?isFullScreen=true\n",
    "\n",
    "\n",
    "[Resolução em Vídeo](https://youtu.be/qB6E31cI8P8)"
   ]
  },
  {
   "cell_type": "code",
   "execution_count": 71,
   "id": "46af25b1",
   "metadata": {},
   "outputs": [
    {
     "name": "stdout",
     "output_type": "stream",
     "text": [
      "2 5\n",
      "3 5\n",
      "====================================================================================================\n",
      "5.00+10.00i\n",
      "-1.00+0.00i\n",
      "-19.00+25.00i\n",
      "0.91+0.15i\n",
      "5.39+0.00i\n",
      "5.83+0.00i\n"
     ]
    }
   ],
   "source": [
    "#### RESOLUÇÃO DO EXERCICIO ###############################################\n",
    "\n",
    "# For this challenge, you are given two complex numbers, and you have to print the result of their addition, \n",
    "# subtraction, multiplication, division and modulus operations.\n",
    "\n",
    "# The real and imaginary precision part should be correct up to two decimal place\n",
    "\n",
    "# FORMATO DE INPUT\n",
    "## Digitar um numero real e imaginario separado por espaço Ex:  \"2 5\" e \"3 5\"\n",
    "\n",
    "# FORMATO DE OUTPUT\n",
    "## For two complex numbers C and D , the output should be in the following sequence on separate lines:\n",
    "# C + D (add)\n",
    "# C - D (sub)\n",
    "# C * D (mul)\n",
    "# C / D (div)\n",
    "# mod (C)\n",
    "# mod (d)\n",
    "\n",
    "## For complex numbers with non-zero real and complex part, the output should be in the following format:\n",
    "# A + Bi\n",
    "\n",
    "## Replace the plus symbol + with a minus symbol - when B < 0.\n",
    "\n",
    "## For complex numbers with a zero complex part i.e. real numbers, the output should be:\n",
    "# A + 0.00i\n",
    "\n",
    "## For complex numbers where the real part is zero and the complex part is non-zero, the output should be:\n",
    "# 0.00 + Bi\n",
    "\n",
    "\n",
    "\n",
    "\n",
    "class Complex(object):\n",
    "    def __init__(self, real, imaginary):\n",
    "        self.real = real\n",
    "        self.imaginary = imaginary\n",
    "        \n",
    "    def __add__(self, no):\n",
    "        return Complex(self.real+no.real,self.imaginary+no.imaginary)\n",
    "    \n",
    "    def __sub__(self, no):\n",
    "        return Complex(self.real-no.real,self.imaginary-no.imaginary)\n",
    "    \n",
    "    def __mul__(self, no):\n",
    "        real = (self.real*no.real-self.imaginary*no.imaginary)\n",
    "        imag = (self.real*no.imaginary+self.imaginary*no.real)\n",
    "        return Complex(real,imag)\n",
    "        \n",
    "    def __truediv__(self, no):\n",
    "        d = no.real**2+no.imaginary**2\n",
    "        n = self*Complex(no.real,-1*no.imaginary)\n",
    "        return Complex(n.real/d,n.imaginary/d)\n",
    "\n",
    "    def mod(self):\n",
    "        d = self.real**2 + self.imaginary**2\n",
    "        return Complex(math.sqrt(d), 0)\n",
    "        \n",
    "    def __str__(self):\n",
    "        if self.imaginary == 0:\n",
    "            result = \"%.2f+0.00i\" % (self.real)\n",
    "        elif self.real == 0:\n",
    "            if self.imaginary >= 0:\n",
    "                result = \"0.00+%.2fi\" % (self.imaginary)\n",
    "            else:\n",
    "                result = \"0.00-%.2fi\" % (abs(self.imaginary))\n",
    "        elif self.imaginary > 0:\n",
    "            result = \"%.2f+%.2fi\" % (self.real, self.imaginary)\n",
    "        else:\n",
    "            result = \"%.2f-%.2fi\" % (self.real, abs(self.imaginary))\n",
    "        return result\n",
    "\n",
    "if __name__ == '__main__':\n",
    "    c = map(float, input().split())\n",
    "    d = map(float, input().split())\n",
    "    x = Complex(*c)\n",
    "    y = Complex(*d)\n",
    "    print('='*100)\n",
    "    print(*map(str, [x+y, x-y, x*y, x/y, x.mod(), y.mod()]), sep='\\n')"
   ]
  },
  {
   "cell_type": "markdown",
   "id": "aaa933a5",
   "metadata": {},
   "source": [
    "<h2> 7) CLASSES - 1 : ENCONTRE O ÂNGULO DE TORÇÃO</h2> \n",
    "\n",
    "https://www.hackerrank.com/challenges/class-2-find-the-torsional-angle/problem?isFullScreen=true\n"
   ]
  },
  {
   "cell_type": "code",
   "execution_count": 72,
   "id": "98a75e26",
   "metadata": {},
   "outputs": [],
   "source": [
    "#### RESOLUÇÃO DO EXERCICIO ###############################################\n",
    "\n",
    "# You are given four points A, B C e D and  in a 3-dimensional Cartesian coordinate system. \n",
    "# You are required to print the angle between the plane made by the points A, B, C e B,C,D in degrees(not radians). \n",
    "# Let the angle be PHI.\n",
    "\n",
    "# Cos(PHI) = (X.Y)/|X||Y|           where X = AB * BC        and   Y = BC * CD\n",
    "\n",
    "# Here X.Y means the dot product of X and Y, and AB * BC means the cross product of vectors AB and BC\n",
    "# Also, AB = B - A\n",
    "\n",
    "## INPUT\n",
    "# Uma linha de entrada contendo os valores numéricos de ponto flutuante separados por espaço das coordenadas x e y \n",
    "# de um ponto.\n",
    "\n",
    "# Exemplo INPUT:\n",
    "# 0 4 5\n",
    "# 1 7 6 \n",
    "# 0 5 9\n",
    "# 1 7 2\n",
    "\n",
    "import math\n",
    "\n",
    "class Points(object):\n",
    "    def __init__(self, x, y, z):\n",
    "\n",
    "    def __sub__(self, no):\n",
    "\n",
    "    def dot(self, no):\n",
    "\n",
    "    def cross(self, no):\n",
    "        \n",
    "    def absolute(self):\n",
    "        return pow((self.x ** 2 + self.y ** 2 + self.z ** 2), 0.5)\n",
    "\n",
    "if __name__ == '__main__':\n",
    "    points = list()\n",
    "    for i in range(4):\n",
    "        a = list(map(float, input().split()))\n",
    "        points.append(a)\n",
    "\n",
    "    a, b, c, d = Points(*points[0]), Points(*points[1]), Points(*points[2]), Points(*points[3])\n",
    "    x = (b - a).cross(c - b)\n",
    "    y = (c - b).cross(d - c)\n",
    "    angle = math.acos(x.dot(y) / (x.absolute() * y.absolute()))\n",
    "\n",
    "    print(\"%.2f\" % math.degrees(angle))"
   ]
  },
  {
   "cell_type": "code",
   "execution_count": null,
   "id": "7551066a",
   "metadata": {},
   "outputs": [],
   "source": []
  }
 ],
 "metadata": {
  "kernelspec": {
   "display_name": "Python 3 (ipykernel)",
   "language": "python",
   "name": "python3"
  },
  "language_info": {
   "codemirror_mode": {
    "name": "ipython",
    "version": 3
   },
   "file_extension": ".py",
   "mimetype": "text/x-python",
   "name": "python",
   "nbconvert_exporter": "python",
   "pygments_lexer": "ipython3",
   "version": "3.9.13"
  }
 },
 "nbformat": 4,
 "nbformat_minor": 5
}
