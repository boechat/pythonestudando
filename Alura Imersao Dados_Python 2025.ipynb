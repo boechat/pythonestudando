{
 "cells": [
  {
   "cell_type": "code",
   "execution_count": 3,
   "id": "95617b76",
   "metadata": {},
   "outputs": [],
   "source": [
    "import pandas as pd\n",
    "# importa pandas\n",
    "df = pd.read_csv(\"https://raw.githubusercontent.com/guilhermeonrails/data-jobs/refs/heads/main/salaries.csv\")\n",
    "#pega a base de dados"
   ]
  },
  {
   "cell_type": "code",
   "execution_count": 4,
   "id": "a878b3f5",
   "metadata": {},
   "outputs": [
    {
     "data": {
      "text/html": [
       "<div>\n",
       "<style scoped>\n",
       "    .dataframe tbody tr th:only-of-type {\n",
       "        vertical-align: middle;\n",
       "    }\n",
       "\n",
       "    .dataframe tbody tr th {\n",
       "        vertical-align: top;\n",
       "    }\n",
       "\n",
       "    .dataframe thead th {\n",
       "        text-align: right;\n",
       "    }\n",
       "</style>\n",
       "<table border=\"1\" class=\"dataframe\">\n",
       "  <thead>\n",
       "    <tr style=\"text-align: right;\">\n",
       "      <th></th>\n",
       "      <th>work_year</th>\n",
       "      <th>experience_level</th>\n",
       "      <th>employment_type</th>\n",
       "      <th>job_title</th>\n",
       "      <th>salary</th>\n",
       "      <th>salary_currency</th>\n",
       "      <th>salary_in_usd</th>\n",
       "      <th>employee_residence</th>\n",
       "      <th>remote_ratio</th>\n",
       "      <th>company_location</th>\n",
       "      <th>company_size</th>\n",
       "    </tr>\n",
       "  </thead>\n",
       "  <tbody>\n",
       "    <tr>\n",
       "      <th>133347</th>\n",
       "      <td>2020.0</td>\n",
       "      <td>EN</td>\n",
       "      <td>CT</td>\n",
       "      <td>Business Data Analyst</td>\n",
       "      <td>100000</td>\n",
       "      <td>USD</td>\n",
       "      <td>100000</td>\n",
       "      <td>US</td>\n",
       "      <td>100</td>\n",
       "      <td>US</td>\n",
       "      <td>L</td>\n",
       "    </tr>\n",
       "    <tr>\n",
       "      <th>133348</th>\n",
       "      <td>2021.0</td>\n",
       "      <td>SE</td>\n",
       "      <td>FT</td>\n",
       "      <td>Data Scientist</td>\n",
       "      <td>7000000</td>\n",
       "      <td>INR</td>\n",
       "      <td>94665</td>\n",
       "      <td>IN</td>\n",
       "      <td>50</td>\n",
       "      <td>IN</td>\n",
       "      <td>L</td>\n",
       "    </tr>\n",
       "  </tbody>\n",
       "</table>\n",
       "</div>"
      ],
      "text/plain": [
       "        work_year experience_level employment_type              job_title  \\\n",
       "133347     2020.0               EN              CT  Business Data Analyst   \n",
       "133348     2021.0               SE              FT         Data Scientist   \n",
       "\n",
       "         salary salary_currency  salary_in_usd employee_residence  \\\n",
       "133347   100000             USD         100000                 US   \n",
       "133348  7000000             INR          94665                 IN   \n",
       "\n",
       "        remote_ratio company_location company_size  \n",
       "133347           100               US            L  \n",
       "133348            50               IN            L  "
      ]
     },
     "execution_count": 4,
     "metadata": {},
     "output_type": "execute_result"
    }
   ],
   "source": [
    "df.head()\n",
    "# visualiza os 5 primeiros\n",
    "df.head(20)\n",
    "# visualiza os 20 primeiros\n",
    "df.tail(10)\n",
    "# visualiza os 10 últimos\n",
    "df.tail(2)\n",
    "#visualiza os 2 últimos"
   ]
  },
  {
   "cell_type": "code",
   "execution_count": 5,
   "id": "4970eed7",
   "metadata": {},
   "outputs": [
    {
     "name": "stdout",
     "output_type": "stream",
     "text": [
      "<class 'pandas.core.frame.DataFrame'>\n",
      "RangeIndex: 133349 entries, 0 to 133348\n",
      "Data columns (total 11 columns):\n",
      " #   Column              Non-Null Count   Dtype  \n",
      "---  ------              --------------   -----  \n",
      " 0   work_year           133339 non-null  float64\n",
      " 1   experience_level    133349 non-null  object \n",
      " 2   employment_type     133349 non-null  object \n",
      " 3   job_title           133349 non-null  object \n",
      " 4   salary              133349 non-null  int64  \n",
      " 5   salary_currency     133349 non-null  object \n",
      " 6   salary_in_usd       133349 non-null  int64  \n",
      " 7   employee_residence  133349 non-null  object \n",
      " 8   remote_ratio        133349 non-null  int64  \n",
      " 9   company_location    133349 non-null  object \n",
      " 10  company_size        133349 non-null  object \n",
      "dtypes: float64(1), int64(3), object(7)\n",
      "memory usage: 11.2+ MB\n"
     ]
    }
   ],
   "source": [
    "df.info()\n",
    "#verifica os tipos dos dados"
   ]
  },
  {
   "cell_type": "code",
   "execution_count": 6,
   "id": "f99b968d",
   "metadata": {},
   "outputs": [
    {
     "data": {
      "text/html": [
       "<div>\n",
       "<style scoped>\n",
       "    .dataframe tbody tr th:only-of-type {\n",
       "        vertical-align: middle;\n",
       "    }\n",
       "\n",
       "    .dataframe tbody tr th {\n",
       "        vertical-align: top;\n",
       "    }\n",
       "\n",
       "    .dataframe thead th {\n",
       "        text-align: right;\n",
       "    }\n",
       "</style>\n",
       "<table border=\"1\" class=\"dataframe\">\n",
       "  <thead>\n",
       "    <tr style=\"text-align: right;\">\n",
       "      <th></th>\n",
       "      <th>work_year</th>\n",
       "      <th>salary</th>\n",
       "      <th>salary_in_usd</th>\n",
       "      <th>remote_ratio</th>\n",
       "    </tr>\n",
       "  </thead>\n",
       "  <tbody>\n",
       "    <tr>\n",
       "      <th>count</th>\n",
       "      <td>133339.000000</td>\n",
       "      <td>1.333490e+05</td>\n",
       "      <td>133349.000000</td>\n",
       "      <td>133349.000000</td>\n",
       "    </tr>\n",
       "    <tr>\n",
       "      <th>mean</th>\n",
       "      <td>2024.358770</td>\n",
       "      <td>1.632833e+05</td>\n",
       "      <td>157617.272098</td>\n",
       "      <td>20.905669</td>\n",
       "    </tr>\n",
       "    <tr>\n",
       "      <th>std</th>\n",
       "      <td>0.680627</td>\n",
       "      <td>2.173860e+05</td>\n",
       "      <td>74288.363097</td>\n",
       "      <td>40.590044</td>\n",
       "    </tr>\n",
       "    <tr>\n",
       "      <th>min</th>\n",
       "      <td>2020.000000</td>\n",
       "      <td>1.400000e+04</td>\n",
       "      <td>15000.000000</td>\n",
       "      <td>0.000000</td>\n",
       "    </tr>\n",
       "    <tr>\n",
       "      <th>25%</th>\n",
       "      <td>2024.000000</td>\n",
       "      <td>1.060200e+05</td>\n",
       "      <td>106000.000000</td>\n",
       "      <td>0.000000</td>\n",
       "    </tr>\n",
       "    <tr>\n",
       "      <th>50%</th>\n",
       "      <td>2024.000000</td>\n",
       "      <td>1.470000e+05</td>\n",
       "      <td>146206.000000</td>\n",
       "      <td>0.000000</td>\n",
       "    </tr>\n",
       "    <tr>\n",
       "      <th>75%</th>\n",
       "      <td>2025.000000</td>\n",
       "      <td>1.990000e+05</td>\n",
       "      <td>198000.000000</td>\n",
       "      <td>0.000000</td>\n",
       "    </tr>\n",
       "    <tr>\n",
       "      <th>max</th>\n",
       "      <td>2025.000000</td>\n",
       "      <td>3.040000e+07</td>\n",
       "      <td>800000.000000</td>\n",
       "      <td>100.000000</td>\n",
       "    </tr>\n",
       "  </tbody>\n",
       "</table>\n",
       "</div>"
      ],
      "text/plain": [
       "           work_year        salary  salary_in_usd   remote_ratio\n",
       "count  133339.000000  1.333490e+05  133349.000000  133349.000000\n",
       "mean     2024.358770  1.632833e+05  157617.272098      20.905669\n",
       "std         0.680627  2.173860e+05   74288.363097      40.590044\n",
       "min      2020.000000  1.400000e+04   15000.000000       0.000000\n",
       "25%      2024.000000  1.060200e+05  106000.000000       0.000000\n",
       "50%      2024.000000  1.470000e+05  146206.000000       0.000000\n",
       "75%      2025.000000  1.990000e+05  198000.000000       0.000000\n",
       "max      2025.000000  3.040000e+07  800000.000000     100.000000"
      ]
     },
     "execution_count": 6,
     "metadata": {},
     "output_type": "execute_result"
    }
   ],
   "source": [
    "df.describe()\n",
    "# descricao mais aprofundada das informações\n",
    "# count: número de valores não nulos\n",
    "# mean: média\n",
    "# std: desvio padrão\n",
    "# min: valor mínimo\n",
    "# 25%: primeiro quartil (Q1)\n",
    "# 50%: mediana (Q2)\n",
    "# 75%: terceiro quartil (Q3)\n",
    "# max: valor máximo"
   ]
  },
  {
   "cell_type": "code",
   "execution_count": 7,
   "id": "9c7822fd",
   "metadata": {},
   "outputs": [
    {
     "data": {
      "text/plain": [
       "np.float64(0.6806266087848142)"
      ]
     },
     "execution_count": 7,
     "metadata": {},
     "output_type": "execute_result"
    }
   ],
   "source": [
    "df['work_year'].std()\n",
    "# Desvio padrão baixo (como 0.68) = dados próximos entre si.\n",
    "# Desvio padrão alto (ex: 10, 50...) = dados mais espalhados."
   ]
  },
  {
   "cell_type": "code",
   "execution_count": 8,
   "id": "bdec2e5d",
   "metadata": {},
   "outputs": [
    {
     "data": {
      "text/plain": [
       "(133349, 11)"
      ]
     },
     "execution_count": 8,
     "metadata": {},
     "output_type": "execute_result"
    }
   ],
   "source": [
    "df.shape\n",
    "# número de linhas x colunas"
   ]
  },
  {
   "cell_type": "code",
   "execution_count": 9,
   "id": "0310dc35",
   "metadata": {},
   "outputs": [
    {
     "data": {
      "text/plain": [
       "133349"
      ]
     },
     "execution_count": 9,
     "metadata": {},
     "output_type": "execute_result"
    }
   ],
   "source": [
    "linhas, colunas = df.shape[0],df.shape[1]\n",
    "# criando variaveis linhas e colunas para pegarmos os valores da posicao 0 e 1 \n",
    "linhas\n",
    "# verificando o valor de linhas"
   ]
  },
  {
   "cell_type": "code",
   "execution_count": 10,
   "id": "c18e3659",
   "metadata": {},
   "outputs": [
    {
     "name": "stdout",
     "output_type": "stream",
     "text": [
      "Colunas -  11\n"
     ]
    }
   ],
   "source": [
    "colunas\n",
    "# verificando o valor de colunas\n",
    "print('Colunas - ',colunas)"
   ]
  },
  {
   "cell_type": "code",
   "execution_count": 11,
   "id": "3a50714d",
   "metadata": {},
   "outputs": [
    {
     "name": "stdout",
     "output_type": "stream",
     "text": [
      "Linhas -  133349\n"
     ]
    }
   ],
   "source": [
    "# verificando o valor de linhas\n",
    "print('Linhas - ',linhas)"
   ]
  },
  {
   "cell_type": "code",
   "execution_count": 12,
   "id": "73f6c60d",
   "metadata": {},
   "outputs": [
    {
     "data": {
      "text/plain": [
       "Index(['work_year', 'experience_level', 'employment_type', 'job_title',\n",
       "       'salary', 'salary_currency', 'salary_in_usd', 'employee_residence',\n",
       "       'remote_ratio', 'company_location', 'company_size'],\n",
       "      dtype='object')"
      ]
     },
     "execution_count": 12,
     "metadata": {},
     "output_type": "execute_result"
    }
   ],
   "source": [
    "df.columns\n",
    "# pega o nome de colunas"
   ]
  },
  {
   "cell_type": "code",
   "execution_count": 13,
   "id": "aab46536",
   "metadata": {},
   "outputs": [
    {
     "data": {
      "text/html": [
       "<div>\n",
       "<style scoped>\n",
       "    .dataframe tbody tr th:only-of-type {\n",
       "        vertical-align: middle;\n",
       "    }\n",
       "\n",
       "    .dataframe tbody tr th {\n",
       "        vertical-align: top;\n",
       "    }\n",
       "\n",
       "    .dataframe thead th {\n",
       "        text-align: right;\n",
       "    }\n",
       "</style>\n",
       "<table border=\"1\" class=\"dataframe\">\n",
       "  <thead>\n",
       "    <tr style=\"text-align: right;\">\n",
       "      <th></th>\n",
       "      <th>ano</th>\n",
       "      <th>senioridade</th>\n",
       "      <th>contrato</th>\n",
       "      <th>cargo</th>\n",
       "      <th>salario</th>\n",
       "      <th>moeda</th>\n",
       "      <th>usd</th>\n",
       "      <th>residencia</th>\n",
       "      <th>remoto</th>\n",
       "      <th>empresa</th>\n",
       "      <th>tamanho_empresa</th>\n",
       "    </tr>\n",
       "  </thead>\n",
       "  <tbody>\n",
       "    <tr>\n",
       "      <th>0</th>\n",
       "      <td>2025.0</td>\n",
       "      <td>SE</td>\n",
       "      <td>FT</td>\n",
       "      <td>Solutions Engineer</td>\n",
       "      <td>214000</td>\n",
       "      <td>USD</td>\n",
       "      <td>214000</td>\n",
       "      <td>US</td>\n",
       "      <td>100</td>\n",
       "      <td>US</td>\n",
       "      <td>M</td>\n",
       "    </tr>\n",
       "    <tr>\n",
       "      <th>1</th>\n",
       "      <td>2025.0</td>\n",
       "      <td>SE</td>\n",
       "      <td>FT</td>\n",
       "      <td>Solutions Engineer</td>\n",
       "      <td>136000</td>\n",
       "      <td>USD</td>\n",
       "      <td>136000</td>\n",
       "      <td>US</td>\n",
       "      <td>100</td>\n",
       "      <td>US</td>\n",
       "      <td>M</td>\n",
       "    </tr>\n",
       "    <tr>\n",
       "      <th>2</th>\n",
       "      <td>2025.0</td>\n",
       "      <td>MI</td>\n",
       "      <td>FT</td>\n",
       "      <td>Data Engineer</td>\n",
       "      <td>158800</td>\n",
       "      <td>USD</td>\n",
       "      <td>158800</td>\n",
       "      <td>AU</td>\n",
       "      <td>0</td>\n",
       "      <td>AU</td>\n",
       "      <td>M</td>\n",
       "    </tr>\n",
       "    <tr>\n",
       "      <th>3</th>\n",
       "      <td>2025.0</td>\n",
       "      <td>MI</td>\n",
       "      <td>FT</td>\n",
       "      <td>Data Engineer</td>\n",
       "      <td>139200</td>\n",
       "      <td>USD</td>\n",
       "      <td>139200</td>\n",
       "      <td>AU</td>\n",
       "      <td>0</td>\n",
       "      <td>AU</td>\n",
       "      <td>M</td>\n",
       "    </tr>\n",
       "    <tr>\n",
       "      <th>4</th>\n",
       "      <td>2025.0</td>\n",
       "      <td>EN</td>\n",
       "      <td>FT</td>\n",
       "      <td>Data Engineer</td>\n",
       "      <td>90000</td>\n",
       "      <td>USD</td>\n",
       "      <td>90000</td>\n",
       "      <td>US</td>\n",
       "      <td>0</td>\n",
       "      <td>US</td>\n",
       "      <td>M</td>\n",
       "    </tr>\n",
       "  </tbody>\n",
       "</table>\n",
       "</div>"
      ],
      "text/plain": [
       "      ano senioridade contrato               cargo  salario moeda     usd  \\\n",
       "0  2025.0          SE       FT  Solutions Engineer   214000   USD  214000   \n",
       "1  2025.0          SE       FT  Solutions Engineer   136000   USD  136000   \n",
       "2  2025.0          MI       FT       Data Engineer   158800   USD  158800   \n",
       "3  2025.0          MI       FT       Data Engineer   139200   USD  139200   \n",
       "4  2025.0          EN       FT       Data Engineer    90000   USD   90000   \n",
       "\n",
       "  residencia  remoto empresa tamanho_empresa  \n",
       "0         US     100      US               M  \n",
       "1         US     100      US               M  \n",
       "2         AU       0      AU               M  \n",
       "3         AU       0      AU               M  \n",
       "4         US       0      US               M  "
      ]
     },
     "execution_count": 13,
     "metadata": {},
     "output_type": "execute_result"
    }
   ],
   "source": [
    "# Dicionário, renomeando as colunas com novos nomes em portugues\n",
    "novos_nomes = {\n",
    "    'work_year': 'ano',\n",
    "    'experience_level': 'senioridade',\n",
    "    'employment_type': 'contrato',\n",
    "    'job_title': 'cargo',\n",
    "    'salary': 'salario',\n",
    "    'salary_currency': 'moeda',\n",
    "    'salary_in_usd': 'usd',\n",
    "    'employee_residence': 'residencia',\n",
    "    'remote_ratio': 'remoto',\n",
    "    'company_location': 'empresa',\n",
    "    'company_size': 'tamanho_empresa'\n",
    "}\n",
    "\n",
    "# Aplicando renomeação\n",
    "df.rename(columns=novos_nomes, inplace=True)\n",
    "\n",
    "# Verificando resultado\n",
    "df.head()"
   ]
  },
  {
   "cell_type": "code",
   "execution_count": 14,
   "id": "180eaca4",
   "metadata": {},
   "outputs": [
    {
     "data": {
      "text/plain": [
       "senioridade\n",
       "SE    77241\n",
       "MI    40465\n",
       "EN    12443\n",
       "EX     3200\n",
       "Name: count, dtype: int64"
      ]
     },
     "execution_count": 14,
     "metadata": {},
     "output_type": "execute_result"
    }
   ],
   "source": [
    "#Qual a frequencia de categoria de cada coluna\n",
    "# O método .value_counts() serve para contar quantas vezes cada valor único aparece em uma coluna.\n",
    "df[\"senioridade\"].value_counts()\n",
    "#SENIOR / MID / ENTRY / EXECUTIVE"
   ]
  },
  {
   "cell_type": "code",
   "execution_count": 15,
   "id": "df2464ca",
   "metadata": {},
   "outputs": [
    {
     "data": {
      "text/plain": [
       "contrato\n",
       "FT    132563\n",
       "CT       394\n",
       "PT       376\n",
       "FL        16\n",
       "Name: count, dtype: int64"
      ]
     },
     "execution_count": 15,
     "metadata": {},
     "output_type": "execute_result"
    }
   ],
   "source": [
    "#Analisar tipo do emprego/contrato\n",
    "df['contrato'].value_counts()\n",
    "#FULL TIME / CONTRACT / PART TIME / FREELANCER"
   ]
  },
  {
   "cell_type": "code",
   "execution_count": 16,
   "id": "3be30528",
   "metadata": {},
   "outputs": [
    {
     "data": {
      "text/plain": [
       "remoto\n",
       "0      105312\n",
       "100     27718\n",
       "50        319\n",
       "Name: count, dtype: int64"
      ]
     },
     "execution_count": 16,
     "metadata": {},
     "output_type": "execute_result"
    }
   ],
   "source": [
    "#Analisar modelo de trabalho remoto\n",
    "df['remoto'].value_counts()\n",
    "# 0 -- Presenciais\n",
    "# 100 -- Remotos\n",
    "# 50  -- Hibridos"
   ]
  },
  {
   "cell_type": "code",
   "execution_count": 17,
   "id": "dcc67782",
   "metadata": {},
   "outputs": [
    {
     "data": {
      "text/plain": [
       "tamanho_empresa\n",
       "M    129561\n",
       "L      3574\n",
       "S       214\n",
       "Name: count, dtype: int64"
      ]
     },
     "execution_count": 17,
     "metadata": {},
     "output_type": "execute_result"
    }
   ],
   "source": [
    "#Tamanho da empresa\n",
    "df['tamanho_empresa'].value_counts()"
   ]
  },
  {
   "cell_type": "code",
   "execution_count": 18,
   "id": "afc89f8b",
   "metadata": {},
   "outputs": [],
   "source": [
    "#Substituir siglas de Senioridade\n",
    "substitui_senior = {\n",
    "    'SE': 'Senior',\n",
    "    'MI': 'Pleno',\n",
    "    'EN': 'Junior',\n",
    "    'EX': 'Executivo'\n",
    "}\n",
    "\n",
    "#usa o map para modificar \n",
    "df['senioridade']= df['senioridade'].replace(substitui_senior)"
   ]
  },
  {
   "cell_type": "code",
   "execution_count": 19,
   "id": "a5647741",
   "metadata": {},
   "outputs": [
    {
     "data": {
      "text/plain": [
       "senioridade\n",
       "Senior       77241\n",
       "Pleno        40465\n",
       "Junior       12443\n",
       "Executivo     3200\n",
       "Name: count, dtype: int64"
      ]
     },
     "execution_count": 19,
     "metadata": {},
     "output_type": "execute_result"
    }
   ],
   "source": [
    "df['senioridade'].value_counts()"
   ]
  },
  {
   "cell_type": "code",
   "execution_count": 20,
   "id": "dd0eaf3b",
   "metadata": {},
   "outputs": [],
   "source": [
    "#Substituir siglas de Contrato\n",
    "contrato_novo = {\n",
    "    'FT': 'Tempo Integral',\n",
    "    'PT': 'Tempo Parcial',\n",
    "    'FL': 'Freelancer',\n",
    "    'CT': 'Contrato'\n",
    "}\n",
    "\n",
    "#usa o map para modificar \n",
    "df['contrato']= df['contrato'].replace(contrato_novo)"
   ]
  },
  {
   "cell_type": "code",
   "execution_count": 21,
   "id": "025e0d16",
   "metadata": {},
   "outputs": [
    {
     "data": {
      "text/plain": [
       "contrato\n",
       "Tempo Integral    132563\n",
       "Contrato             394\n",
       "Tempo Parcial        376\n",
       "Freelancer            16\n",
       "Name: count, dtype: int64"
      ]
     },
     "execution_count": 21,
     "metadata": {},
     "output_type": "execute_result"
    }
   ],
   "source": [
    "df['contrato'].value_counts()"
   ]
  },
  {
   "cell_type": "code",
   "execution_count": 22,
   "id": "e43fec02",
   "metadata": {},
   "outputs": [
    {
     "data": {
      "text/html": [
       "<div>\n",
       "<style scoped>\n",
       "    .dataframe tbody tr th:only-of-type {\n",
       "        vertical-align: middle;\n",
       "    }\n",
       "\n",
       "    .dataframe tbody tr th {\n",
       "        vertical-align: top;\n",
       "    }\n",
       "\n",
       "    .dataframe thead th {\n",
       "        text-align: right;\n",
       "    }\n",
       "</style>\n",
       "<table border=\"1\" class=\"dataframe\">\n",
       "  <thead>\n",
       "    <tr style=\"text-align: right;\">\n",
       "      <th></th>\n",
       "      <th>senioridade</th>\n",
       "      <th>contrato</th>\n",
       "      <th>cargo</th>\n",
       "      <th>moeda</th>\n",
       "      <th>residencia</th>\n",
       "      <th>empresa</th>\n",
       "      <th>tamanho_empresa</th>\n",
       "    </tr>\n",
       "  </thead>\n",
       "  <tbody>\n",
       "    <tr>\n",
       "      <th>count</th>\n",
       "      <td>133349</td>\n",
       "      <td>133349</td>\n",
       "      <td>133349</td>\n",
       "      <td>133349</td>\n",
       "      <td>133349</td>\n",
       "      <td>133349</td>\n",
       "      <td>133349</td>\n",
       "    </tr>\n",
       "    <tr>\n",
       "      <th>unique</th>\n",
       "      <td>4</td>\n",
       "      <td>4</td>\n",
       "      <td>390</td>\n",
       "      <td>26</td>\n",
       "      <td>102</td>\n",
       "      <td>95</td>\n",
       "      <td>3</td>\n",
       "    </tr>\n",
       "    <tr>\n",
       "      <th>top</th>\n",
       "      <td>Senior</td>\n",
       "      <td>Tempo Integral</td>\n",
       "      <td>Data Scientist</td>\n",
       "      <td>USD</td>\n",
       "      <td>US</td>\n",
       "      <td>US</td>\n",
       "      <td>M</td>\n",
       "    </tr>\n",
       "    <tr>\n",
       "      <th>freq</th>\n",
       "      <td>77241</td>\n",
       "      <td>132563</td>\n",
       "      <td>17314</td>\n",
       "      <td>126140</td>\n",
       "      <td>119579</td>\n",
       "      <td>119641</td>\n",
       "      <td>129561</td>\n",
       "    </tr>\n",
       "  </tbody>\n",
       "</table>\n",
       "</div>"
      ],
      "text/plain": [
       "       senioridade        contrato           cargo   moeda residencia empresa  \\\n",
       "count       133349          133349          133349  133349     133349  133349   \n",
       "unique           4               4             390      26        102      95   \n",
       "top         Senior  Tempo Integral  Data Scientist     USD         US      US   \n",
       "freq         77241          132563           17314  126140     119579  119641   \n",
       "\n",
       "       tamanho_empresa  \n",
       "count           133349  \n",
       "unique               3  \n",
       "top                  M  \n",
       "freq            129561  "
      ]
     },
     "execution_count": 22,
     "metadata": {},
     "output_type": "execute_result"
    }
   ],
   "source": [
    "df.describe(include='object')\n",
    "#Count = contagem\n",
    "#unique = dados unicos\n",
    "# top = informações mais frequentes\n",
    "# freq = calculo da frequencia - quantas vezes se repete a info"
   ]
  },
  {
   "cell_type": "code",
   "execution_count": 23,
   "id": "0188964f",
   "metadata": {},
   "outputs": [],
   "source": [
    "## TRATAMENTO DE DADOS ###"
   ]
  },
  {
   "cell_type": "code",
   "execution_count": 24,
   "id": "b84eda52",
   "metadata": {},
   "outputs": [
    {
     "data": {
      "text/html": [
       "<div>\n",
       "<style scoped>\n",
       "    .dataframe tbody tr th:only-of-type {\n",
       "        vertical-align: middle;\n",
       "    }\n",
       "\n",
       "    .dataframe tbody tr th {\n",
       "        vertical-align: top;\n",
       "    }\n",
       "\n",
       "    .dataframe thead th {\n",
       "        text-align: right;\n",
       "    }\n",
       "</style>\n",
       "<table border=\"1\" class=\"dataframe\">\n",
       "  <thead>\n",
       "    <tr style=\"text-align: right;\">\n",
       "      <th></th>\n",
       "      <th>ano</th>\n",
       "      <th>senioridade</th>\n",
       "      <th>contrato</th>\n",
       "      <th>cargo</th>\n",
       "      <th>salario</th>\n",
       "      <th>moeda</th>\n",
       "      <th>usd</th>\n",
       "      <th>residencia</th>\n",
       "      <th>remoto</th>\n",
       "      <th>empresa</th>\n",
       "      <th>tamanho_empresa</th>\n",
       "    </tr>\n",
       "  </thead>\n",
       "  <tbody>\n",
       "    <tr>\n",
       "      <th>0</th>\n",
       "      <td>2025.0</td>\n",
       "      <td>Senior</td>\n",
       "      <td>Tempo Integral</td>\n",
       "      <td>Solutions Engineer</td>\n",
       "      <td>214000</td>\n",
       "      <td>USD</td>\n",
       "      <td>214000</td>\n",
       "      <td>US</td>\n",
       "      <td>100</td>\n",
       "      <td>US</td>\n",
       "      <td>M</td>\n",
       "    </tr>\n",
       "    <tr>\n",
       "      <th>1</th>\n",
       "      <td>2025.0</td>\n",
       "      <td>Senior</td>\n",
       "      <td>Tempo Integral</td>\n",
       "      <td>Solutions Engineer</td>\n",
       "      <td>136000</td>\n",
       "      <td>USD</td>\n",
       "      <td>136000</td>\n",
       "      <td>US</td>\n",
       "      <td>100</td>\n",
       "      <td>US</td>\n",
       "      <td>M</td>\n",
       "    </tr>\n",
       "    <tr>\n",
       "      <th>2</th>\n",
       "      <td>2025.0</td>\n",
       "      <td>Pleno</td>\n",
       "      <td>Tempo Integral</td>\n",
       "      <td>Data Engineer</td>\n",
       "      <td>158800</td>\n",
       "      <td>USD</td>\n",
       "      <td>158800</td>\n",
       "      <td>AU</td>\n",
       "      <td>0</td>\n",
       "      <td>AU</td>\n",
       "      <td>M</td>\n",
       "    </tr>\n",
       "    <tr>\n",
       "      <th>3</th>\n",
       "      <td>2025.0</td>\n",
       "      <td>Pleno</td>\n",
       "      <td>Tempo Integral</td>\n",
       "      <td>Data Engineer</td>\n",
       "      <td>139200</td>\n",
       "      <td>USD</td>\n",
       "      <td>139200</td>\n",
       "      <td>AU</td>\n",
       "      <td>0</td>\n",
       "      <td>AU</td>\n",
       "      <td>M</td>\n",
       "    </tr>\n",
       "    <tr>\n",
       "      <th>4</th>\n",
       "      <td>2025.0</td>\n",
       "      <td>Junior</td>\n",
       "      <td>Tempo Integral</td>\n",
       "      <td>Data Engineer</td>\n",
       "      <td>90000</td>\n",
       "      <td>USD</td>\n",
       "      <td>90000</td>\n",
       "      <td>US</td>\n",
       "      <td>0</td>\n",
       "      <td>US</td>\n",
       "      <td>M</td>\n",
       "    </tr>\n",
       "  </tbody>\n",
       "</table>\n",
       "</div>"
      ],
      "text/plain": [
       "      ano senioridade        contrato               cargo  salario moeda  \\\n",
       "0  2025.0      Senior  Tempo Integral  Solutions Engineer   214000   USD   \n",
       "1  2025.0      Senior  Tempo Integral  Solutions Engineer   136000   USD   \n",
       "2  2025.0       Pleno  Tempo Integral       Data Engineer   158800   USD   \n",
       "3  2025.0       Pleno  Tempo Integral       Data Engineer   139200   USD   \n",
       "4  2025.0      Junior  Tempo Integral       Data Engineer    90000   USD   \n",
       "\n",
       "      usd residencia  remoto empresa tamanho_empresa  \n",
       "0  214000         US     100      US               M  \n",
       "1  136000         US     100      US               M  \n",
       "2  158800         AU       0      AU               M  \n",
       "3  139200         AU       0      AU               M  \n",
       "4   90000         US       0      US               M  "
      ]
     },
     "execution_count": 24,
     "metadata": {},
     "output_type": "execute_result"
    }
   ],
   "source": [
    "df.head()"
   ]
  },
  {
   "cell_type": "code",
   "execution_count": 25,
   "id": "a95cc4e7",
   "metadata": {},
   "outputs": [
    {
     "data": {
      "text/html": [
       "<div>\n",
       "<style scoped>\n",
       "    .dataframe tbody tr th:only-of-type {\n",
       "        vertical-align: middle;\n",
       "    }\n",
       "\n",
       "    .dataframe tbody tr th {\n",
       "        vertical-align: top;\n",
       "    }\n",
       "\n",
       "    .dataframe thead th {\n",
       "        text-align: right;\n",
       "    }\n",
       "</style>\n",
       "<table border=\"1\" class=\"dataframe\">\n",
       "  <thead>\n",
       "    <tr style=\"text-align: right;\">\n",
       "      <th></th>\n",
       "      <th>ano</th>\n",
       "      <th>senioridade</th>\n",
       "      <th>contrato</th>\n",
       "      <th>cargo</th>\n",
       "      <th>salario</th>\n",
       "      <th>moeda</th>\n",
       "      <th>usd</th>\n",
       "      <th>residencia</th>\n",
       "      <th>remoto</th>\n",
       "      <th>empresa</th>\n",
       "      <th>tamanho_empresa</th>\n",
       "    </tr>\n",
       "  </thead>\n",
       "  <tbody>\n",
       "    <tr>\n",
       "      <th>0</th>\n",
       "      <td>False</td>\n",
       "      <td>False</td>\n",
       "      <td>False</td>\n",
       "      <td>False</td>\n",
       "      <td>False</td>\n",
       "      <td>False</td>\n",
       "      <td>False</td>\n",
       "      <td>False</td>\n",
       "      <td>False</td>\n",
       "      <td>False</td>\n",
       "      <td>False</td>\n",
       "    </tr>\n",
       "    <tr>\n",
       "      <th>1</th>\n",
       "      <td>False</td>\n",
       "      <td>False</td>\n",
       "      <td>False</td>\n",
       "      <td>False</td>\n",
       "      <td>False</td>\n",
       "      <td>False</td>\n",
       "      <td>False</td>\n",
       "      <td>False</td>\n",
       "      <td>False</td>\n",
       "      <td>False</td>\n",
       "      <td>False</td>\n",
       "    </tr>\n",
       "    <tr>\n",
       "      <th>2</th>\n",
       "      <td>False</td>\n",
       "      <td>False</td>\n",
       "      <td>False</td>\n",
       "      <td>False</td>\n",
       "      <td>False</td>\n",
       "      <td>False</td>\n",
       "      <td>False</td>\n",
       "      <td>False</td>\n",
       "      <td>False</td>\n",
       "      <td>False</td>\n",
       "      <td>False</td>\n",
       "    </tr>\n",
       "    <tr>\n",
       "      <th>3</th>\n",
       "      <td>False</td>\n",
       "      <td>False</td>\n",
       "      <td>False</td>\n",
       "      <td>False</td>\n",
       "      <td>False</td>\n",
       "      <td>False</td>\n",
       "      <td>False</td>\n",
       "      <td>False</td>\n",
       "      <td>False</td>\n",
       "      <td>False</td>\n",
       "      <td>False</td>\n",
       "    </tr>\n",
       "    <tr>\n",
       "      <th>4</th>\n",
       "      <td>False</td>\n",
       "      <td>False</td>\n",
       "      <td>False</td>\n",
       "      <td>False</td>\n",
       "      <td>False</td>\n",
       "      <td>False</td>\n",
       "      <td>False</td>\n",
       "      <td>False</td>\n",
       "      <td>False</td>\n",
       "      <td>False</td>\n",
       "      <td>False</td>\n",
       "    </tr>\n",
       "    <tr>\n",
       "      <th>...</th>\n",
       "      <td>...</td>\n",
       "      <td>...</td>\n",
       "      <td>...</td>\n",
       "      <td>...</td>\n",
       "      <td>...</td>\n",
       "      <td>...</td>\n",
       "      <td>...</td>\n",
       "      <td>...</td>\n",
       "      <td>...</td>\n",
       "      <td>...</td>\n",
       "      <td>...</td>\n",
       "    </tr>\n",
       "    <tr>\n",
       "      <th>133344</th>\n",
       "      <td>False</td>\n",
       "      <td>False</td>\n",
       "      <td>False</td>\n",
       "      <td>False</td>\n",
       "      <td>False</td>\n",
       "      <td>False</td>\n",
       "      <td>False</td>\n",
       "      <td>False</td>\n",
       "      <td>False</td>\n",
       "      <td>False</td>\n",
       "      <td>False</td>\n",
       "    </tr>\n",
       "    <tr>\n",
       "      <th>133345</th>\n",
       "      <td>False</td>\n",
       "      <td>False</td>\n",
       "      <td>False</td>\n",
       "      <td>False</td>\n",
       "      <td>False</td>\n",
       "      <td>False</td>\n",
       "      <td>False</td>\n",
       "      <td>False</td>\n",
       "      <td>False</td>\n",
       "      <td>False</td>\n",
       "      <td>False</td>\n",
       "    </tr>\n",
       "    <tr>\n",
       "      <th>133346</th>\n",
       "      <td>False</td>\n",
       "      <td>False</td>\n",
       "      <td>False</td>\n",
       "      <td>False</td>\n",
       "      <td>False</td>\n",
       "      <td>False</td>\n",
       "      <td>False</td>\n",
       "      <td>False</td>\n",
       "      <td>False</td>\n",
       "      <td>False</td>\n",
       "      <td>False</td>\n",
       "    </tr>\n",
       "    <tr>\n",
       "      <th>133347</th>\n",
       "      <td>False</td>\n",
       "      <td>False</td>\n",
       "      <td>False</td>\n",
       "      <td>False</td>\n",
       "      <td>False</td>\n",
       "      <td>False</td>\n",
       "      <td>False</td>\n",
       "      <td>False</td>\n",
       "      <td>False</td>\n",
       "      <td>False</td>\n",
       "      <td>False</td>\n",
       "    </tr>\n",
       "    <tr>\n",
       "      <th>133348</th>\n",
       "      <td>False</td>\n",
       "      <td>False</td>\n",
       "      <td>False</td>\n",
       "      <td>False</td>\n",
       "      <td>False</td>\n",
       "      <td>False</td>\n",
       "      <td>False</td>\n",
       "      <td>False</td>\n",
       "      <td>False</td>\n",
       "      <td>False</td>\n",
       "      <td>False</td>\n",
       "    </tr>\n",
       "  </tbody>\n",
       "</table>\n",
       "<p>133349 rows × 11 columns</p>\n",
       "</div>"
      ],
      "text/plain": [
       "          ano  senioridade  contrato  cargo  salario  moeda    usd  \\\n",
       "0       False        False     False  False    False  False  False   \n",
       "1       False        False     False  False    False  False  False   \n",
       "2       False        False     False  False    False  False  False   \n",
       "3       False        False     False  False    False  False  False   \n",
       "4       False        False     False  False    False  False  False   \n",
       "...       ...          ...       ...    ...      ...    ...    ...   \n",
       "133344  False        False     False  False    False  False  False   \n",
       "133345  False        False     False  False    False  False  False   \n",
       "133346  False        False     False  False    False  False  False   \n",
       "133347  False        False     False  False    False  False  False   \n",
       "133348  False        False     False  False    False  False  False   \n",
       "\n",
       "        residencia  remoto  empresa  tamanho_empresa  \n",
       "0            False   False    False            False  \n",
       "1            False   False    False            False  \n",
       "2            False   False    False            False  \n",
       "3            False   False    False            False  \n",
       "4            False   False    False            False  \n",
       "...            ...     ...      ...              ...  \n",
       "133344       False   False    False            False  \n",
       "133345       False   False    False            False  \n",
       "133346       False   False    False            False  \n",
       "133347       False   False    False            False  \n",
       "133348       False   False    False            False  \n",
       "\n",
       "[133349 rows x 11 columns]"
      ]
     },
     "execution_count": 25,
     "metadata": {},
     "output_type": "execute_result"
    }
   ],
   "source": [
    "df.isnull()\n",
    "# Usando isnull(), pegamos TODOS os campos vazios"
   ]
  },
  {
   "cell_type": "code",
   "execution_count": 26,
   "id": "f343bf11",
   "metadata": {},
   "outputs": [
    {
     "data": {
      "text/plain": [
       "ano                10\n",
       "senioridade         0\n",
       "contrato            0\n",
       "cargo               0\n",
       "salario             0\n",
       "moeda               0\n",
       "usd                 0\n",
       "residencia          0\n",
       "remoto              0\n",
       "empresa             0\n",
       "tamanho_empresa     0\n",
       "dtype: int64"
      ]
     },
     "execution_count": 26,
     "metadata": {},
     "output_type": "execute_result"
    }
   ],
   "source": [
    "df.isnull().sum()\n",
    "# Nessa formula, adicionamos o .sum() para sabermos quantos campos faltam ser preenchidos, no caso, \n",
    "# evidenciamos que a coluna de ANO possui dados incompletos!\n"
   ]
  },
  {
   "cell_type": "code",
   "execution_count": 27,
   "id": "a9dce792",
   "metadata": {},
   "outputs": [
    {
     "data": {
      "text/plain": [
       "array([2025.,   nan, 2024., 2022., 2023., 2020., 2021.])"
      ]
     },
     "execution_count": 27,
     "metadata": {},
     "output_type": "execute_result"
    }
   ],
   "source": [
    "df['ano'].unique()\n",
    "# Vamos verifica os dados unicos do ano, no caso, temos o NaN (not a number)"
   ]
  },
  {
   "cell_type": "code",
   "execution_count": 28,
   "id": "33681960",
   "metadata": {},
   "outputs": [
    {
     "data": {
      "text/html": [
       "<div>\n",
       "<style scoped>\n",
       "    .dataframe tbody tr th:only-of-type {\n",
       "        vertical-align: middle;\n",
       "    }\n",
       "\n",
       "    .dataframe tbody tr th {\n",
       "        vertical-align: top;\n",
       "    }\n",
       "\n",
       "    .dataframe thead th {\n",
       "        text-align: right;\n",
       "    }\n",
       "</style>\n",
       "<table border=\"1\" class=\"dataframe\">\n",
       "  <thead>\n",
       "    <tr style=\"text-align: right;\">\n",
       "      <th></th>\n",
       "      <th>ano</th>\n",
       "      <th>senioridade</th>\n",
       "      <th>contrato</th>\n",
       "      <th>cargo</th>\n",
       "      <th>salario</th>\n",
       "      <th>moeda</th>\n",
       "      <th>usd</th>\n",
       "      <th>residencia</th>\n",
       "      <th>remoto</th>\n",
       "      <th>empresa</th>\n",
       "      <th>tamanho_empresa</th>\n",
       "    </tr>\n",
       "  </thead>\n",
       "  <tbody>\n",
       "    <tr>\n",
       "      <th>5588</th>\n",
       "      <td>NaN</td>\n",
       "      <td>Senior</td>\n",
       "      <td>Tempo Integral</td>\n",
       "      <td>Product Manager</td>\n",
       "      <td>184500</td>\n",
       "      <td>USD</td>\n",
       "      <td>184500</td>\n",
       "      <td>US</td>\n",
       "      <td>0</td>\n",
       "      <td>US</td>\n",
       "      <td>M</td>\n",
       "    </tr>\n",
       "    <tr>\n",
       "      <th>59692</th>\n",
       "      <td>NaN</td>\n",
       "      <td>Pleno</td>\n",
       "      <td>Tempo Integral</td>\n",
       "      <td>Engineer</td>\n",
       "      <td>110000</td>\n",
       "      <td>USD</td>\n",
       "      <td>110000</td>\n",
       "      <td>DE</td>\n",
       "      <td>0</td>\n",
       "      <td>DE</td>\n",
       "      <td>M</td>\n",
       "    </tr>\n",
       "    <tr>\n",
       "      <th>59710</th>\n",
       "      <td>NaN</td>\n",
       "      <td>Junior</td>\n",
       "      <td>Tempo Integral</td>\n",
       "      <td>Data Scientist</td>\n",
       "      <td>208800</td>\n",
       "      <td>USD</td>\n",
       "      <td>208800</td>\n",
       "      <td>US</td>\n",
       "      <td>0</td>\n",
       "      <td>US</td>\n",
       "      <td>M</td>\n",
       "    </tr>\n",
       "    <tr>\n",
       "      <th>59759</th>\n",
       "      <td>NaN</td>\n",
       "      <td>Senior</td>\n",
       "      <td>Tempo Integral</td>\n",
       "      <td>Software Engineer</td>\n",
       "      <td>135000</td>\n",
       "      <td>USD</td>\n",
       "      <td>135000</td>\n",
       "      <td>US</td>\n",
       "      <td>0</td>\n",
       "      <td>US</td>\n",
       "      <td>M</td>\n",
       "    </tr>\n",
       "    <tr>\n",
       "      <th>59789</th>\n",
       "      <td>NaN</td>\n",
       "      <td>Senior</td>\n",
       "      <td>Tempo Integral</td>\n",
       "      <td>Engineer</td>\n",
       "      <td>112000</td>\n",
       "      <td>USD</td>\n",
       "      <td>112000</td>\n",
       "      <td>US</td>\n",
       "      <td>0</td>\n",
       "      <td>US</td>\n",
       "      <td>M</td>\n",
       "    </tr>\n",
       "    <tr>\n",
       "      <th>131000</th>\n",
       "      <td>NaN</td>\n",
       "      <td>Senior</td>\n",
       "      <td>Tempo Integral</td>\n",
       "      <td>Machine Learning Engineer</td>\n",
       "      <td>163800</td>\n",
       "      <td>USD</td>\n",
       "      <td>163800</td>\n",
       "      <td>US</td>\n",
       "      <td>0</td>\n",
       "      <td>US</td>\n",
       "      <td>M</td>\n",
       "    </tr>\n",
       "    <tr>\n",
       "      <th>131006</th>\n",
       "      <td>NaN</td>\n",
       "      <td>Senior</td>\n",
       "      <td>Tempo Integral</td>\n",
       "      <td>Data Analytics Manager</td>\n",
       "      <td>204500</td>\n",
       "      <td>USD</td>\n",
       "      <td>204500</td>\n",
       "      <td>US</td>\n",
       "      <td>0</td>\n",
       "      <td>US</td>\n",
       "      <td>M</td>\n",
       "    </tr>\n",
       "    <tr>\n",
       "      <th>133054</th>\n",
       "      <td>NaN</td>\n",
       "      <td>Junior</td>\n",
       "      <td>Tempo Integral</td>\n",
       "      <td>Data Scientist</td>\n",
       "      <td>40000</td>\n",
       "      <td>USD</td>\n",
       "      <td>40000</td>\n",
       "      <td>JP</td>\n",
       "      <td>100</td>\n",
       "      <td>MY</td>\n",
       "      <td>L</td>\n",
       "    </tr>\n",
       "    <tr>\n",
       "      <th>133281</th>\n",
       "      <td>NaN</td>\n",
       "      <td>Pleno</td>\n",
       "      <td>Tempo Integral</td>\n",
       "      <td>Machine Learning Engineer</td>\n",
       "      <td>180000</td>\n",
       "      <td>PLN</td>\n",
       "      <td>46597</td>\n",
       "      <td>PL</td>\n",
       "      <td>100</td>\n",
       "      <td>PL</td>\n",
       "      <td>L</td>\n",
       "    </tr>\n",
       "    <tr>\n",
       "      <th>133317</th>\n",
       "      <td>NaN</td>\n",
       "      <td>Pleno</td>\n",
       "      <td>Tempo Integral</td>\n",
       "      <td>Data Scientist</td>\n",
       "      <td>130000</td>\n",
       "      <td>USD</td>\n",
       "      <td>130000</td>\n",
       "      <td>US</td>\n",
       "      <td>50</td>\n",
       "      <td>US</td>\n",
       "      <td>L</td>\n",
       "    </tr>\n",
       "  </tbody>\n",
       "</table>\n",
       "</div>"
      ],
      "text/plain": [
       "        ano senioridade        contrato                      cargo  salario  \\\n",
       "5588    NaN      Senior  Tempo Integral            Product Manager   184500   \n",
       "59692   NaN       Pleno  Tempo Integral                   Engineer   110000   \n",
       "59710   NaN      Junior  Tempo Integral             Data Scientist   208800   \n",
       "59759   NaN      Senior  Tempo Integral          Software Engineer   135000   \n",
       "59789   NaN      Senior  Tempo Integral                   Engineer   112000   \n",
       "131000  NaN      Senior  Tempo Integral  Machine Learning Engineer   163800   \n",
       "131006  NaN      Senior  Tempo Integral     Data Analytics Manager   204500   \n",
       "133054  NaN      Junior  Tempo Integral             Data Scientist    40000   \n",
       "133281  NaN       Pleno  Tempo Integral  Machine Learning Engineer   180000   \n",
       "133317  NaN       Pleno  Tempo Integral             Data Scientist   130000   \n",
       "\n",
       "       moeda     usd residencia  remoto empresa tamanho_empresa  \n",
       "5588     USD  184500         US       0      US               M  \n",
       "59692    USD  110000         DE       0      DE               M  \n",
       "59710    USD  208800         US       0      US               M  \n",
       "59759    USD  135000         US       0      US               M  \n",
       "59789    USD  112000         US       0      US               M  \n",
       "131000   USD  163800         US       0      US               M  \n",
       "131006   USD  204500         US       0      US               M  \n",
       "133054   USD   40000         JP     100      MY               L  \n",
       "133281   PLN   46597         PL     100      PL               L  \n",
       "133317   USD  130000         US      50      US               L  "
      ]
     },
     "execution_count": 28,
     "metadata": {},
     "output_type": "execute_result"
    }
   ],
   "source": [
    "df[df.isnull().any(axis=1)]\n",
    "#vamos fazer uma visualização da tabela df, puxando todos os campos de df que são nulos "
   ]
  },
  {
   "cell_type": "code",
   "execution_count": 29,
   "id": "b1cc4336",
   "metadata": {},
   "outputs": [],
   "source": [
    "#Vamos criar um DATAFRAME do zero, chamado Salarios\n",
    "\n",
    "import numpy as np"
   ]
  },
  {
   "cell_type": "code",
   "execution_count": 30,
   "id": "6fc02759",
   "metadata": {},
   "outputs": [
    {
     "data": {
      "text/html": [
       "<div>\n",
       "<style scoped>\n",
       "    .dataframe tbody tr th:only-of-type {\n",
       "        vertical-align: middle;\n",
       "    }\n",
       "\n",
       "    .dataframe tbody tr th {\n",
       "        vertical-align: top;\n",
       "    }\n",
       "\n",
       "    .dataframe thead th {\n",
       "        text-align: right;\n",
       "    }\n",
       "</style>\n",
       "<table border=\"1\" class=\"dataframe\">\n",
       "  <thead>\n",
       "    <tr style=\"text-align: right;\">\n",
       "      <th></th>\n",
       "      <th>nome</th>\n",
       "      <th>salario</th>\n",
       "      <th>salario_media</th>\n",
       "    </tr>\n",
       "  </thead>\n",
       "  <tbody>\n",
       "    <tr>\n",
       "      <th>0</th>\n",
       "      <td>carlos</td>\n",
       "      <td>7200.0</td>\n",
       "      <td>7200.0</td>\n",
       "    </tr>\n",
       "    <tr>\n",
       "      <th>1</th>\n",
       "      <td>andre</td>\n",
       "      <td>NaN</td>\n",
       "      <td>4486.0</td>\n",
       "    </tr>\n",
       "    <tr>\n",
       "      <th>2</th>\n",
       "      <td>guilherme</td>\n",
       "      <td>5000.0</td>\n",
       "      <td>5000.0</td>\n",
       "    </tr>\n",
       "    <tr>\n",
       "      <th>3</th>\n",
       "      <td>caio</td>\n",
       "      <td>NaN</td>\n",
       "      <td>4486.0</td>\n",
       "    </tr>\n",
       "    <tr>\n",
       "      <th>4</th>\n",
       "      <td>bruna</td>\n",
       "      <td>6230.0</td>\n",
       "      <td>6230.0</td>\n",
       "    </tr>\n",
       "    <tr>\n",
       "      <th>5</th>\n",
       "      <td>mikaele</td>\n",
       "      <td>1900.0</td>\n",
       "      <td>1900.0</td>\n",
       "    </tr>\n",
       "    <tr>\n",
       "      <th>6</th>\n",
       "      <td>dila</td>\n",
       "      <td>2100.0</td>\n",
       "      <td>2100.0</td>\n",
       "    </tr>\n",
       "  </tbody>\n",
       "</table>\n",
       "</div>"
      ],
      "text/plain": [
       "        nome  salario  salario_media\n",
       "0     carlos   7200.0         7200.0\n",
       "1      andre      NaN         4486.0\n",
       "2  guilherme   5000.0         5000.0\n",
       "3       caio      NaN         4486.0\n",
       "4      bruna   6230.0         6230.0\n",
       "5    mikaele   1900.0         1900.0\n",
       "6       dila   2100.0         2100.0"
      ]
     },
     "execution_count": 30,
     "metadata": {},
     "output_type": "execute_result"
    }
   ],
   "source": [
    "df_salarios = pd.DataFrame({\n",
    "    'nome': [\"carlos\",\"andre\",\"guilherme\",\"caio\",\"bruna\",\"mikaele\",\"dila\"],\n",
    "    'salario': [7200,np.nan,5000,np.nan,6230,1900,2100]\n",
    "})\n",
    "\n",
    "#CRIANDO UMA MEDIA\n",
    "\n",
    "\n",
    "#df_salarios['salario_media'] = df_salarios['salario'].fillna(df_salarios['salario'].mean().round(2)) \n",
    "df_salarios['salario_media'] = df_salarios['salario'].fillna(round(df_salarios['salario'].mean(), 2))\n",
    "df_salarios\n",
    "# fillna preenche os valores nulos"
   ]
  },
  {
   "cell_type": "code",
   "execution_count": 31,
   "id": "bb51d47d",
   "metadata": {},
   "outputs": [
    {
     "data": {
      "text/html": [
       "<div>\n",
       "<style scoped>\n",
       "    .dataframe tbody tr th:only-of-type {\n",
       "        vertical-align: middle;\n",
       "    }\n",
       "\n",
       "    .dataframe tbody tr th {\n",
       "        vertical-align: top;\n",
       "    }\n",
       "\n",
       "    .dataframe thead th {\n",
       "        text-align: right;\n",
       "    }\n",
       "</style>\n",
       "<table border=\"1\" class=\"dataframe\">\n",
       "  <thead>\n",
       "    <tr style=\"text-align: right;\">\n",
       "      <th></th>\n",
       "      <th>nome</th>\n",
       "      <th>salario</th>\n",
       "      <th>salario_media</th>\n",
       "      <th>salario_mediana</th>\n",
       "    </tr>\n",
       "  </thead>\n",
       "  <tbody>\n",
       "    <tr>\n",
       "      <th>0</th>\n",
       "      <td>carlos</td>\n",
       "      <td>7200.0</td>\n",
       "      <td>7200.0</td>\n",
       "      <td>7200.0</td>\n",
       "    </tr>\n",
       "    <tr>\n",
       "      <th>1</th>\n",
       "      <td>andre</td>\n",
       "      <td>NaN</td>\n",
       "      <td>4486.0</td>\n",
       "      <td>5000.0</td>\n",
       "    </tr>\n",
       "    <tr>\n",
       "      <th>2</th>\n",
       "      <td>guilherme</td>\n",
       "      <td>5000.0</td>\n",
       "      <td>5000.0</td>\n",
       "      <td>5000.0</td>\n",
       "    </tr>\n",
       "    <tr>\n",
       "      <th>3</th>\n",
       "      <td>caio</td>\n",
       "      <td>NaN</td>\n",
       "      <td>4486.0</td>\n",
       "      <td>5000.0</td>\n",
       "    </tr>\n",
       "    <tr>\n",
       "      <th>4</th>\n",
       "      <td>bruna</td>\n",
       "      <td>6230.0</td>\n",
       "      <td>6230.0</td>\n",
       "      <td>6230.0</td>\n",
       "    </tr>\n",
       "    <tr>\n",
       "      <th>5</th>\n",
       "      <td>mikaele</td>\n",
       "      <td>1900.0</td>\n",
       "      <td>1900.0</td>\n",
       "      <td>1900.0</td>\n",
       "    </tr>\n",
       "    <tr>\n",
       "      <th>6</th>\n",
       "      <td>dila</td>\n",
       "      <td>2100.0</td>\n",
       "      <td>2100.0</td>\n",
       "      <td>2100.0</td>\n",
       "    </tr>\n",
       "  </tbody>\n",
       "</table>\n",
       "</div>"
      ],
      "text/plain": [
       "        nome  salario  salario_media  salario_mediana\n",
       "0     carlos   7200.0         7200.0           7200.0\n",
       "1      andre      NaN         4486.0           5000.0\n",
       "2  guilherme   5000.0         5000.0           5000.0\n",
       "3       caio      NaN         4486.0           5000.0\n",
       "4      bruna   6230.0         6230.0           6230.0\n",
       "5    mikaele   1900.0         1900.0           1900.0\n",
       "6       dila   2100.0         2100.0           2100.0"
      ]
     },
     "execution_count": 31,
     "metadata": {},
     "output_type": "execute_result"
    }
   ],
   "source": [
    "#CRIANDO UMA MEDIANA\n",
    "\n",
    "df_salarios['salario_mediana'] = df_salarios['salario'].fillna(round(df_salarios['salario'].median(), 2))\n",
    "df_salarios"
   ]
  },
  {
   "cell_type": "code",
   "execution_count": 32,
   "id": "a7846204",
   "metadata": {},
   "outputs": [
    {
     "data": {
      "text/html": [
       "<div>\n",
       "<style scoped>\n",
       "    .dataframe tbody tr th:only-of-type {\n",
       "        vertical-align: middle;\n",
       "    }\n",
       "\n",
       "    .dataframe tbody tr th {\n",
       "        vertical-align: top;\n",
       "    }\n",
       "\n",
       "    .dataframe thead th {\n",
       "        text-align: right;\n",
       "    }\n",
       "</style>\n",
       "<table border=\"1\" class=\"dataframe\">\n",
       "  <thead>\n",
       "    <tr style=\"text-align: right;\">\n",
       "      <th></th>\n",
       "      <th>Dia</th>\n",
       "      <th>Temperatura</th>\n",
       "    </tr>\n",
       "  </thead>\n",
       "  <tbody>\n",
       "    <tr>\n",
       "      <th>0</th>\n",
       "      <td>Segunda</td>\n",
       "      <td>30.0</td>\n",
       "    </tr>\n",
       "    <tr>\n",
       "      <th>1</th>\n",
       "      <td>Terça</td>\n",
       "      <td>NaN</td>\n",
       "    </tr>\n",
       "    <tr>\n",
       "      <th>2</th>\n",
       "      <td>Quarta</td>\n",
       "      <td>NaN</td>\n",
       "    </tr>\n",
       "    <tr>\n",
       "      <th>3</th>\n",
       "      <td>Quinta</td>\n",
       "      <td>25.0</td>\n",
       "    </tr>\n",
       "    <tr>\n",
       "      <th>4</th>\n",
       "      <td>Sexta</td>\n",
       "      <td>29.0</td>\n",
       "    </tr>\n",
       "  </tbody>\n",
       "</table>\n",
       "</div>"
      ],
      "text/plain": [
       "       Dia  Temperatura\n",
       "0  Segunda         30.0\n",
       "1    Terça          NaN\n",
       "2   Quarta          NaN\n",
       "3   Quinta         25.0\n",
       "4    Sexta         29.0"
      ]
     },
     "execution_count": 32,
     "metadata": {},
     "output_type": "execute_result"
    }
   ],
   "source": [
    "\n",
    "df_temperaturas = pd.DataFrame({\n",
    "    'Dia': ['Segunda','Terça','Quarta','Quinta','Sexta'],\n",
    "    'Temperatura': [30, np.nan, np.nan, 25,29]\n",
    "})\n",
    "\n",
    "df_temperaturas"
   ]
  },
  {
   "cell_type": "code",
   "execution_count": 33,
   "id": "0225ec05",
   "metadata": {},
   "outputs": [
    {
     "data": {
      "text/html": [
       "<div>\n",
       "<style scoped>\n",
       "    .dataframe tbody tr th:only-of-type {\n",
       "        vertical-align: middle;\n",
       "    }\n",
       "\n",
       "    .dataframe tbody tr th {\n",
       "        vertical-align: top;\n",
       "    }\n",
       "\n",
       "    .dataframe thead th {\n",
       "        text-align: right;\n",
       "    }\n",
       "</style>\n",
       "<table border=\"1\" class=\"dataframe\">\n",
       "  <thead>\n",
       "    <tr style=\"text-align: right;\">\n",
       "      <th></th>\n",
       "      <th>Dia</th>\n",
       "      <th>Temperatura</th>\n",
       "      <th>preenchido_ffill</th>\n",
       "    </tr>\n",
       "  </thead>\n",
       "  <tbody>\n",
       "    <tr>\n",
       "      <th>0</th>\n",
       "      <td>Segunda</td>\n",
       "      <td>30.0</td>\n",
       "      <td>30.0</td>\n",
       "    </tr>\n",
       "    <tr>\n",
       "      <th>1</th>\n",
       "      <td>Terça</td>\n",
       "      <td>NaN</td>\n",
       "      <td>30.0</td>\n",
       "    </tr>\n",
       "    <tr>\n",
       "      <th>2</th>\n",
       "      <td>Quarta</td>\n",
       "      <td>NaN</td>\n",
       "      <td>30.0</td>\n",
       "    </tr>\n",
       "    <tr>\n",
       "      <th>3</th>\n",
       "      <td>Quinta</td>\n",
       "      <td>25.0</td>\n",
       "      <td>25.0</td>\n",
       "    </tr>\n",
       "    <tr>\n",
       "      <th>4</th>\n",
       "      <td>Sexta</td>\n",
       "      <td>29.0</td>\n",
       "      <td>29.0</td>\n",
       "    </tr>\n",
       "  </tbody>\n",
       "</table>\n",
       "</div>"
      ],
      "text/plain": [
       "       Dia  Temperatura  preenchido_ffill\n",
       "0  Segunda         30.0              30.0\n",
       "1    Terça          NaN              30.0\n",
       "2   Quarta          NaN              30.0\n",
       "3   Quinta         25.0              25.0\n",
       "4    Sexta         29.0              29.0"
      ]
     },
     "execution_count": 33,
     "metadata": {},
     "output_type": "execute_result"
    }
   ],
   "source": [
    "#Criar nova coluna usando o metodo ffill do pandas\n",
    "df_temperaturas['preenchido_ffill']= df_temperaturas['Temperatura'].ffill()\n",
    "# ffill = forward fill, complementa com o valor anterior\n",
    "df_temperaturas"
   ]
  },
  {
   "cell_type": "code",
   "execution_count": 34,
   "id": "7b4f1b3f",
   "metadata": {},
   "outputs": [
    {
     "data": {
      "text/html": [
       "<div>\n",
       "<style scoped>\n",
       "    .dataframe tbody tr th:only-of-type {\n",
       "        vertical-align: middle;\n",
       "    }\n",
       "\n",
       "    .dataframe tbody tr th {\n",
       "        vertical-align: top;\n",
       "    }\n",
       "\n",
       "    .dataframe thead th {\n",
       "        text-align: right;\n",
       "    }\n",
       "</style>\n",
       "<table border=\"1\" class=\"dataframe\">\n",
       "  <thead>\n",
       "    <tr style=\"text-align: right;\">\n",
       "      <th></th>\n",
       "      <th>nome</th>\n",
       "      <th>cidade</th>\n",
       "    </tr>\n",
       "  </thead>\n",
       "  <tbody>\n",
       "    <tr>\n",
       "      <th>0</th>\n",
       "      <td>carlos</td>\n",
       "      <td>SAO PAULO</td>\n",
       "    </tr>\n",
       "    <tr>\n",
       "      <th>1</th>\n",
       "      <td>andre</td>\n",
       "      <td>NaN</td>\n",
       "    </tr>\n",
       "    <tr>\n",
       "      <th>2</th>\n",
       "      <td>guilherme</td>\n",
       "      <td>NaN</td>\n",
       "    </tr>\n",
       "    <tr>\n",
       "      <th>3</th>\n",
       "      <td>caio</td>\n",
       "      <td>NaN</td>\n",
       "    </tr>\n",
       "    <tr>\n",
       "      <th>4</th>\n",
       "      <td>bruna</td>\n",
       "      <td>CURTIBA</td>\n",
       "    </tr>\n",
       "    <tr>\n",
       "      <th>5</th>\n",
       "      <td>mikaele</td>\n",
       "      <td>NITEROI</td>\n",
       "    </tr>\n",
       "    <tr>\n",
       "      <th>6</th>\n",
       "      <td>dila</td>\n",
       "      <td>DUQUE DE AXIAS</td>\n",
       "    </tr>\n",
       "  </tbody>\n",
       "</table>\n",
       "</div>"
      ],
      "text/plain": [
       "        nome          cidade\n",
       "0     carlos       SAO PAULO\n",
       "1      andre             NaN\n",
       "2  guilherme             NaN\n",
       "3       caio             NaN\n",
       "4      bruna         CURTIBA\n",
       "5    mikaele         NITEROI\n",
       "6       dila  DUQUE DE AXIAS"
      ]
     },
     "execution_count": 34,
     "metadata": {},
     "output_type": "execute_result"
    }
   ],
   "source": [
    "\n",
    "df_cidades = pd.DataFrame({\n",
    "        'nome': [\"carlos\",\"andre\",\"guilherme\",\"caio\",\"bruna\",\"mikaele\",\"dila\"],\n",
    "        'cidade': ['SAO PAULO',np.nan,np.nan,np.nan,'CURTIBA','NITEROI','DUQUE DE AXIAS']\n",
    "})\n",
    "\n",
    "df_cidades"
   ]
  },
  {
   "cell_type": "code",
   "execution_count": 35,
   "id": "93c412db",
   "metadata": {},
   "outputs": [
    {
     "data": {
      "text/html": [
       "<div>\n",
       "<style scoped>\n",
       "    .dataframe tbody tr th:only-of-type {\n",
       "        vertical-align: middle;\n",
       "    }\n",
       "\n",
       "    .dataframe tbody tr th {\n",
       "        vertical-align: top;\n",
       "    }\n",
       "\n",
       "    .dataframe thead th {\n",
       "        text-align: right;\n",
       "    }\n",
       "</style>\n",
       "<table border=\"1\" class=\"dataframe\">\n",
       "  <thead>\n",
       "    <tr style=\"text-align: right;\">\n",
       "      <th></th>\n",
       "      <th>nome</th>\n",
       "      <th>cidade</th>\n",
       "      <th>cidade_preenchida</th>\n",
       "    </tr>\n",
       "  </thead>\n",
       "  <tbody>\n",
       "    <tr>\n",
       "      <th>0</th>\n",
       "      <td>carlos</td>\n",
       "      <td>SAO PAULO</td>\n",
       "      <td>SAO PAULO</td>\n",
       "    </tr>\n",
       "    <tr>\n",
       "      <th>1</th>\n",
       "      <td>andre</td>\n",
       "      <td>NaN</td>\n",
       "      <td>Nao Informado</td>\n",
       "    </tr>\n",
       "    <tr>\n",
       "      <th>2</th>\n",
       "      <td>guilherme</td>\n",
       "      <td>NaN</td>\n",
       "      <td>Nao Informado</td>\n",
       "    </tr>\n",
       "    <tr>\n",
       "      <th>3</th>\n",
       "      <td>caio</td>\n",
       "      <td>NaN</td>\n",
       "      <td>Nao Informado</td>\n",
       "    </tr>\n",
       "    <tr>\n",
       "      <th>4</th>\n",
       "      <td>bruna</td>\n",
       "      <td>CURTIBA</td>\n",
       "      <td>CURTIBA</td>\n",
       "    </tr>\n",
       "    <tr>\n",
       "      <th>5</th>\n",
       "      <td>mikaele</td>\n",
       "      <td>NITEROI</td>\n",
       "      <td>NITEROI</td>\n",
       "    </tr>\n",
       "    <tr>\n",
       "      <th>6</th>\n",
       "      <td>dila</td>\n",
       "      <td>DUQUE DE AXIAS</td>\n",
       "      <td>DUQUE DE AXIAS</td>\n",
       "    </tr>\n",
       "  </tbody>\n",
       "</table>\n",
       "</div>"
      ],
      "text/plain": [
       "        nome          cidade cidade_preenchida\n",
       "0     carlos       SAO PAULO         SAO PAULO\n",
       "1      andre             NaN     Nao Informado\n",
       "2  guilherme             NaN     Nao Informado\n",
       "3       caio             NaN     Nao Informado\n",
       "4      bruna         CURTIBA           CURTIBA\n",
       "5    mikaele         NITEROI           NITEROI\n",
       "6       dila  DUQUE DE AXIAS    DUQUE DE AXIAS"
      ]
     },
     "execution_count": 35,
     "metadata": {},
     "output_type": "execute_result"
    }
   ],
   "source": [
    "df_cidades['cidade_preenchida'] = df_cidades['cidade'].fillna('Nao Informado')\n",
    "# preenche as nulls com Nao Informado\n",
    "df_cidades"
   ]
  },
  {
   "cell_type": "code",
   "execution_count": 36,
   "id": "bab031e8",
   "metadata": {},
   "outputs": [
    {
     "data": {
      "text/html": [
       "<div>\n",
       "<style scoped>\n",
       "    .dataframe tbody tr th:only-of-type {\n",
       "        vertical-align: middle;\n",
       "    }\n",
       "\n",
       "    .dataframe tbody tr th {\n",
       "        vertical-align: top;\n",
       "    }\n",
       "\n",
       "    .dataframe thead th {\n",
       "        text-align: right;\n",
       "    }\n",
       "</style>\n",
       "<table border=\"1\" class=\"dataframe\">\n",
       "  <thead>\n",
       "    <tr style=\"text-align: right;\">\n",
       "      <th></th>\n",
       "      <th>ano</th>\n",
       "      <th>senioridade</th>\n",
       "      <th>contrato</th>\n",
       "      <th>cargo</th>\n",
       "      <th>salario</th>\n",
       "      <th>moeda</th>\n",
       "      <th>usd</th>\n",
       "      <th>residencia</th>\n",
       "      <th>remoto</th>\n",
       "      <th>empresa</th>\n",
       "      <th>tamanho_empresa</th>\n",
       "    </tr>\n",
       "  </thead>\n",
       "  <tbody>\n",
       "    <tr>\n",
       "      <th>0</th>\n",
       "      <td>2025.0</td>\n",
       "      <td>Senior</td>\n",
       "      <td>Tempo Integral</td>\n",
       "      <td>Solutions Engineer</td>\n",
       "      <td>214000</td>\n",
       "      <td>USD</td>\n",
       "      <td>214000</td>\n",
       "      <td>US</td>\n",
       "      <td>100</td>\n",
       "      <td>US</td>\n",
       "      <td>M</td>\n",
       "    </tr>\n",
       "    <tr>\n",
       "      <th>1</th>\n",
       "      <td>2025.0</td>\n",
       "      <td>Senior</td>\n",
       "      <td>Tempo Integral</td>\n",
       "      <td>Solutions Engineer</td>\n",
       "      <td>136000</td>\n",
       "      <td>USD</td>\n",
       "      <td>136000</td>\n",
       "      <td>US</td>\n",
       "      <td>100</td>\n",
       "      <td>US</td>\n",
       "      <td>M</td>\n",
       "    </tr>\n",
       "    <tr>\n",
       "      <th>2</th>\n",
       "      <td>2025.0</td>\n",
       "      <td>Pleno</td>\n",
       "      <td>Tempo Integral</td>\n",
       "      <td>Data Engineer</td>\n",
       "      <td>158800</td>\n",
       "      <td>USD</td>\n",
       "      <td>158800</td>\n",
       "      <td>AU</td>\n",
       "      <td>0</td>\n",
       "      <td>AU</td>\n",
       "      <td>M</td>\n",
       "    </tr>\n",
       "    <tr>\n",
       "      <th>3</th>\n",
       "      <td>2025.0</td>\n",
       "      <td>Pleno</td>\n",
       "      <td>Tempo Integral</td>\n",
       "      <td>Data Engineer</td>\n",
       "      <td>139200</td>\n",
       "      <td>USD</td>\n",
       "      <td>139200</td>\n",
       "      <td>AU</td>\n",
       "      <td>0</td>\n",
       "      <td>AU</td>\n",
       "      <td>M</td>\n",
       "    </tr>\n",
       "    <tr>\n",
       "      <th>4</th>\n",
       "      <td>2025.0</td>\n",
       "      <td>Junior</td>\n",
       "      <td>Tempo Integral</td>\n",
       "      <td>Data Engineer</td>\n",
       "      <td>90000</td>\n",
       "      <td>USD</td>\n",
       "      <td>90000</td>\n",
       "      <td>US</td>\n",
       "      <td>0</td>\n",
       "      <td>US</td>\n",
       "      <td>M</td>\n",
       "    </tr>\n",
       "  </tbody>\n",
       "</table>\n",
       "</div>"
      ],
      "text/plain": [
       "      ano senioridade        contrato               cargo  salario moeda  \\\n",
       "0  2025.0      Senior  Tempo Integral  Solutions Engineer   214000   USD   \n",
       "1  2025.0      Senior  Tempo Integral  Solutions Engineer   136000   USD   \n",
       "2  2025.0       Pleno  Tempo Integral       Data Engineer   158800   USD   \n",
       "3  2025.0       Pleno  Tempo Integral       Data Engineer   139200   USD   \n",
       "4  2025.0      Junior  Tempo Integral       Data Engineer    90000   USD   \n",
       "\n",
       "      usd residencia  remoto empresa tamanho_empresa  \n",
       "0  214000         US     100      US               M  \n",
       "1  136000         US     100      US               M  \n",
       "2  158800         AU       0      AU               M  \n",
       "3  139200         AU       0      AU               M  \n",
       "4   90000         US       0      US               M  "
      ]
     },
     "execution_count": 36,
     "metadata": {},
     "output_type": "execute_result"
    }
   ],
   "source": [
    "#vamos agora apagar linhas que contenham vazio\n",
    "\n",
    "#usamos dropna\n",
    "df_limpo = df.dropna()\n",
    "df_limpo.head()"
   ]
  },
  {
   "cell_type": "code",
   "execution_count": 37,
   "id": "1962bffe",
   "metadata": {},
   "outputs": [
    {
     "name": "stdout",
     "output_type": "stream",
     "text": [
      "<class 'pandas.core.frame.DataFrame'>\n",
      "Index: 133339 entries, 0 to 133348\n",
      "Data columns (total 11 columns):\n",
      " #   Column           Non-Null Count   Dtype  \n",
      "---  ------           --------------   -----  \n",
      " 0   ano              133339 non-null  float64\n",
      " 1   senioridade      133339 non-null  object \n",
      " 2   contrato         133339 non-null  object \n",
      " 3   cargo            133339 non-null  object \n",
      " 4   salario          133339 non-null  int64  \n",
      " 5   moeda            133339 non-null  object \n",
      " 6   usd              133339 non-null  int64  \n",
      " 7   residencia       133339 non-null  object \n",
      " 8   remoto           133339 non-null  int64  \n",
      " 9   empresa          133339 non-null  object \n",
      " 10  tamanho_empresa  133339 non-null  object \n",
      "dtypes: float64(1), int64(3), object(7)\n",
      "memory usage: 12.2+ MB\n"
     ]
    }
   ],
   "source": [
    "df_limpo.info()\n",
    "# vemos que ano está em float64, mas como Ano nao precisa ser float, vamos transformar em um inteiro."
   ]
  },
  {
   "cell_type": "code",
   "execution_count": 38,
   "id": "716e6ec2",
   "metadata": {},
   "outputs": [
    {
     "data": {
      "text/html": [
       "<div>\n",
       "<style scoped>\n",
       "    .dataframe tbody tr th:only-of-type {\n",
       "        vertical-align: middle;\n",
       "    }\n",
       "\n",
       "    .dataframe tbody tr th {\n",
       "        vertical-align: top;\n",
       "    }\n",
       "\n",
       "    .dataframe thead th {\n",
       "        text-align: right;\n",
       "    }\n",
       "</style>\n",
       "<table border=\"1\" class=\"dataframe\">\n",
       "  <thead>\n",
       "    <tr style=\"text-align: right;\">\n",
       "      <th></th>\n",
       "      <th>ano</th>\n",
       "      <th>senioridade</th>\n",
       "      <th>contrato</th>\n",
       "      <th>cargo</th>\n",
       "      <th>salario</th>\n",
       "      <th>moeda</th>\n",
       "      <th>usd</th>\n",
       "      <th>residencia</th>\n",
       "      <th>remoto</th>\n",
       "      <th>empresa</th>\n",
       "      <th>tamanho_empresa</th>\n",
       "    </tr>\n",
       "  </thead>\n",
       "  <tbody>\n",
       "    <tr>\n",
       "      <th>0</th>\n",
       "      <td>2025</td>\n",
       "      <td>Senior</td>\n",
       "      <td>Tempo Integral</td>\n",
       "      <td>Solutions Engineer</td>\n",
       "      <td>214000</td>\n",
       "      <td>USD</td>\n",
       "      <td>214000</td>\n",
       "      <td>US</td>\n",
       "      <td>100</td>\n",
       "      <td>US</td>\n",
       "      <td>M</td>\n",
       "    </tr>\n",
       "    <tr>\n",
       "      <th>1</th>\n",
       "      <td>2025</td>\n",
       "      <td>Senior</td>\n",
       "      <td>Tempo Integral</td>\n",
       "      <td>Solutions Engineer</td>\n",
       "      <td>136000</td>\n",
       "      <td>USD</td>\n",
       "      <td>136000</td>\n",
       "      <td>US</td>\n",
       "      <td>100</td>\n",
       "      <td>US</td>\n",
       "      <td>M</td>\n",
       "    </tr>\n",
       "    <tr>\n",
       "      <th>2</th>\n",
       "      <td>2025</td>\n",
       "      <td>Pleno</td>\n",
       "      <td>Tempo Integral</td>\n",
       "      <td>Data Engineer</td>\n",
       "      <td>158800</td>\n",
       "      <td>USD</td>\n",
       "      <td>158800</td>\n",
       "      <td>AU</td>\n",
       "      <td>0</td>\n",
       "      <td>AU</td>\n",
       "      <td>M</td>\n",
       "    </tr>\n",
       "    <tr>\n",
       "      <th>3</th>\n",
       "      <td>2025</td>\n",
       "      <td>Pleno</td>\n",
       "      <td>Tempo Integral</td>\n",
       "      <td>Data Engineer</td>\n",
       "      <td>139200</td>\n",
       "      <td>USD</td>\n",
       "      <td>139200</td>\n",
       "      <td>AU</td>\n",
       "      <td>0</td>\n",
       "      <td>AU</td>\n",
       "      <td>M</td>\n",
       "    </tr>\n",
       "    <tr>\n",
       "      <th>4</th>\n",
       "      <td>2025</td>\n",
       "      <td>Junior</td>\n",
       "      <td>Tempo Integral</td>\n",
       "      <td>Data Engineer</td>\n",
       "      <td>90000</td>\n",
       "      <td>USD</td>\n",
       "      <td>90000</td>\n",
       "      <td>US</td>\n",
       "      <td>0</td>\n",
       "      <td>US</td>\n",
       "      <td>M</td>\n",
       "    </tr>\n",
       "  </tbody>\n",
       "</table>\n",
       "</div>"
      ],
      "text/plain": [
       "    ano senioridade        contrato               cargo  salario moeda  \\\n",
       "0  2025      Senior  Tempo Integral  Solutions Engineer   214000   USD   \n",
       "1  2025      Senior  Tempo Integral  Solutions Engineer   136000   USD   \n",
       "2  2025       Pleno  Tempo Integral       Data Engineer   158800   USD   \n",
       "3  2025       Pleno  Tempo Integral       Data Engineer   139200   USD   \n",
       "4  2025      Junior  Tempo Integral       Data Engineer    90000   USD   \n",
       "\n",
       "      usd residencia  remoto empresa tamanho_empresa  \n",
       "0  214000         US     100      US               M  \n",
       "1  136000         US     100      US               M  \n",
       "2  158800         AU       0      AU               M  \n",
       "3  139200         AU       0      AU               M  \n",
       "4   90000         US       0      US               M  "
      ]
     },
     "execution_count": 38,
     "metadata": {},
     "output_type": "execute_result"
    }
   ],
   "source": [
    "#mudando o tipo\n",
    "df_limpo = df_limpo.assign(ano = df_limpo['ano'].astype('int64'))\n",
    "\n",
    "df_limpo.head()"
   ]
  },
  {
   "cell_type": "code",
   "execution_count": 39,
   "id": "06e2aa86",
   "metadata": {},
   "outputs": [
    {
     "data": {
      "text/plain": [
       "'\\n1) Crie um DataFrame chamado df_produtos com as seguintes colunas: \"produto\", \"preco\" e \"quantidade_em_estoque\".\\n\\n2) Adicione pelo menos 5 produtos, sendo que alguns deles devem ter valores nulos na coluna \"preco\" e \"quantidade_em_estoque\".\\n\\n3) Utilize os métodos que aprendemos na aula para:\\n    - Identificar e contar os valores nulos em cada coluna.\\n    - Preencher os valores nulos da coluna \"preco\" com a média dos preços dos produtos.\\n    - Preencher os valores nulos da coluna \"quantidade_em_estoque\" com o valor \"0\" (zero).\\nPor fim, exiba o DataFrame resultante.\\n'"
      ]
     },
     "execution_count": 39,
     "metadata": {},
     "output_type": "execute_result"
    }
   ],
   "source": [
    "####### EXERCICIO ###############\n",
    "\n",
    "'''\n",
    "1) Crie um DataFrame chamado df_produtos com as seguintes colunas: \"produto\", \"preco\" e \"quantidade_em_estoque\".\n",
    "\n",
    "2) Adicione pelo menos 5 produtos, sendo que alguns deles devem ter valores nulos na coluna \"preco\" e \"quantidade_em_estoque\".\n",
    "\n",
    "3) Utilize os métodos que aprendemos na aula para:\n",
    "    - Identificar e contar os valores nulos em cada coluna.\n",
    "    - Preencher os valores nulos da coluna \"preco\" com a média dos preços dos produtos.\n",
    "    - Preencher os valores nulos da coluna \"quantidade_em_estoque\" com o valor \"0\" (zero).\n",
    "Por fim, exiba o DataFrame resultante.\n",
    "'''"
   ]
  },
  {
   "cell_type": "code",
   "execution_count": 40,
   "id": "2a1a25d6",
   "metadata": {},
   "outputs": [
    {
     "data": {
      "text/html": [
       "<div>\n",
       "<style scoped>\n",
       "    .dataframe tbody tr th:only-of-type {\n",
       "        vertical-align: middle;\n",
       "    }\n",
       "\n",
       "    .dataframe tbody tr th {\n",
       "        vertical-align: top;\n",
       "    }\n",
       "\n",
       "    .dataframe thead th {\n",
       "        text-align: right;\n",
       "    }\n",
       "</style>\n",
       "<table border=\"1\" class=\"dataframe\">\n",
       "  <thead>\n",
       "    <tr style=\"text-align: right;\">\n",
       "      <th></th>\n",
       "      <th>produto</th>\n",
       "      <th>preco</th>\n",
       "      <th>quantidade_em_estoque</th>\n",
       "    </tr>\n",
       "  </thead>\n",
       "  <tbody>\n",
       "    <tr>\n",
       "      <th>0</th>\n",
       "      <td>trigo</td>\n",
       "      <td>4.35</td>\n",
       "      <td>150.0</td>\n",
       "    </tr>\n",
       "    <tr>\n",
       "      <th>1</th>\n",
       "      <td>arroz</td>\n",
       "      <td>NaN</td>\n",
       "      <td>NaN</td>\n",
       "    </tr>\n",
       "    <tr>\n",
       "      <th>2</th>\n",
       "      <td>feijao</td>\n",
       "      <td>4.99</td>\n",
       "      <td>350.0</td>\n",
       "    </tr>\n",
       "    <tr>\n",
       "      <th>3</th>\n",
       "      <td>macarrao</td>\n",
       "      <td>5.50</td>\n",
       "      <td>NaN</td>\n",
       "    </tr>\n",
       "    <tr>\n",
       "      <th>4</th>\n",
       "      <td>oleo</td>\n",
       "      <td>17.99</td>\n",
       "      <td>250.0</td>\n",
       "    </tr>\n",
       "    <tr>\n",
       "      <th>5</th>\n",
       "      <td>peito de frango</td>\n",
       "      <td>NaN</td>\n",
       "      <td>NaN</td>\n",
       "    </tr>\n",
       "  </tbody>\n",
       "</table>\n",
       "</div>"
      ],
      "text/plain": [
       "           produto  preco  quantidade_em_estoque\n",
       "0            trigo   4.35                  150.0\n",
       "1            arroz    NaN                    NaN\n",
       "2           feijao   4.99                  350.0\n",
       "3         macarrao   5.50                    NaN\n",
       "4             oleo  17.99                  250.0\n",
       "5  peito de frango    NaN                    NaN"
      ]
     },
     "execution_count": 40,
     "metadata": {},
     "output_type": "execute_result"
    }
   ],
   "source": [
    "# 1 e 2#\n",
    "df_produtos = pd.DataFrame({\n",
    "    'produto':['trigo','arroz','feijao','macarrao','oleo','peito de frango'],\n",
    "    'preco':[4.35,np.nan,4.99,5.50,17.99,np.nan],\n",
    "    'quantidade_em_estoque':[150,np.nan,350,np.nan,250,np.nan]\n",
    "})\n",
    "\n",
    "df_produtos"
   ]
  },
  {
   "cell_type": "code",
   "execution_count": 41,
   "id": "423bd647",
   "metadata": {},
   "outputs": [
    {
     "data": {
      "text/plain": [
       "produto                  0\n",
       "preco                    2\n",
       "quantidade_em_estoque    3\n",
       "dtype: int64"
      ]
     },
     "execution_count": 41,
     "metadata": {},
     "output_type": "execute_result"
    }
   ],
   "source": [
    "# Identificando quantos registros tem null\n",
    "df_produtos.isnull().sum()\n"
   ]
  },
  {
   "cell_type": "code",
   "execution_count": 42,
   "id": "a89c39a2",
   "metadata": {},
   "outputs": [
    {
     "data": {
      "text/html": [
       "<div>\n",
       "<style scoped>\n",
       "    .dataframe tbody tr th:only-of-type {\n",
       "        vertical-align: middle;\n",
       "    }\n",
       "\n",
       "    .dataframe tbody tr th {\n",
       "        vertical-align: top;\n",
       "    }\n",
       "\n",
       "    .dataframe thead th {\n",
       "        text-align: right;\n",
       "    }\n",
       "</style>\n",
       "<table border=\"1\" class=\"dataframe\">\n",
       "  <thead>\n",
       "    <tr style=\"text-align: right;\">\n",
       "      <th></th>\n",
       "      <th>produto</th>\n",
       "      <th>preco</th>\n",
       "      <th>quantidade_em_estoque</th>\n",
       "    </tr>\n",
       "  </thead>\n",
       "  <tbody>\n",
       "    <tr>\n",
       "      <th>1</th>\n",
       "      <td>arroz</td>\n",
       "      <td>NaN</td>\n",
       "      <td>NaN</td>\n",
       "    </tr>\n",
       "    <tr>\n",
       "      <th>3</th>\n",
       "      <td>macarrao</td>\n",
       "      <td>5.5</td>\n",
       "      <td>NaN</td>\n",
       "    </tr>\n",
       "    <tr>\n",
       "      <th>5</th>\n",
       "      <td>peito de frango</td>\n",
       "      <td>NaN</td>\n",
       "      <td>NaN</td>\n",
       "    </tr>\n",
       "  </tbody>\n",
       "</table>\n",
       "</div>"
      ],
      "text/plain": [
       "           produto  preco  quantidade_em_estoque\n",
       "1            arroz    NaN                    NaN\n",
       "3         macarrao    5.5                    NaN\n",
       "5  peito de frango    NaN                    NaN"
      ]
     },
     "execution_count": 42,
     "metadata": {},
     "output_type": "execute_result"
    }
   ],
   "source": [
    "#Visualizando melhor todos os ISNULL existentes\n",
    "df_produtos[df_produtos.isnull().any(axis=1)]\n"
   ]
  },
  {
   "cell_type": "code",
   "execution_count": 43,
   "id": "6a1bd307",
   "metadata": {},
   "outputs": [
    {
     "data": {
      "text/html": [
       "<div>\n",
       "<style scoped>\n",
       "    .dataframe tbody tr th:only-of-type {\n",
       "        vertical-align: middle;\n",
       "    }\n",
       "\n",
       "    .dataframe tbody tr th {\n",
       "        vertical-align: top;\n",
       "    }\n",
       "\n",
       "    .dataframe thead th {\n",
       "        text-align: right;\n",
       "    }\n",
       "</style>\n",
       "<table border=\"1\" class=\"dataframe\">\n",
       "  <thead>\n",
       "    <tr style=\"text-align: right;\">\n",
       "      <th></th>\n",
       "      <th>produto</th>\n",
       "      <th>preco</th>\n",
       "      <th>quantidade_em_estoque</th>\n",
       "    </tr>\n",
       "  </thead>\n",
       "  <tbody>\n",
       "    <tr>\n",
       "      <th>0</th>\n",
       "      <td>trigo</td>\n",
       "      <td>4.35</td>\n",
       "      <td>150.0</td>\n",
       "    </tr>\n",
       "    <tr>\n",
       "      <th>1</th>\n",
       "      <td>arroz</td>\n",
       "      <td>8.21</td>\n",
       "      <td>NaN</td>\n",
       "    </tr>\n",
       "    <tr>\n",
       "      <th>2</th>\n",
       "      <td>feijao</td>\n",
       "      <td>4.99</td>\n",
       "      <td>350.0</td>\n",
       "    </tr>\n",
       "    <tr>\n",
       "      <th>3</th>\n",
       "      <td>macarrao</td>\n",
       "      <td>5.50</td>\n",
       "      <td>NaN</td>\n",
       "    </tr>\n",
       "    <tr>\n",
       "      <th>4</th>\n",
       "      <td>oleo</td>\n",
       "      <td>17.99</td>\n",
       "      <td>250.0</td>\n",
       "    </tr>\n",
       "    <tr>\n",
       "      <th>5</th>\n",
       "      <td>peito de frango</td>\n",
       "      <td>8.21</td>\n",
       "      <td>NaN</td>\n",
       "    </tr>\n",
       "  </tbody>\n",
       "</table>\n",
       "</div>"
      ],
      "text/plain": [
       "           produto  preco  quantidade_em_estoque\n",
       "0            trigo   4.35                  150.0\n",
       "1            arroz   8.21                    NaN\n",
       "2           feijao   4.99                  350.0\n",
       "3         macarrao   5.50                    NaN\n",
       "4             oleo  17.99                  250.0\n",
       "5  peito de frango   8.21                    NaN"
      ]
     },
     "execution_count": 43,
     "metadata": {},
     "output_type": "execute_result"
    }
   ],
   "source": [
    "#    - Preencher os valores nulos da coluna \"preco\" com a média dos preços dos produtos.\n",
    "df_produtos['preco'] = df_produtos['preco'].fillna(round(df_produtos['preco'].mean(), 2))\n",
    "df_produtos"
   ]
  },
  {
   "cell_type": "code",
   "execution_count": 44,
   "id": "7fd86ffe",
   "metadata": {},
   "outputs": [
    {
     "data": {
      "text/html": [
       "<div>\n",
       "<style scoped>\n",
       "    .dataframe tbody tr th:only-of-type {\n",
       "        vertical-align: middle;\n",
       "    }\n",
       "\n",
       "    .dataframe tbody tr th {\n",
       "        vertical-align: top;\n",
       "    }\n",
       "\n",
       "    .dataframe thead th {\n",
       "        text-align: right;\n",
       "    }\n",
       "</style>\n",
       "<table border=\"1\" class=\"dataframe\">\n",
       "  <thead>\n",
       "    <tr style=\"text-align: right;\">\n",
       "      <th></th>\n",
       "      <th>produto</th>\n",
       "      <th>preco</th>\n",
       "      <th>quantidade_em_estoque</th>\n",
       "    </tr>\n",
       "  </thead>\n",
       "  <tbody>\n",
       "    <tr>\n",
       "      <th>0</th>\n",
       "      <td>trigo</td>\n",
       "      <td>4.35</td>\n",
       "      <td>150.0</td>\n",
       "    </tr>\n",
       "    <tr>\n",
       "      <th>1</th>\n",
       "      <td>arroz</td>\n",
       "      <td>8.21</td>\n",
       "      <td>0.0</td>\n",
       "    </tr>\n",
       "    <tr>\n",
       "      <th>2</th>\n",
       "      <td>feijao</td>\n",
       "      <td>4.99</td>\n",
       "      <td>350.0</td>\n",
       "    </tr>\n",
       "    <tr>\n",
       "      <th>3</th>\n",
       "      <td>macarrao</td>\n",
       "      <td>5.50</td>\n",
       "      <td>0.0</td>\n",
       "    </tr>\n",
       "    <tr>\n",
       "      <th>4</th>\n",
       "      <td>oleo</td>\n",
       "      <td>17.99</td>\n",
       "      <td>250.0</td>\n",
       "    </tr>\n",
       "    <tr>\n",
       "      <th>5</th>\n",
       "      <td>peito de frango</td>\n",
       "      <td>8.21</td>\n",
       "      <td>0.0</td>\n",
       "    </tr>\n",
       "  </tbody>\n",
       "</table>\n",
       "</div>"
      ],
      "text/plain": [
       "           produto  preco  quantidade_em_estoque\n",
       "0            trigo   4.35                  150.0\n",
       "1            arroz   8.21                    0.0\n",
       "2           feijao   4.99                  350.0\n",
       "3         macarrao   5.50                    0.0\n",
       "4             oleo  17.99                  250.0\n",
       "5  peito de frango   8.21                    0.0"
      ]
     },
     "execution_count": 44,
     "metadata": {},
     "output_type": "execute_result"
    }
   ],
   "source": [
    "# - Preencher os valores nulos da coluna \"quantidade_em_estoque\" com o valor \"0\" (zero).\n",
    "df_produtos['quantidade_em_estoque'] = df_produtos['quantidade_em_estoque'].fillna(0)\n",
    "df_produtos\n"
   ]
  },
  {
   "cell_type": "code",
   "execution_count": 45,
   "id": "b4e6abde",
   "metadata": {},
   "outputs": [
    {
     "data": {
      "text/html": [
       "<div>\n",
       "<style scoped>\n",
       "    .dataframe tbody tr th:only-of-type {\n",
       "        vertical-align: middle;\n",
       "    }\n",
       "\n",
       "    .dataframe tbody tr th {\n",
       "        vertical-align: top;\n",
       "    }\n",
       "\n",
       "    .dataframe thead th {\n",
       "        text-align: right;\n",
       "    }\n",
       "</style>\n",
       "<table border=\"1\" class=\"dataframe\">\n",
       "  <thead>\n",
       "    <tr style=\"text-align: right;\">\n",
       "      <th></th>\n",
       "      <th>produto</th>\n",
       "      <th>preco</th>\n",
       "      <th>quantidade_em_estoque</th>\n",
       "    </tr>\n",
       "  </thead>\n",
       "  <tbody>\n",
       "    <tr>\n",
       "      <th>0</th>\n",
       "      <td>trigo</td>\n",
       "      <td>4.35</td>\n",
       "      <td>150</td>\n",
       "    </tr>\n",
       "    <tr>\n",
       "      <th>1</th>\n",
       "      <td>arroz</td>\n",
       "      <td>8.21</td>\n",
       "      <td>0</td>\n",
       "    </tr>\n",
       "    <tr>\n",
       "      <th>2</th>\n",
       "      <td>feijao</td>\n",
       "      <td>4.99</td>\n",
       "      <td>350</td>\n",
       "    </tr>\n",
       "    <tr>\n",
       "      <th>3</th>\n",
       "      <td>macarrao</td>\n",
       "      <td>5.50</td>\n",
       "      <td>0</td>\n",
       "    </tr>\n",
       "    <tr>\n",
       "      <th>4</th>\n",
       "      <td>oleo</td>\n",
       "      <td>17.99</td>\n",
       "      <td>250</td>\n",
       "    </tr>\n",
       "    <tr>\n",
       "      <th>5</th>\n",
       "      <td>peito de frango</td>\n",
       "      <td>8.21</td>\n",
       "      <td>0</td>\n",
       "    </tr>\n",
       "  </tbody>\n",
       "</table>\n",
       "</div>"
      ],
      "text/plain": [
       "           produto  preco  quantidade_em_estoque\n",
       "0            trigo   4.35                    150\n",
       "1            arroz   8.21                      0\n",
       "2           feijao   4.99                    350\n",
       "3         macarrao   5.50                      0\n",
       "4             oleo  17.99                    250\n",
       "5  peito de frango   8.21                      0"
      ]
     },
     "execution_count": 45,
     "metadata": {},
     "output_type": "execute_result"
    }
   ],
   "source": [
    "#mudando o tipo pra ficar mais bonito\n",
    "df_produtos = df_produtos.assign(quantidade_em_estoque = df_produtos['quantidade_em_estoque'].astype('int64'))\n",
    "df_produtos"
   ]
  },
  {
   "cell_type": "code",
   "execution_count": 46,
   "id": "4e0eed20",
   "metadata": {},
   "outputs": [],
   "source": [
    "#### VISUALIZAÇÃO DE DADOS , CRIACAO DE GRAFICOS #######"
   ]
  },
  {
   "cell_type": "code",
   "execution_count": 47,
   "id": "3b39e2d3",
   "metadata": {},
   "outputs": [],
   "source": [
    "df_limpo.head()\n",
    "import matplotlib"
   ]
  },
  {
   "cell_type": "code",
   "execution_count": 48,
   "id": "18bfaccd",
   "metadata": {},
   "outputs": [
    {
     "data": {
      "text/plain": [
       "<Axes: title={'center': 'Distribuição de Senioridade'}, xlabel='senioridade'>"
      ]
     },
     "execution_count": 48,
     "metadata": {},
     "output_type": "execute_result"
    },
    {
     "data": {
      "image/png": "[encoded data removed]",
      "text/plain": [
       "<Figure size 640x480 with 1 Axes>"
      ]
     },
     "metadata": {},
     "output_type": "display_data"
    }
   ],
   "source": [
    "df_limpo['senioridade'].value_counts().plot(kind='bar', title= 'Distribuição de Senioridade')\n",
    "# usando plot, pegamos o tipo de grafico que será gerado (kind) e o titulo (title)"
   ]
  },
  {
   "cell_type": "code",
   "execution_count": 49,
   "id": "a87d8b6d",
   "metadata": {},
   "outputs": [
    {
     "data": {
      "text/plain": [
       "<Axes: title={'center': 'Tamanho da Empresa'}, xlabel='tamanho_empresa'>"
      ]
     },
     "execution_count": 49,
     "metadata": {},
     "output_type": "execute_result"
    },
    {
     "data": {
      "image/png": "[encoded data removed]",
      "text/plain": [
       "<Figure size 640x480 with 1 Axes>"
      ]
     },
     "metadata": {},
     "output_type": "display_data"
    }
   ],
   "source": [
    "df_limpo['tamanho_empresa'].value_counts().plot(kind='bar', title= 'Tamanho da Empresa')\n"
   ]
  },
  {
   "cell_type": "code",
   "execution_count": 50,
   "id": "afe7ec52",
   "metadata": {},
   "outputs": [],
   "source": [
    "#alem da matplotlib, temos também a seaborn para visualizar dados\n",
    "\n",
    "\n",
    "#### USANDO  SEABORN   #########\n",
    "import seaborn as sns"
   ]
  },
  {
   "cell_type": "code",
   "execution_count": 51,
   "id": "b7365201",
   "metadata": {},
   "outputs": [
    {
     "data": {
      "text/plain": [
       "<Axes: xlabel='senioridade', ylabel='usd'>"
      ]
     },
     "execution_count": 51,
     "metadata": {},
     "output_type": "execute_result"
    },
    {
     "data": {
      "image/png": "[encoded data removed]",
      "text/plain": [
       "<Figure size 640x480 with 1 Axes>"
      ]
     },
     "metadata": {},
     "output_type": "display_data"
    }
   ],
   "source": [
    "# Precisa passar quais sao os dados, o x e o y\n",
    "sns.barplot(data = df_limpo, x='senioridade', y='usd')"
   ]
  },
  {
   "cell_type": "code",
   "execution_count": 52,
   "id": "d1034e25",
   "metadata": {},
   "outputs": [],
   "source": [
    "# Agora fazendo usando o Matplotlib para customizar mais\n",
    "import matplotlib.pyplot as plt"
   ]
  },
  {
   "cell_type": "code",
   "execution_count": 53,
   "id": "e445c6c0",
   "metadata": {},
   "outputs": [
    {
     "data": {
      "image/png": "[encoded data removed]",
      "text/plain": [
       "<Figure size 800x500 with 1 Axes>"
      ]
     },
     "metadata": {},
     "output_type": "display_data"
    }
   ],
   "source": [
    "plt.figure(figsize=(8,5)) #aumenta o tamanho\n",
    "sns.barplot(data=df_limpo,x='senioridade',y='usd')\n",
    "plt.title('Salario Medio por Senioridade') #Titulo\n",
    "plt.xlabel('Nivel de Senioridade')  #Titulo X\n",
    "plt.ylabel('Salario em USD')   # Titulo Y\n",
    "plt.show()  # Mostra o gráfico"
   ]
  },
  {
   "cell_type": "code",
   "execution_count": 54,
   "id": "d76e3d9f",
   "metadata": {},
   "outputs": [
    {
     "data": {
      "text/plain": [
       "senioridade\n",
       "Executivo    202027.667813\n",
       "Senior       172850.838301\n",
       "Pleno        143044.845979\n",
       "Junior        99034.963267\n",
       "Name: usd, dtype: float64"
      ]
     },
     "execution_count": 54,
     "metadata": {},
     "output_type": "execute_result"
    }
   ],
   "source": [
    "# Ordenando o gráfico usando Group By\n",
    "df_limpo.groupby('senioridade')['usd'].mean().sort_values(ascending = False)\n"
   ]
  },
  {
   "cell_type": "code",
   "execution_count": 55,
   "id": "84d96297",
   "metadata": {},
   "outputs": [
    {
     "data": {
      "text/plain": [
       "Index(['Executivo', 'Senior', 'Pleno', 'Junior'], dtype='object', name='senioridade')"
      ]
     },
     "execution_count": 55,
     "metadata": {},
     "output_type": "execute_result"
    }
   ],
   "source": [
    "# salvando em uma variavel a ordenação\n",
    "ordem = df_limpo.groupby('senioridade')['usd'].mean().sort_values(ascending = False).index\n",
    "ordem"
   ]
  },
  {
   "cell_type": "code",
   "execution_count": 56,
   "id": "18d1b2da",
   "metadata": {},
   "outputs": [
    {
     "data": {
      "image/png": "[encoded data removed]",
      "text/plain": [
       "<Figure size 500x300 with 1 Axes>"
      ]
     },
     "metadata": {},
     "output_type": "display_data"
    }
   ],
   "source": [
    "plt.figure(figsize=(5,3)) #aumenta o tamanho\n",
    "sns.barplot(data=df_limpo,x='senioridade',y='usd',order=ordem) #adicionando a ordem\n",
    "plt.title('Salario Medio por Senioridade') #Titulo\n",
    "plt.xlabel('Nivel de Senioridade')  #Titulo X\n",
    "plt.ylabel('Salario em USD')   # Titulo Y\n",
    "plt.show()  # Mostra o gráfico"
   ]
  },
  {
   "cell_type": "code",
   "execution_count": 57,
   "id": "7067b3cc",
   "metadata": {},
   "outputs": [
    {
     "data": {
      "image/png": "[encoded data removed]",
      "text/plain": [
       "<Figure size 400x200 with 1 Axes>"
      ]
     },
     "metadata": {},
     "output_type": "display_data"
    }
   ],
   "source": [
    "# Vendo agora a distribuição salarial\n",
    "\n",
    "plt.figure(figsize=(4,2))\n",
    "sns.histplot(df_limpo['usd'],bins = 50, kde= True)\n",
    "# bins=50: divide os dados em 50 faixas (intervalos). Isso define a granularidade do histograma.\n",
    "# kde=True: adiciona uma linha de densidade (curva suave) ao gráfico, que mostra a estimativa da distribuição dos dados.\n",
    "plt.title('Salario medio por senioridade')\n",
    "plt.xlabel('Senioridade')\n",
    "plt.ylabel('Frequencia')\n",
    "plt.show()"
   ]
  },
  {
   "cell_type": "code",
   "execution_count": 58,
   "id": "d415a09c",
   "metadata": {},
   "outputs": [
    {
     "data": {
      "image/png": "[encoded data removed]",
      "text/plain": [
       "<Figure size 800x500 with 1 Axes>"
      ]
     },
     "metadata": {},
     "output_type": "display_data"
    }
   ],
   "source": [
    "plt.figure(figsize=(8,5))\n",
    "sns.boxplot(x=df_limpo['usd'])\n",
    "plt.title('Boxplot Salario')\n",
    "plt.xlabel('Salario em Usd')\n",
    "plt.show()"
   ]
  },
  {
   "cell_type": "code",
   "execution_count": 59,
   "id": "b7986579",
   "metadata": {},
   "outputs": [
    {
     "data": {
      "image/png": "[encoded data removed]",
      "text/plain": [
       "<Figure size 400x600 with 1 Axes>"
      ]
     },
     "metadata": {},
     "output_type": "display_data"
    }
   ],
   "source": [
    "ordem_senioridade = ['Junior','Pleno','Senior','Executivo']\n",
    "plt.figure(figsize=(4,6))\n",
    "sns.barplot(data=df_limpo,x='senioridade',y ='usd', order=ordem_senioridade, palette ='Set2',hue='senioridade')\n",
    "plt.title('Boxplot da distribuição por senioridade')\n",
    "plt.xlabel('Salario em USD')\n",
    "plt.show()"
   ]
  },
  {
   "cell_type": "code",
   "execution_count": 60,
   "id": "97bf97f0",
   "metadata": {},
   "outputs": [],
   "source": [
    "# GRAFICOS INTERATIVOS\n",
    "# Precisa usar a biblioteca Ploty"
   ]
  },
  {
   "cell_type": "code",
   "execution_count": 61,
   "id": "2089afa1",
   "metadata": {},
   "outputs": [
    {
     "data": {
      "application/vnd.plotly.v1+json": {
       "config": {
        "plotlyServerURL": "https://plot.ly"
       },
       "data": [
        {
         "hovertemplate": "senioridade=%{x}<br>Media Salarial Anual{USD}=%{y}<extra></extra>",
         "legendgroup": "",
         "marker": {
          "color": "#636efa",
          "pattern": {
           "shape": ""
          }
         },
         "name": "",
         "orientation": "v",
         "showlegend": false,
         "textposition": "auto",
         "type": "bar",
         "x": [
          "Executivo",
          "Senior",
          "Pleno",
          "Junior"
         ],
         "xaxis": "x",
         "y": {
          "bdata": "exSuV12pCEG8C9e0lhkFQbGbkMQmdgFB+EGKaa8t+EA=",
          "dtype": "f8"
         },
         "yaxis": "y"
        }
       ],
       "layout": {
        "barmode": "relative",
        "legend": {
         "tracegroupgap": 0
        },
        "template": {
         "data": {
          "bar": [
           {
            "error_x": {
             "color": "#2a3f5f"
            },
            "error_y": {
             "color": "#2a3f5f"
            },
            "marker": {
             "line": {
              "color": "#E5ECF6",
              "width": 0.5
             },
             "pattern": {
              "fillmode": "overlay",
              "size": 10,
              "solidity": 0.2
             }
            },
            "type": "bar"
           }
          ],
          "barpolar": [
           {
            "marker": {
             "line": {
              "color": "#E5ECF6",
              "width": 0.5
             },
             "pattern": {
              "fillmode": "overlay",
              "size": 10,
              "solidity": 0.2
             }
            },
            "type": "barpolar"
           }
          ],
          "carpet": [
           {
            "aaxis": {
             "endlinecolor": "#2a3f5f",
             "gridcolor": "white",
             "linecolor": "white",
             "minorgridcolor": "white",
             "startlinecolor": "#2a3f5f"
            },
            "baxis": {
             "endlinecolor": "#2a3f5f",
             "gridcolor": "white",
             "linecolor": "white",
             "minorgridcolor": "white",
             "startlinecolor": "#2a3f5f"
            },
            "type": "carpet"
           }
          ],
          "choropleth": [
           {
            "colorbar": {
             "outlinewidth": 0,
             "ticks": ""
            },
            "type": "choropleth"
           }
          ],
          "contour": [
           {
            "colorbar": {
             "outlinewidth": 0,
             "ticks": ""
            },
            "colorscale": [
             [
              0,
              "#0d0887"
             ],
             [
              0.1111111111111111,
              "#46039f"
             ],
             [
              0.2222222222222222,
              "#7201a8"
             ],
             [
              0.3333333333333333,
              "#9c179e"
             ],
             [
              0.4444444444444444,
              "#bd3786"
             ],
             [
              0.5555555555555556,
              "#d8576b"
             ],
             [
              0.6666666666666666,
              "#ed7953"
             ],
             [
              0.7777777777777778,
              "#fb9f3a"
             ],
             [
              0.8888888888888888,
              "#fdca26"
             ],
             [
              1,
              "#f0f921"
             ]
            ],
            "type": "contour"
           }
          ],
          "contourcarpet": [
           {
            "colorbar": {
             "outlinewidth": 0,
             "ticks": ""
            },
            "type": "contourcarpet"
           }
          ],
          "heatmap": [
           {
            "colorbar": {
             "outlinewidth": 0,
             "ticks": ""
            },
            "colorscale": [
             [
              0,
              "#0d0887"
             ],
             [
              0.1111111111111111,
              "#46039f"
             ],
             [
              0.2222222222222222,
              "#7201a8"
             ],
             [
              0.3333333333333333,
              "#9c179e"
             ],
             [
              0.4444444444444444,
              "#bd3786"
             ],
             [
              0.5555555555555556,
              "#d8576b"
             ],
             [
              0.6666666666666666,
              "#ed7953"
             ],
             [
              0.7777777777777778,
              "#fb9f3a"
             ],
             [
              0.8888888888888888,
              "#fdca26"
             ],
             [
              1,
              "#f0f921"
             ]
            ],
            "type": "heatmap"
           }
          ],
          "histogram": [
           {
            "marker": {
             "pattern": {
              "fillmode": "overlay",
              "size": 10,
              "solidity": 0.2
             }
            },
            "type": "histogram"
           }
          ],
          "histogram2d": [
           {
            "colorbar": {
             "outlinewidth": 0,
             "ticks": ""
            },
            "colorscale": [
             [
              0,
              "#0d0887"
             ],
             [
              0.1111111111111111,
              "#46039f"
             ],
             [
              0.2222222222222222,
              "#7201a8"
             ],
             [
              0.3333333333333333,
              "#9c179e"
             ],
             [
              0.4444444444444444,
              "#bd3786"
             ],
             [
              0.5555555555555556,
              "#d8576b"
             ],
             [
              0.6666666666666666,
              "#ed7953"
             ],
             [
              0.7777777777777778,
              "#fb9f3a"
             ],
             [
              0.8888888888888888,
              "#fdca26"
             ],
             [
              1,
              "#f0f921"
             ]
            ],
            "type": "histogram2d"
           }
          ],
          "histogram2dcontour": [
           {
            "colorbar": {
             "outlinewidth": 0,
             "ticks": ""
            },
            "colorscale": [
             [
              0,
              "#0d0887"
             ],
             [
              0.1111111111111111,
              "#46039f"
             ],
             [
              0.2222222222222222,
              "#7201a8"
             ],
             [
              0.3333333333333333,
              "#9c179e"
             ],
             [
              0.4444444444444444,
              "#bd3786"
             ],
             [
              0.5555555555555556,
              "#d8576b"
             ],
             [
              0.6666666666666666,
              "#ed7953"
             ],
             [
              0.7777777777777778,
              "#fb9f3a"
             ],
             [
              0.8888888888888888,
              "#fdca26"
             ],
             [
              1,
              "#f0f921"
             ]
            ],
            "type": "histogram2dcontour"
           }
          ],
          "mesh3d": [
           {
            "colorbar": {
             "outlinewidth": 0,
             "ticks": ""
            },
            "type": "mesh3d"
           }
          ],
          "parcoords": [
           {
            "line": {
             "colorbar": {
              "outlinewidth": 0,
              "ticks": ""
             }
            },
            "type": "parcoords"
           }
          ],
          "pie": [
           {
            "automargin": true,
            "type": "pie"
           }
          ],
          "scatter": [
           {
            "fillpattern": {
             "fillmode": "overlay",
             "size": 10,
             "solidity": 0.2
            },
            "type": "scatter"
           }
          ],
          "scatter3d": [
           {
            "line": {
             "colorbar": {
              "outlinewidth": 0,
              "ticks": ""
             }
            },
            "marker": {
             "colorbar": {
              "outlinewidth": 0,
              "ticks": ""
             }
            },
            "type": "scatter3d"
           }
          ],
          "scattercarpet": [
           {
            "marker": {
             "colorbar": {
              "outlinewidth": 0,
              "ticks": ""
             }
            },
            "type": "scattercarpet"
           }
          ],
          "scattergeo": [
           {
            "marker": {
             "colorbar": {
              "outlinewidth": 0,
              "ticks": ""
             }
            },
            "type": "scattergeo"
           }
          ],
          "scattergl": [
           {
            "marker": {
             "colorbar": {
              "outlinewidth": 0,
              "ticks": ""
             }
            },
            "type": "scattergl"
           }
          ],
          "scattermap": [
           {
            "marker": {
             "colorbar": {
              "outlinewidth": 0,
              "ticks": ""
             }
            },
            "type": "scattermap"
           }
          ],
          "scattermapbox": [
           {
            "marker": {
             "colorbar": {
              "outlinewidth": 0,
              "ticks": ""
             }
            },
            "type": "scattermapbox"
           }
          ],
          "scatterpolar": [
           {
            "marker": {
             "colorbar": {
              "outlinewidth": 0,
              "ticks": ""
             }
            },
            "type": "scatterpolar"
           }
          ],
          "scatterpolargl": [
           {
            "marker": {
             "colorbar": {
              "outlinewidth": 0,
              "ticks": ""
             }
            },
            "type": "scatterpolargl"
           }
          ],
          "scatterternary": [
           {
            "marker": {
             "colorbar": {
              "outlinewidth": 0,
              "ticks": ""
             }
            },
            "type": "scatterternary"
           }
          ],
          "surface": [
           {
            "colorbar": {
             "outlinewidth": 0,
             "ticks": ""
            },
            "colorscale": [
             [
              0,
              "#0d0887"
             ],
             [
              0.1111111111111111,
              "#46039f"
             ],
             [
              0.2222222222222222,
              "#7201a8"
             ],
             [
              0.3333333333333333,
              "#9c179e"
             ],
             [
              0.4444444444444444,
              "#bd3786"
             ],
             [
              0.5555555555555556,
              "#d8576b"
             ],
             [
              0.6666666666666666,
              "#ed7953"
             ],
             [
              0.7777777777777778,
              "#fb9f3a"
             ],
             [
              0.8888888888888888,
              "#fdca26"
             ],
             [
              1,
              "#f0f921"
             ]
            ],
            "type": "surface"
           }
          ],
          "table": [
           {
            "cells": {
             "fill": {
              "color": "#EBF0F8"
             },
             "line": {
              "color": "white"
             }
            },
            "header": {
             "fill": {
              "color": "#C8D4E3"
             },
             "line": {
              "color": "white"
             }
            },
            "type": "table"
           }
          ]
         },
         "layout": {
          "annotationdefaults": {
           "arrowcolor": "#2a3f5f",
           "arrowhead": 0,
           "arrowwidth": 1
          },
          "autotypenumbers": "strict",
          "coloraxis": {
           "colorbar": {
            "outlinewidth": 0,
            "ticks": ""
           }
          },
          "colorscale": {
           "diverging": [
            [
             0,
             "#8e0152"
            ],
            [
             0.1,
             "#c51b7d"
            ],
            [
             0.2,
             "#de77ae"
            ],
            [
             0.3,
             "#f1b6da"
            ],
            [
             0.4,
             "#fde0ef"
            ],
            [
             0.5,
             "#f7f7f7"
            ],
            [
             0.6,
             "#e6f5d0"
            ],
            [
             0.7,
             "#b8e186"
            ],
            [
             0.8,
             "#7fbc41"
            ],
            [
             0.9,
             "#4d9221"
            ],
            [
             1,
             "#276419"
            ]
           ],
           "sequential": [
            [
             0,
             "#0d0887"
            ],
            [
             0.1111111111111111,
             "#46039f"
            ],
            [
             0.2222222222222222,
             "#7201a8"
            ],
            [
             0.3333333333333333,
             "#9c179e"
            ],
            [
             0.4444444444444444,
             "#bd3786"
            ],
            [
             0.5555555555555556,
             "#d8576b"
            ],
            [
             0.6666666666666666,
             "#ed7953"
            ],
            [
             0.7777777777777778,
             "#fb9f3a"
            ],
            [
             0.8888888888888888,
             "#fdca26"
            ],
            [
             1,
             "#f0f921"
            ]
           ],
           "sequentialminus": [
            [
             0,
             "#0d0887"
            ],
            [
             0.1111111111111111,
             "#46039f"
            ],
            [
             0.2222222222222222,
             "#7201a8"
            ],
            [
             0.3333333333333333,
             "#9c179e"
            ],
            [
             0.4444444444444444,
             "#bd3786"
            ],
            [
             0.5555555555555556,
             "#d8576b"
            ],
            [
             0.6666666666666666,
             "#ed7953"
            ],
            [
             0.7777777777777778,
             "#fb9f3a"
            ],
            [
             0.8888888888888888,
             "#fdca26"
            ],
            [
             1,
             "#f0f921"
            ]
           ]
          },
          "colorway": [
           "#636efa",
           "#EF553B",
           "#00cc96",
           "#ab63fa",
           "#FFA15A",
           "#19d3f3",
           "#FF6692",
           "#B6E880",
           "#FF97FF",
           "#FECB52"
          ],
          "font": {
           "color": "#2a3f5f"
          },
          "geo": {
           "bgcolor": "white",
           "lakecolor": "white",
           "landcolor": "#E5ECF6",
           "showlakes": true,
           "showland": true,
           "subunitcolor": "white"
          },
          "hoverlabel": {
           "align": "left"
          },
          "hovermode": "closest",
          "mapbox": {
           "style": "light"
          },
          "paper_bgcolor": "white",
          "plot_bgcolor": "#E5ECF6",
          "polar": {
           "angularaxis": {
            "gridcolor": "white",
            "linecolor": "white",
            "ticks": ""
           },
           "bgcolor": "#E5ECF6",
           "radialaxis": {
            "gridcolor": "white",
            "linecolor": "white",
            "ticks": ""
           }
          },
          "scene": {
           "xaxis": {
            "backgroundcolor": "#E5ECF6",
            "gridcolor": "white",
            "gridwidth": 2,
            "linecolor": "white",
            "showbackground": true,
            "ticks": "",
            "zerolinecolor": "white"
           },
           "yaxis": {
            "backgroundcolor": "#E5ECF6",
            "gridcolor": "white",
            "gridwidth": 2,
            "linecolor": "white",
            "showbackground": true,
            "ticks": "",
            "zerolinecolor": "white"
           },
           "zaxis": {
            "backgroundcolor": "#E5ECF6",
            "gridcolor": "white",
            "gridwidth": 2,
            "linecolor": "white",
            "showbackground": true,
            "ticks": "",
            "zerolinecolor": "white"
           }
          },
          "shapedefaults": {
           "line": {
            "color": "#2a3f5f"
           }
          },
          "ternary": {
           "aaxis": {
            "gridcolor": "white",
            "linecolor": "white",
            "ticks": ""
           },
           "baxis": {
            "gridcolor": "white",
            "linecolor": "white",
            "ticks": ""
           },
           "bgcolor": "#E5ECF6",
           "caxis": {
            "gridcolor": "white",
            "linecolor": "white",
            "ticks": ""
           }
          },
          "title": {
           "x": 0.05
          },
          "xaxis": {
           "automargin": true,
           "gridcolor": "white",
           "linecolor": "white",
           "ticks": "",
           "title": {
            "standoff": 15
           },
           "zerolinecolor": "white",
           "zerolinewidth": 2
          },
          "yaxis": {
           "automargin": true,
           "gridcolor": "white",
           "linecolor": "white",
           "ticks": "",
           "title": {
            "standoff": 15
           },
           "zerolinecolor": "white",
           "zerolinewidth": 2
          }
         }
        },
        "title": {
         "text": "Média Salarial por Senioridade"
        },
        "xaxis": {
         "anchor": "y",
         "domain": [
          0,
          1
         ],
         "title": {
          "text": "senioridade"
         }
        },
        "yaxis": {
         "anchor": "x",
         "domain": [
          0,
          1
         ],
         "title": {
          "text": "Media Salarial Anual{USD}"
         }
        }
       }
      }
     },
     "metadata": {},
     "output_type": "display_data"
    }
   ],
   "source": [
    "import plotly.express as px\n",
    "\n",
    "senioridade_media_salario = df_limpo.groupby('senioridade')['usd'].mean().sort_values(ascending=False).reset_index()\n",
    "\n",
    "fig = px.bar(senioridade_media_salario,\n",
    "            x='senioridade',\n",
    "            y='usd',\n",
    "            title='Média Salarial por Senioridade',\n",
    "            labels={'seniroidade':'Nivel de Senioridade','usd':'Media Salarial Anual{USD}'})\n",
    "\n",
    "fig.show()"
   ]
  },
  {
   "cell_type": "code",
   "execution_count": 62,
   "id": "c4119d24",
   "metadata": {},
   "outputs": [],
   "source": [
    "# Grafico de Pizza #"
   ]
  },
  {
   "cell_type": "code",
   "execution_count": 63,
   "id": "72c684d2",
   "metadata": {},
   "outputs": [
    {
     "data": {
      "application/vnd.plotly.v1+json": {
       "config": {
        "plotlyServerURL": "https://plot.ly"
       },
       "data": [
        {
         "domain": {
          "x": [
           0,
           1
          ],
          "y": [
           0,
           1
          ]
         },
         "hole": 0.3,
         "hovertemplate": "tipo_trabalho=%{label}<br>quantidade=%{value}<extra></extra>",
         "labels": {
          "bdata": "AGQy",
          "dtype": "i1"
         },
         "legendgroup": "",
         "name": "",
         "showlegend": true,
         "textinfo": "percent+label",
         "type": "pie",
         "values": {
          "bdata": "WZsBAERsAAA+AQAA",
          "dtype": "i4"
         }
        }
       ],
       "layout": {
        "legend": {
         "tracegroupgap": 0
        },
        "template": {
         "data": {
          "bar": [
           {
            "error_x": {
             "color": "#2a3f5f"
            },
            "error_y": {
             "color": "#2a3f5f"
            },
            "marker": {
             "line": {
              "color": "#E5ECF6",
              "width": 0.5
             },
             "pattern": {
              "fillmode": "overlay",
              "size": 10,
              "solidity": 0.2
             }
            },
            "type": "bar"
           }
          ],
          "barpolar": [
           {
            "marker": {
             "line": {
              "color": "#E5ECF6",
              "width": 0.5
             },
             "pattern": {
              "fillmode": "overlay",
              "size": 10,
              "solidity": 0.2
             }
            },
            "type": "barpolar"
           }
          ],
          "carpet": [
           {
            "aaxis": {
             "endlinecolor": "#2a3f5f",
             "gridcolor": "white",
             "linecolor": "white",
             "minorgridcolor": "white",
             "startlinecolor": "#2a3f5f"
            },
            "baxis": {
             "endlinecolor": "#2a3f5f",
             "gridcolor": "white",
             "linecolor": "white",
             "minorgridcolor": "white",
             "startlinecolor": "#2a3f5f"
            },
            "type": "carpet"
           }
          ],
          "choropleth": [
           {
            "colorbar": {
             "outlinewidth": 0,
             "ticks": ""
            },
            "type": "choropleth"
           }
          ],
          "contour": [
           {
            "colorbar": {
             "outlinewidth": 0,
             "ticks": ""
            },
            "colorscale": [
             [
              0,
              "#0d0887"
             ],
             [
              0.1111111111111111,
              "#46039f"
             ],
             [
              0.2222222222222222,
              "#7201a8"
             ],
             [
              0.3333333333333333,
              "#9c179e"
             ],
             [
              0.4444444444444444,
              "#bd3786"
             ],
             [
              0.5555555555555556,
              "#d8576b"
             ],
             [
              0.6666666666666666,
              "#ed7953"
             ],
             [
              0.7777777777777778,
              "#fb9f3a"
             ],
             [
              0.8888888888888888,
              "#fdca26"
             ],
             [
              1,
              "#f0f921"
             ]
            ],
            "type": "contour"
           }
          ],
          "contourcarpet": [
           {
            "colorbar": {
             "outlinewidth": 0,
             "ticks": ""
            },
            "type": "contourcarpet"
           }
          ],
          "heatmap": [
           {
            "colorbar": {
             "outlinewidth": 0,
             "ticks": ""
            },
            "colorscale": [
             [
              0,
              "#0d0887"
             ],
             [
              0.1111111111111111,
              "#46039f"
             ],
             [
              0.2222222222222222,
              "#7201a8"
             ],
             [
              0.3333333333333333,
              "#9c179e"
             ],
             [
              0.4444444444444444,
              "#bd3786"
             ],
             [
              0.5555555555555556,
              "#d8576b"
             ],
             [
              0.6666666666666666,
              "#ed7953"
             ],
             [
              0.7777777777777778,
              "#fb9f3a"
             ],
             [
              0.8888888888888888,
              "#fdca26"
             ],
             [
              1,
              "#f0f921"
             ]
            ],
            "type": "heatmap"
           }
          ],
          "histogram": [
           {
            "marker": {
             "pattern": {
              "fillmode": "overlay",
              "size": 10,
              "solidity": 0.2
             }
            },
            "type": "histogram"
           }
          ],
          "histogram2d": [
           {
            "colorbar": {
             "outlinewidth": 0,
             "ticks": ""
            },
            "colorscale": [
             [
              0,
              "#0d0887"
             ],
             [
              0.1111111111111111,
              "#46039f"
             ],
             [
              0.2222222222222222,
              "#7201a8"
             ],
             [
              0.3333333333333333,
              "#9c179e"
             ],
             [
              0.4444444444444444,
              "#bd3786"
             ],
             [
              0.5555555555555556,
              "#d8576b"
             ],
             [
              0.6666666666666666,
              "#ed7953"
             ],
             [
              0.7777777777777778,
              "#fb9f3a"
             ],
             [
              0.8888888888888888,
              "#fdca26"
             ],
             [
              1,
              "#f0f921"
             ]
            ],
            "type": "histogram2d"
           }
          ],
          "histogram2dcontour": [
           {
            "colorbar": {
             "outlinewidth": 0,
             "ticks": ""
            },
            "colorscale": [
             [
              0,
              "#0d0887"
             ],
             [
              0.1111111111111111,
              "#46039f"
             ],
             [
              0.2222222222222222,
              "#7201a8"
             ],
             [
              0.3333333333333333,
              "#9c179e"
             ],
             [
              0.4444444444444444,
              "#bd3786"
             ],
             [
              0.5555555555555556,
              "#d8576b"
             ],
             [
              0.6666666666666666,
              "#ed7953"
             ],
             [
              0.7777777777777778,
              "#fb9f3a"
             ],
             [
              0.8888888888888888,
              "#fdca26"
             ],
             [
              1,
              "#f0f921"
             ]
            ],
            "type": "histogram2dcontour"
           }
          ],
          "mesh3d": [
           {
            "colorbar": {
             "outlinewidth": 0,
             "ticks": ""
            },
            "type": "mesh3d"
           }
          ],
          "parcoords": [
           {
            "line": {
             "colorbar": {
              "outlinewidth": 0,
              "ticks": ""
             }
            },
            "type": "parcoords"
           }
          ],
          "pie": [
           {
            "automargin": true,
            "type": "pie"
           }
          ],
          "scatter": [
           {
            "fillpattern": {
             "fillmode": "overlay",
             "size": 10,
             "solidity": 0.2
            },
            "type": "scatter"
           }
          ],
          "scatter3d": [
           {
            "line": {
             "colorbar": {
              "outlinewidth": 0,
              "ticks": ""
             }
            },
            "marker": {
             "colorbar": {
              "outlinewidth": 0,
              "ticks": ""
             }
            },
            "type": "scatter3d"
           }
          ],
          "scattercarpet": [
           {
            "marker": {
             "colorbar": {
              "outlinewidth": 0,
              "ticks": ""
             }
            },
            "type": "scattercarpet"
           }
          ],
          "scattergeo": [
           {
            "marker": {
             "colorbar": {
              "outlinewidth": 0,
              "ticks": ""
             }
            },
            "type": "scattergeo"
           }
          ],
          "scattergl": [
           {
            "marker": {
             "colorbar": {
              "outlinewidth": 0,
              "ticks": ""
             }
            },
            "type": "scattergl"
           }
          ],
          "scattermap": [
           {
            "marker": {
             "colorbar": {
              "outlinewidth": 0,
              "ticks": ""
             }
            },
            "type": "scattermap"
           }
          ],
          "scattermapbox": [
           {
            "marker": {
             "colorbar": {
              "outlinewidth": 0,
              "ticks": ""
             }
            },
            "type": "scattermapbox"
           }
          ],
          "scatterpolar": [
           {
            "marker": {
             "colorbar": {
              "outlinewidth": 0,
              "ticks": ""
             }
            },
            "type": "scatterpolar"
           }
          ],
          "scatterpolargl": [
           {
            "marker": {
             "colorbar": {
              "outlinewidth": 0,
              "ticks": ""
             }
            },
            "type": "scatterpolargl"
           }
          ],
          "scatterternary": [
           {
            "marker": {
             "colorbar": {
              "outlinewidth": 0,
              "ticks": ""
             }
            },
            "type": "scatterternary"
           }
          ],
          "surface": [
           {
            "colorbar": {
             "outlinewidth": 0,
             "ticks": ""
            },
            "colorscale": [
             [
              0,
              "#0d0887"
             ],
             [
              0.1111111111111111,
              "#46039f"
             ],
             [
              0.2222222222222222,
              "#7201a8"
             ],
             [
              0.3333333333333333,
              "#9c179e"
             ],
             [
              0.4444444444444444,
              "#bd3786"
             ],
             [
              0.5555555555555556,
              "#d8576b"
             ],
             [
              0.6666666666666666,
              "#ed7953"
             ],
             [
              0.7777777777777778,
              "#fb9f3a"
             ],
             [
              0.8888888888888888,
              "#fdca26"
             ],
             [
              1,
              "#f0f921"
             ]
            ],
            "type": "surface"
           }
          ],
          "table": [
           {
            "cells": {
             "fill": {
              "color": "#EBF0F8"
             },
             "line": {
              "color": "white"
             }
            },
            "header": {
             "fill": {
              "color": "#C8D4E3"
             },
             "line": {
              "color": "white"
             }
            },
            "type": "table"
           }
          ]
         },
         "layout": {
          "annotationdefaults": {
           "arrowcolor": "#2a3f5f",
           "arrowhead": 0,
           "arrowwidth": 1
          },
          "autotypenumbers": "strict",
          "coloraxis": {
           "colorbar": {
            "outlinewidth": 0,
            "ticks": ""
           }
          },
          "colorscale": {
           "diverging": [
            [
             0,
             "#8e0152"
            ],
            [
             0.1,
             "#c51b7d"
            ],
            [
             0.2,
             "#de77ae"
            ],
            [
             0.3,
             "#f1b6da"
            ],
            [
             0.4,
             "#fde0ef"
            ],
            [
             0.5,
             "#f7f7f7"
            ],
            [
             0.6,
             "#e6f5d0"
            ],
            [
             0.7,
             "#b8e186"
            ],
            [
             0.8,
             "#7fbc41"
            ],
            [
             0.9,
             "#4d9221"
            ],
            [
             1,
             "#276419"
            ]
           ],
           "sequential": [
            [
             0,
             "#0d0887"
            ],
            [
             0.1111111111111111,
             "#46039f"
            ],
            [
             0.2222222222222222,
             "#7201a8"
            ],
            [
             0.3333333333333333,
             "#9c179e"
            ],
            [
             0.4444444444444444,
             "#bd3786"
            ],
            [
             0.5555555555555556,
             "#d8576b"
            ],
            [
             0.6666666666666666,
             "#ed7953"
            ],
            [
             0.7777777777777778,
             "#fb9f3a"
            ],
            [
             0.8888888888888888,
             "#fdca26"
            ],
            [
             1,
             "#f0f921"
            ]
           ],
           "sequentialminus": [
            [
             0,
             "#0d0887"
            ],
            [
             0.1111111111111111,
             "#46039f"
            ],
            [
             0.2222222222222222,
             "#7201a8"
            ],
            [
             0.3333333333333333,
             "#9c179e"
            ],
            [
             0.4444444444444444,
             "#bd3786"
            ],
            [
             0.5555555555555556,
             "#d8576b"
            ],
            [
             0.6666666666666666,
             "#ed7953"
            ],
            [
             0.7777777777777778,
             "#fb9f3a"
            ],
            [
             0.8888888888888888,
             "#fdca26"
            ],
            [
             1,
             "#f0f921"
            ]
           ]
          },
          "colorway": [
           "#636efa",
           "#EF553B",
           "#00cc96",
           "#ab63fa",
           "#FFA15A",
           "#19d3f3",
           "#FF6692",
           "#B6E880",
           "#FF97FF",
           "#FECB52"
          ],
          "font": {
           "color": "#2a3f5f"
          },
          "geo": {
           "bgcolor": "white",
           "lakecolor": "white",
           "landcolor": "#E5ECF6",
           "showlakes": true,
           "showland": true,
           "subunitcolor": "white"
          },
          "hoverlabel": {
           "align": "left"
          },
          "hovermode": "closest",
          "mapbox": {
           "style": "light"
          },
          "paper_bgcolor": "white",
          "plot_bgcolor": "#E5ECF6",
          "polar": {
           "angularaxis": {
            "gridcolor": "white",
            "linecolor": "white",
            "ticks": ""
           },
           "bgcolor": "#E5ECF6",
           "radialaxis": {
            "gridcolor": "white",
            "linecolor": "white",
            "ticks": ""
           }
          },
          "scene": {
           "xaxis": {
            "backgroundcolor": "#E5ECF6",
            "gridcolor": "white",
            "gridwidth": 2,
            "linecolor": "white",
            "showbackground": true,
            "ticks": "",
            "zerolinecolor": "white"
           },
           "yaxis": {
            "backgroundcolor": "#E5ECF6",
            "gridcolor": "white",
            "gridwidth": 2,
            "linecolor": "white",
            "showbackground": true,
            "ticks": "",
            "zerolinecolor": "white"
           },
           "zaxis": {
            "backgroundcolor": "#E5ECF6",
            "gridcolor": "white",
            "gridwidth": 2,
            "linecolor": "white",
            "showbackground": true,
            "ticks": "",
            "zerolinecolor": "white"
           }
          },
          "shapedefaults": {
           "line": {
            "color": "#2a3f5f"
           }
          },
          "ternary": {
           "aaxis": {
            "gridcolor": "white",
            "linecolor": "white",
            "ticks": ""
           },
           "baxis": {
            "gridcolor": "white",
            "linecolor": "white",
            "ticks": ""
           },
           "bgcolor": "#E5ECF6",
           "caxis": {
            "gridcolor": "white",
            "linecolor": "white",
            "ticks": ""
           }
          },
          "title": {
           "x": 0.05
          },
          "xaxis": {
           "automargin": true,
           "gridcolor": "white",
           "linecolor": "white",
           "ticks": "",
           "title": {
            "standoff": 15
           },
           "zerolinecolor": "white",
           "zerolinewidth": 2
          },
          "yaxis": {
           "automargin": true,
           "gridcolor": "white",
           "linecolor": "white",
           "ticks": "",
           "title": {
            "standoff": 15
           },
           "zerolinecolor": "white",
           "zerolinewidth": 2
          }
         }
        },
        "title": {
         "text": "Proporção dos tipos de trabalho"
        }
       }
      }
     },
     "metadata": {},
     "output_type": "display_data"
    }
   ],
   "source": [
    "remoto_contagem = df_limpo['remoto'].value_counts().reset_index()\n",
    "remoto_contagem.columns = ['tipo_trabalho','quantidade']\n",
    "\n",
    "fig = px.pie(remoto_contagem,\n",
    "            names = 'tipo_trabalho', \n",
    "            values='quantidade',\n",
    "            title='Proporção dos tipos de trabalho',\n",
    "            hole=0.3\n",
    "            )\n",
    "\n",
    "fig.update_traces(textinfo='percent+label')\n",
    "fig.show()"
   ]
  },
  {
   "cell_type": "code",
   "execution_count": 64,
   "id": "c9625ea1",
   "metadata": {},
   "outputs": [],
   "source": [
    "# DESAFIO\n",
    "# - SALARIO X PAIS no cargo cientista de Dados"
   ]
  },
  {
   "cell_type": "code",
   "execution_count": 65,
   "id": "ed6fd172",
   "metadata": {},
   "outputs": [
    {
     "data": {
      "text/html": [
       "<div>\n",
       "<style scoped>\n",
       "    .dataframe tbody tr th:only-of-type {\n",
       "        vertical-align: middle;\n",
       "    }\n",
       "\n",
       "    .dataframe tbody tr th {\n",
       "        vertical-align: top;\n",
       "    }\n",
       "\n",
       "    .dataframe thead th {\n",
       "        text-align: right;\n",
       "    }\n",
       "</style>\n",
       "<table border=\"1\" class=\"dataframe\">\n",
       "  <thead>\n",
       "    <tr style=\"text-align: right;\">\n",
       "      <th></th>\n",
       "      <th>ano</th>\n",
       "      <th>senioridade</th>\n",
       "      <th>contrato</th>\n",
       "      <th>cargo</th>\n",
       "      <th>salario</th>\n",
       "      <th>moeda</th>\n",
       "      <th>usd</th>\n",
       "      <th>residencia</th>\n",
       "      <th>remoto</th>\n",
       "      <th>empresa</th>\n",
       "      <th>tamanho_empresa</th>\n",
       "    </tr>\n",
       "  </thead>\n",
       "  <tbody>\n",
       "    <tr>\n",
       "      <th>0</th>\n",
       "      <td>2025</td>\n",
       "      <td>Senior</td>\n",
       "      <td>Tempo Integral</td>\n",
       "      <td>Solutions Engineer</td>\n",
       "      <td>214000</td>\n",
       "      <td>USD</td>\n",
       "      <td>214000</td>\n",
       "      <td>US</td>\n",
       "      <td>100</td>\n",
       "      <td>US</td>\n",
       "      <td>M</td>\n",
       "    </tr>\n",
       "    <tr>\n",
       "      <th>1</th>\n",
       "      <td>2025</td>\n",
       "      <td>Senior</td>\n",
       "      <td>Tempo Integral</td>\n",
       "      <td>Solutions Engineer</td>\n",
       "      <td>136000</td>\n",
       "      <td>USD</td>\n",
       "      <td>136000</td>\n",
       "      <td>US</td>\n",
       "      <td>100</td>\n",
       "      <td>US</td>\n",
       "      <td>M</td>\n",
       "    </tr>\n",
       "    <tr>\n",
       "      <th>2</th>\n",
       "      <td>2025</td>\n",
       "      <td>Pleno</td>\n",
       "      <td>Tempo Integral</td>\n",
       "      <td>Data Engineer</td>\n",
       "      <td>158800</td>\n",
       "      <td>USD</td>\n",
       "      <td>158800</td>\n",
       "      <td>AU</td>\n",
       "      <td>0</td>\n",
       "      <td>AU</td>\n",
       "      <td>M</td>\n",
       "    </tr>\n",
       "    <tr>\n",
       "      <th>3</th>\n",
       "      <td>2025</td>\n",
       "      <td>Pleno</td>\n",
       "      <td>Tempo Integral</td>\n",
       "      <td>Data Engineer</td>\n",
       "      <td>139200</td>\n",
       "      <td>USD</td>\n",
       "      <td>139200</td>\n",
       "      <td>AU</td>\n",
       "      <td>0</td>\n",
       "      <td>AU</td>\n",
       "      <td>M</td>\n",
       "    </tr>\n",
       "    <tr>\n",
       "      <th>4</th>\n",
       "      <td>2025</td>\n",
       "      <td>Junior</td>\n",
       "      <td>Tempo Integral</td>\n",
       "      <td>Data Engineer</td>\n",
       "      <td>90000</td>\n",
       "      <td>USD</td>\n",
       "      <td>90000</td>\n",
       "      <td>US</td>\n",
       "      <td>0</td>\n",
       "      <td>US</td>\n",
       "      <td>M</td>\n",
       "    </tr>\n",
       "    <tr>\n",
       "      <th>...</th>\n",
       "      <td>...</td>\n",
       "      <td>...</td>\n",
       "      <td>...</td>\n",
       "      <td>...</td>\n",
       "      <td>...</td>\n",
       "      <td>...</td>\n",
       "      <td>...</td>\n",
       "      <td>...</td>\n",
       "      <td>...</td>\n",
       "      <td>...</td>\n",
       "      <td>...</td>\n",
       "    </tr>\n",
       "    <tr>\n",
       "      <th>133344</th>\n",
       "      <td>2020</td>\n",
       "      <td>Senior</td>\n",
       "      <td>Tempo Integral</td>\n",
       "      <td>Data Scientist</td>\n",
       "      <td>412000</td>\n",
       "      <td>USD</td>\n",
       "      <td>412000</td>\n",
       "      <td>US</td>\n",
       "      <td>100</td>\n",
       "      <td>US</td>\n",
       "      <td>L</td>\n",
       "    </tr>\n",
       "    <tr>\n",
       "      <th>133345</th>\n",
       "      <td>2021</td>\n",
       "      <td>Pleno</td>\n",
       "      <td>Tempo Integral</td>\n",
       "      <td>Principal Data Scientist</td>\n",
       "      <td>151000</td>\n",
       "      <td>USD</td>\n",
       "      <td>151000</td>\n",
       "      <td>US</td>\n",
       "      <td>100</td>\n",
       "      <td>US</td>\n",
       "      <td>L</td>\n",
       "    </tr>\n",
       "    <tr>\n",
       "      <th>133346</th>\n",
       "      <td>2020</td>\n",
       "      <td>Junior</td>\n",
       "      <td>Tempo Integral</td>\n",
       "      <td>Data Scientist</td>\n",
       "      <td>105000</td>\n",
       "      <td>USD</td>\n",
       "      <td>105000</td>\n",
       "      <td>US</td>\n",
       "      <td>100</td>\n",
       "      <td>US</td>\n",
       "      <td>S</td>\n",
       "    </tr>\n",
       "    <tr>\n",
       "      <th>133347</th>\n",
       "      <td>2020</td>\n",
       "      <td>Junior</td>\n",
       "      <td>Contrato</td>\n",
       "      <td>Business Data Analyst</td>\n",
       "      <td>100000</td>\n",
       "      <td>USD</td>\n",
       "      <td>100000</td>\n",
       "      <td>US</td>\n",
       "      <td>100</td>\n",
       "      <td>US</td>\n",
       "      <td>L</td>\n",
       "    </tr>\n",
       "    <tr>\n",
       "      <th>133348</th>\n",
       "      <td>2021</td>\n",
       "      <td>Senior</td>\n",
       "      <td>Tempo Integral</td>\n",
       "      <td>Data Scientist</td>\n",
       "      <td>7000000</td>\n",
       "      <td>INR</td>\n",
       "      <td>94665</td>\n",
       "      <td>IN</td>\n",
       "      <td>50</td>\n",
       "      <td>IN</td>\n",
       "      <td>L</td>\n",
       "    </tr>\n",
       "  </tbody>\n",
       "</table>\n",
       "<p>133339 rows × 11 columns</p>\n",
       "</div>"
      ],
      "text/plain": [
       "         ano senioridade        contrato                     cargo  salario  \\\n",
       "0       2025      Senior  Tempo Integral        Solutions Engineer   214000   \n",
       "1       2025      Senior  Tempo Integral        Solutions Engineer   136000   \n",
       "2       2025       Pleno  Tempo Integral             Data Engineer   158800   \n",
       "3       2025       Pleno  Tempo Integral             Data Engineer   139200   \n",
       "4       2025      Junior  Tempo Integral             Data Engineer    90000   \n",
       "...      ...         ...             ...                       ...      ...   \n",
       "133344  2020      Senior  Tempo Integral            Data Scientist   412000   \n",
       "133345  2021       Pleno  Tempo Integral  Principal Data Scientist   151000   \n",
       "133346  2020      Junior  Tempo Integral            Data Scientist   105000   \n",
       "133347  2020      Junior        Contrato     Business Data Analyst   100000   \n",
       "133348  2021      Senior  Tempo Integral            Data Scientist  7000000   \n",
       "\n",
       "       moeda     usd residencia  remoto empresa tamanho_empresa  \n",
       "0        USD  214000         US     100      US               M  \n",
       "1        USD  136000         US     100      US               M  \n",
       "2        USD  158800         AU       0      AU               M  \n",
       "3        USD  139200         AU       0      AU               M  \n",
       "4        USD   90000         US       0      US               M  \n",
       "...      ...     ...        ...     ...     ...             ...  \n",
       "133344   USD  412000         US     100      US               L  \n",
       "133345   USD  151000         US     100      US               L  \n",
       "133346   USD  105000         US     100      US               S  \n",
       "133347   USD  100000         US     100      US               L  \n",
       "133348   INR   94665         IN      50      IN               L  \n",
       "\n",
       "[133339 rows x 11 columns]"
      ]
     },
     "execution_count": 65,
     "metadata": {},
     "output_type": "execute_result"
    }
   ],
   "source": [
    "df_limpo"
   ]
  },
  {
   "cell_type": "code",
   "execution_count": 66,
   "id": "d8fc76e0",
   "metadata": {},
   "outputs": [
    {
     "data": {
      "application/vnd.plotly.v1+json": {
       "config": {
        "plotlyServerURL": "https://plot.ly"
       },
       "data": [
        {
         "hovertemplate": "residencia=%{x}<br>salario=%{y}<extra></extra>",
         "legendgroup": "",
         "marker": {
          "color": "#636efa",
          "pattern": {
           "shape": ""
          }
         },
         "name": "",
         "orientation": "v",
         "showlegend": false,
         "textposition": "auto",
         "type": "bar",
         "x": [
          "HU",
          "JP",
          "IN",
          "CL",
          "TW",
          "PH",
          "CZ",
          "TH",
          "NO",
          "QA",
          "CD",
          "DK",
          "IL",
          "PL",
          "HK",
          "VE",
          "SE",
          "US",
          "SA",
          "SG",
          "CA",
          "PR",
          "AU",
          "MX",
          "LB",
          "ZA",
          "CN",
          "NZ",
          "EG",
          "BR",
          "TR",
          "MY",
          "UA",
          "IE",
          "BE",
          "CH",
          "BG",
          "BM",
          "IR",
          "JE",
          "MU",
          "IQ",
          "DE",
          "PA",
          "TN",
          "KR",
          "AE",
          "FI",
          "UZ",
          "RW",
          "GB",
          "RU",
          "AR",
          "IT",
          "MT",
          "BO",
          "BA",
          "NL",
          "LS",
          "LU",
          "RS",
          "FR",
          "MD",
          "HR",
          "CO",
          "ID",
          "KE",
          "ES",
          "MK",
          "ZM",
          "HN",
          "PT",
          "VN",
          "LT",
          "AT",
          "PE",
          "NG",
          "GE",
          "SI",
          "GR",
          "KW",
          "DZ",
          "AD",
          "OM",
          "EE",
          "CY",
          "AS",
          "JO",
          "AM",
          "LV",
          "PK",
          "CR",
          "CF",
          "DO",
          "RO",
          "XK",
          "UG",
          "GH",
          "SK",
          "JM",
          "SV",
          "EC"
         ],
         "xaxis": "x",
         "y": {
          "bdata": "AAAAAIOiW0F00UUXzx9PQTSc1D0Cnj5BwzAMwwgGN0EPDw8P7xksQZ3dwq+uKiVBq6qqKoycIEEAAAAAeDgdQauqqqoSdhtBAAAAAIBPEkEAAAAA4MgQQeQ4juN4nRBBAAAAAMBpD0HQusEUucsIQQAAAABM8wdBAAAAAKB/B0FVVVVV9YAEQQ4/GUwQAQRBq6qqqvoWAUGkQRqkgcMAQflkdf1JfQBBAAAAAABoAEGz69SqGyUAQbgehetZsv9AVVVVVRV0/0AykR6onPT+QAAAAADAnf5A+OCDDzYF/UAAAAAA4Jv8QB8a60OLM/xAfBphuecw/EBVVVVVFfv6QDmO4zheJvpAxMPDwx+v+UCamZmZsWn5QBPaS2hPZ/lAq6qqquov+UAAAAAAAGr4QAAAAAAAavhAAAAAAABq+EAAAAAAAGr4QAAAAAAAavhAVVVVVb89+EAAAAAAgPf1QAAAAADA2fVAq6qqqtqZ9UBVVVVV1ZD1QNmJndgJX/RAAAAAAAAF9EAAAAAAAIjzQBwbCYQKU/NAVVVVVWVQ80BCGqRBikDzQKuqqqoWI/NAaWlpaSmM8kAAAAAAgE/yQAAAAACAT/JAiQKTTk3K8UAAAAAAMIzxQKuqqqpqpPBAAAAAAECg8EBSKnP6d2zwQAAAAABAPPBAAAAAAAAL8EBeidqVKJruQAAAAADAcu5A27Zt27bs7UDHIvzj9MvtQAAAAAAAsO1AAAAAAABM7UCrqqqqqvjsQCd2Yif2IOxAAAAAAADu60BqKkQbrq/rQNeW6YlgjOtAAAAAAABd60Bu27ZtWyvrQAAAAACAH+pAq6qqqqoQ6UAaYbmnkbHoQAAAAAAAauhAq6qqqqoc50AAAAAAAPPmQAAAAAAA4OZAS0tLS0uZ5kCrqqqqqobmQAAAAABgPuZAAAAAAAD55UAAAAAAAMflQDGdxXSW5ORA27Zt27Za5EC3bdu2bc/jQAAAAAAAiONAAAAAAIBJ40BGF1100SrjQAAAAAAAC+NAAAAAAACU4UAAAAAAQLngQAt8cfWDj99AAAAAAEBl3kAAAAAAAMjZQKuqqqqqFthA",
          "dtype": "f8"
         },
         "yaxis": "y"
        }
       ],
       "layout": {
        "barmode": "relative",
        "legend": {
         "tracegroupgap": 0
        },
        "template": {
         "data": {
          "bar": [
           {
            "error_x": {
             "color": "#2a3f5f"
            },
            "error_y": {
             "color": "#2a3f5f"
            },
            "marker": {
             "line": {
              "color": "#E5ECF6",
              "width": 0.5
             },
             "pattern": {
              "fillmode": "overlay",
              "size": 10,
              "solidity": 0.2
             }
            },
            "type": "bar"
           }
          ],
          "barpolar": [
           {
            "marker": {
             "line": {
              "color": "#E5ECF6",
              "width": 0.5
             },
             "pattern": {
              "fillmode": "overlay",
              "size": 10,
              "solidity": 0.2
             }
            },
            "type": "barpolar"
           }
          ],
          "carpet": [
           {
            "aaxis": {
             "endlinecolor": "#2a3f5f",
             "gridcolor": "white",
             "linecolor": "white",
             "minorgridcolor": "white",
             "startlinecolor": "#2a3f5f"
            },
            "baxis": {
             "endlinecolor": "#2a3f5f",
             "gridcolor": "white",
             "linecolor": "white",
             "minorgridcolor": "white",
             "startlinecolor": "#2a3f5f"
            },
            "type": "carpet"
           }
          ],
          "choropleth": [
           {
            "colorbar": {
             "outlinewidth": 0,
             "ticks": ""
            },
            "type": "choropleth"
           }
          ],
          "contour": [
           {
            "colorbar": {
             "outlinewidth": 0,
             "ticks": ""
            },
            "colorscale": [
             [
              0,
              "#0d0887"
             ],
             [
              0.1111111111111111,
              "#46039f"
             ],
             [
              0.2222222222222222,
              "#7201a8"
             ],
             [
              0.3333333333333333,
              "#9c179e"
             ],
             [
              0.4444444444444444,
              "#bd3786"
             ],
             [
              0.5555555555555556,
              "#d8576b"
             ],
             [
              0.6666666666666666,
              "#ed7953"
             ],
             [
              0.7777777777777778,
              "#fb9f3a"
             ],
             [
              0.8888888888888888,
              "#fdca26"
             ],
             [
              1,
              "#f0f921"
             ]
            ],
            "type": "contour"
           }
          ],
          "contourcarpet": [
           {
            "colorbar": {
             "outlinewidth": 0,
             "ticks": ""
            },
            "type": "contourcarpet"
           }
          ],
          "heatmap": [
           {
            "colorbar": {
             "outlinewidth": 0,
             "ticks": ""
            },
            "colorscale": [
             [
              0,
              "#0d0887"
             ],
             [
              0.1111111111111111,
              "#46039f"
             ],
             [
              0.2222222222222222,
              "#7201a8"
             ],
             [
              0.3333333333333333,
              "#9c179e"
             ],
             [
              0.4444444444444444,
              "#bd3786"
             ],
             [
              0.5555555555555556,
              "#d8576b"
             ],
             [
              0.6666666666666666,
              "#ed7953"
             ],
             [
              0.7777777777777778,
              "#fb9f3a"
             ],
             [
              0.8888888888888888,
              "#fdca26"
             ],
             [
              1,
              "#f0f921"
             ]
            ],
            "type": "heatmap"
           }
          ],
          "histogram": [
           {
            "marker": {
             "pattern": {
              "fillmode": "overlay",
              "size": 10,
              "solidity": 0.2
             }
            },
            "type": "histogram"
           }
          ],
          "histogram2d": [
           {
            "colorbar": {
             "outlinewidth": 0,
             "ticks": ""
            },
            "colorscale": [
             [
              0,
              "#0d0887"
             ],
             [
              0.1111111111111111,
              "#46039f"
             ],
             [
              0.2222222222222222,
              "#7201a8"
             ],
             [
              0.3333333333333333,
              "#9c179e"
             ],
             [
              0.4444444444444444,
              "#bd3786"
             ],
             [
              0.5555555555555556,
              "#d8576b"
             ],
             [
              0.6666666666666666,
              "#ed7953"
             ],
             [
              0.7777777777777778,
              "#fb9f3a"
             ],
             [
              0.8888888888888888,
              "#fdca26"
             ],
             [
              1,
              "#f0f921"
             ]
            ],
            "type": "histogram2d"
           }
          ],
          "histogram2dcontour": [
           {
            "colorbar": {
             "outlinewidth": 0,
             "ticks": ""
            },
            "colorscale": [
             [
              0,
              "#0d0887"
             ],
             [
              0.1111111111111111,
              "#46039f"
             ],
             [
              0.2222222222222222,
              "#7201a8"
             ],
             [
              0.3333333333333333,
              "#9c179e"
             ],
             [
              0.4444444444444444,
              "#bd3786"
             ],
             [
              0.5555555555555556,
              "#d8576b"
             ],
             [
              0.6666666666666666,
              "#ed7953"
             ],
             [
              0.7777777777777778,
              "#fb9f3a"
             ],
             [
              0.8888888888888888,
              "#fdca26"
             ],
             [
              1,
              "#f0f921"
             ]
            ],
            "type": "histogram2dcontour"
           }
          ],
          "mesh3d": [
           {
            "colorbar": {
             "outlinewidth": 0,
             "ticks": ""
            },
            "type": "mesh3d"
           }
          ],
          "parcoords": [
           {
            "line": {
             "colorbar": {
              "outlinewidth": 0,
              "ticks": ""
             }
            },
            "type": "parcoords"
           }
          ],
          "pie": [
           {
            "automargin": true,
            "type": "pie"
           }
          ],
          "scatter": [
           {
            "fillpattern": {
             "fillmode": "overlay",
             "size": 10,
             "solidity": 0.2
            },
            "type": "scatter"
           }
          ],
          "scatter3d": [
           {
            "line": {
             "colorbar": {
              "outlinewidth": 0,
              "ticks": ""
             }
            },
            "marker": {
             "colorbar": {
              "outlinewidth": 0,
              "ticks": ""
             }
            },
            "type": "scatter3d"
           }
          ],
          "scattercarpet": [
           {
            "marker": {
             "colorbar": {
              "outlinewidth": 0,
              "ticks": ""
             }
            },
            "type": "scattercarpet"
           }
          ],
          "scattergeo": [
           {
            "marker": {
             "colorbar": {
              "outlinewidth": 0,
              "ticks": ""
             }
            },
            "type": "scattergeo"
           }
          ],
          "scattergl": [
           {
            "marker": {
             "colorbar": {
              "outlinewidth": 0,
              "ticks": ""
             }
            },
            "type": "scattergl"
           }
          ],
          "scattermap": [
           {
            "marker": {
             "colorbar": {
              "outlinewidth": 0,
              "ticks": ""
             }
            },
            "type": "scattermap"
           }
          ],
          "scattermapbox": [
           {
            "marker": {
             "colorbar": {
              "outlinewidth": 0,
              "ticks": ""
             }
            },
            "type": "scattermapbox"
           }
          ],
          "scatterpolar": [
           {
            "marker": {
             "colorbar": {
              "outlinewidth": 0,
              "ticks": ""
             }
            },
            "type": "scatterpolar"
           }
          ],
          "scatterpolargl": [
           {
            "marker": {
             "colorbar": {
              "outlinewidth": 0,
              "ticks": ""
             }
            },
            "type": "scatterpolargl"
           }
          ],
          "scatterternary": [
           {
            "marker": {
             "colorbar": {
              "outlinewidth": 0,
              "ticks": ""
             }
            },
            "type": "scatterternary"
           }
          ],
          "surface": [
           {
            "colorbar": {
             "outlinewidth": 0,
             "ticks": ""
            },
            "colorscale": [
             [
              0,
              "#0d0887"
             ],
             [
              0.1111111111111111,
              "#46039f"
             ],
             [
              0.2222222222222222,
              "#7201a8"
             ],
             [
              0.3333333333333333,
              "#9c179e"
             ],
             [
              0.4444444444444444,
              "#bd3786"
             ],
             [
              0.5555555555555556,
              "#d8576b"
             ],
             [
              0.6666666666666666,
              "#ed7953"
             ],
             [
              0.7777777777777778,
              "#fb9f3a"
             ],
             [
              0.8888888888888888,
              "#fdca26"
             ],
             [
              1,
              "#f0f921"
             ]
            ],
            "type": "surface"
           }
          ],
          "table": [
           {
            "cells": {
             "fill": {
              "color": "#EBF0F8"
             },
             "line": {
              "color": "white"
             }
            },
            "header": {
             "fill": {
              "color": "#C8D4E3"
             },
             "line": {
              "color": "white"
             }
            },
            "type": "table"
           }
          ]
         },
         "layout": {
          "annotationdefaults": {
           "arrowcolor": "#2a3f5f",
           "arrowhead": 0,
           "arrowwidth": 1
          },
          "autotypenumbers": "strict",
          "coloraxis": {
           "colorbar": {
            "outlinewidth": 0,
            "ticks": ""
           }
          },
          "colorscale": {
           "diverging": [
            [
             0,
             "#8e0152"
            ],
            [
             0.1,
             "#c51b7d"
            ],
            [
             0.2,
             "#de77ae"
            ],
            [
             0.3,
             "#f1b6da"
            ],
            [
             0.4,
             "#fde0ef"
            ],
            [
             0.5,
             "#f7f7f7"
            ],
            [
             0.6,
             "#e6f5d0"
            ],
            [
             0.7,
             "#b8e186"
            ],
            [
             0.8,
             "#7fbc41"
            ],
            [
             0.9,
             "#4d9221"
            ],
            [
             1,
             "#276419"
            ]
           ],
           "sequential": [
            [
             0,
             "#0d0887"
            ],
            [
             0.1111111111111111,
             "#46039f"
            ],
            [
             0.2222222222222222,
             "#7201a8"
            ],
            [
             0.3333333333333333,
             "#9c179e"
            ],
            [
             0.4444444444444444,
             "#bd3786"
            ],
            [
             0.5555555555555556,
             "#d8576b"
            ],
            [
             0.6666666666666666,
             "#ed7953"
            ],
            [
             0.7777777777777778,
             "#fb9f3a"
            ],
            [
             0.8888888888888888,
             "#fdca26"
            ],
            [
             1,
             "#f0f921"
            ]
           ],
           "sequentialminus": [
            [
             0,
             "#0d0887"
            ],
            [
             0.1111111111111111,
             "#46039f"
            ],
            [
             0.2222222222222222,
             "#7201a8"
            ],
            [
             0.3333333333333333,
             "#9c179e"
            ],
            [
             0.4444444444444444,
             "#bd3786"
            ],
            [
             0.5555555555555556,
             "#d8576b"
            ],
            [
             0.6666666666666666,
             "#ed7953"
            ],
            [
             0.7777777777777778,
             "#fb9f3a"
            ],
            [
             0.8888888888888888,
             "#fdca26"
            ],
            [
             1,
             "#f0f921"
            ]
           ]
          },
          "colorway": [
           "#636efa",
           "#EF553B",
           "#00cc96",
           "#ab63fa",
           "#FFA15A",
           "#19d3f3",
           "#FF6692",
           "#B6E880",
           "#FF97FF",
           "#FECB52"
          ],
          "font": {
           "color": "#2a3f5f"
          },
          "geo": {
           "bgcolor": "white",
           "lakecolor": "white",
           "landcolor": "#E5ECF6",
           "showlakes": true,
           "showland": true,
           "subunitcolor": "white"
          },
          "hoverlabel": {
           "align": "left"
          },
          "hovermode": "closest",
          "mapbox": {
           "style": "light"
          },
          "paper_bgcolor": "white",
          "plot_bgcolor": "#E5ECF6",
          "polar": {
           "angularaxis": {
            "gridcolor": "white",
            "linecolor": "white",
            "ticks": ""
           },
           "bgcolor": "#E5ECF6",
           "radialaxis": {
            "gridcolor": "white",
            "linecolor": "white",
            "ticks": ""
           }
          },
          "scene": {
           "xaxis": {
            "backgroundcolor": "#E5ECF6",
            "gridcolor": "white",
            "gridwidth": 2,
            "linecolor": "white",
            "showbackground": true,
            "ticks": "",
            "zerolinecolor": "white"
           },
           "yaxis": {
            "backgroundcolor": "#E5ECF6",
            "gridcolor": "white",
            "gridwidth": 2,
            "linecolor": "white",
            "showbackground": true,
            "ticks": "",
            "zerolinecolor": "white"
           },
           "zaxis": {
            "backgroundcolor": "#E5ECF6",
            "gridcolor": "white",
            "gridwidth": 2,
            "linecolor": "white",
            "showbackground": true,
            "ticks": "",
            "zerolinecolor": "white"
           }
          },
          "shapedefaults": {
           "line": {
            "color": "#2a3f5f"
           }
          },
          "ternary": {
           "aaxis": {
            "gridcolor": "white",
            "linecolor": "white",
            "ticks": ""
           },
           "baxis": {
            "gridcolor": "white",
            "linecolor": "white",
            "ticks": ""
           },
           "bgcolor": "#E5ECF6",
           "caxis": {
            "gridcolor": "white",
            "linecolor": "white",
            "ticks": ""
           }
          },
          "title": {
           "x": 0.05
          },
          "xaxis": {
           "automargin": true,
           "gridcolor": "white",
           "linecolor": "white",
           "ticks": "",
           "title": {
            "standoff": 15
           },
           "zerolinecolor": "white",
           "zerolinewidth": 2
          },
          "yaxis": {
           "automargin": true,
           "gridcolor": "white",
           "linecolor": "white",
           "ticks": "",
           "title": {
            "standoff": 15
           },
           "zerolinecolor": "white",
           "zerolinewidth": 2
          }
         }
        },
        "title": {
         "text": "Proporção dos tipos de trabalho"
        },
        "xaxis": {
         "anchor": "y",
         "domain": [
          0,
          1
         ],
         "title": {
          "text": "residencia"
         }
        },
        "yaxis": {
         "anchor": "x",
         "domain": [
          0,
          1
         ],
         "title": {
          "text": "salario"
         }
        }
       }
      }
     },
     "metadata": {},
     "output_type": "display_data"
    }
   ],
   "source": [
    "# O desafio da aula é gerar uma visualização de salário médio por país para o cargo de cientista de dados,\n",
    "# utilizando a biblioteca Plotly para criar um gráfico interativo.\n",
    "\n",
    "desafio = df_limpo.groupby('residencia')['salario'].mean().sort_values(ascending=False).reset_index()\n",
    "desafio.columns = ['residencia','salario']\n",
    "\n",
    "fig = px.bar(desafio,\n",
    "            x = 'residencia', \n",
    "            y='salario',\n",
    "            title='Proporção dos tipos de trabalho',\n",
    "        \n",
    "            )\n",
    "\n",
    "fig.show()"
   ]
  },
  {
   "cell_type": "code",
   "execution_count": 67,
   "id": "0a3e9ec8",
   "metadata": {},
   "outputs": [
    {
     "data": {
      "text/plain": [
       "array(['US', 'AU', 'CA', 'JP', 'GB', 'MX', 'NL', 'ES', 'FR', 'MT', 'IT',\n",
       "       'LT', 'PH', 'NZ', 'DE', 'LV', 'IE', 'MK', 'AT', 'PL', 'SK', 'BR',\n",
       "       'SI', 'FI', 'HK', 'LS', 'IN', 'JM', 'CH', 'BE', 'ID', 'PE', 'SG',\n",
       "       'PT', 'HU', 'RO', 'AR', 'ZA', 'PA', 'EE', 'LU', 'DZ', 'EG', 'CL',\n",
       "       'GR', 'KE', 'CD', 'SE', 'KR', 'TW', 'NO', 'CZ', 'TR', 'NG', 'CY',\n",
       "       'CO', 'DK', 'AE', 'BG', 'JO', 'RS', 'UA', 'PR', 'SV', 'EC', 'DO',\n",
       "       'MY', 'XK', 'CR', 'ZM', 'AM', 'RW', 'IL', 'LB', 'HR', 'PK', 'HN',\n",
       "       'VE', 'BM', 'VN', 'GE', 'SA', 'OM', 'BA', 'UG', 'MU', 'TH', 'QA',\n",
       "       'RU', 'TN', 'GH', 'AD', 'MD', 'UZ', 'CF', 'KW', 'IR', 'AS', 'CN',\n",
       "       'BO', 'IQ', 'JE'], dtype=object)"
      ]
     },
     "execution_count": 67,
     "metadata": {},
     "output_type": "execute_result"
    }
   ],
   "source": [
    "df_limpo['residencia'].unique()"
   ]
  },
  {
   "cell_type": "code",
   "execution_count": 68,
   "id": "a11c24b5",
   "metadata": {},
   "outputs": [
    {
     "data": {
      "text/html": [
       "<div>\n",
       "<style scoped>\n",
       "    .dataframe tbody tr th:only-of-type {\n",
       "        vertical-align: middle;\n",
       "    }\n",
       "\n",
       "    .dataframe tbody tr th {\n",
       "        vertical-align: top;\n",
       "    }\n",
       "\n",
       "    .dataframe thead th {\n",
       "        text-align: right;\n",
       "    }\n",
       "</style>\n",
       "<table border=\"1\" class=\"dataframe\">\n",
       "  <thead>\n",
       "    <tr style=\"text-align: right;\">\n",
       "      <th></th>\n",
       "      <th>ano</th>\n",
       "      <th>senioridade</th>\n",
       "      <th>contrato</th>\n",
       "      <th>cargo</th>\n",
       "      <th>salario</th>\n",
       "      <th>moeda</th>\n",
       "      <th>usd</th>\n",
       "      <th>residencia</th>\n",
       "      <th>remoto</th>\n",
       "      <th>empresa</th>\n",
       "      <th>tamanho_empresa</th>\n",
       "    </tr>\n",
       "  </thead>\n",
       "  <tbody>\n",
       "    <tr>\n",
       "      <th>7034</th>\n",
       "      <td>2025.0</td>\n",
       "      <td>Junior</td>\n",
       "      <td>Tempo Integral</td>\n",
       "      <td>Developer</td>\n",
       "      <td>9000000</td>\n",
       "      <td>HUF</td>\n",
       "      <td>23086</td>\n",
       "      <td>HU</td>\n",
       "      <td>0</td>\n",
       "      <td>HU</td>\n",
       "      <td>M</td>\n",
       "    </tr>\n",
       "    <tr>\n",
       "      <th>7035</th>\n",
       "      <td>2025.0</td>\n",
       "      <td>Junior</td>\n",
       "      <td>Tempo Integral</td>\n",
       "      <td>Developer</td>\n",
       "      <td>7500000</td>\n",
       "      <td>HUF</td>\n",
       "      <td>19238</td>\n",
       "      <td>HU</td>\n",
       "      <td>0</td>\n",
       "      <td>HU</td>\n",
       "      <td>M</td>\n",
       "    </tr>\n",
       "    <tr>\n",
       "      <th>41797</th>\n",
       "      <td>2025.0</td>\n",
       "      <td>Junior</td>\n",
       "      <td>Tempo Integral</td>\n",
       "      <td>Data Scientist</td>\n",
       "      <td>9000000</td>\n",
       "      <td>HUF</td>\n",
       "      <td>23086</td>\n",
       "      <td>HU</td>\n",
       "      <td>0</td>\n",
       "      <td>HU</td>\n",
       "      <td>M</td>\n",
       "    </tr>\n",
       "    <tr>\n",
       "      <th>41798</th>\n",
       "      <td>2025.0</td>\n",
       "      <td>Junior</td>\n",
       "      <td>Tempo Integral</td>\n",
       "      <td>Data Scientist</td>\n",
       "      <td>7500000</td>\n",
       "      <td>HUF</td>\n",
       "      <td>19238</td>\n",
       "      <td>HU</td>\n",
       "      <td>0</td>\n",
       "      <td>HU</td>\n",
       "      <td>M</td>\n",
       "    </tr>\n",
       "    <tr>\n",
       "      <th>73164</th>\n",
       "      <td>2024.0</td>\n",
       "      <td>Pleno</td>\n",
       "      <td>Tempo Integral</td>\n",
       "      <td>AI Specialist</td>\n",
       "      <td>5400000</td>\n",
       "      <td>HUF</td>\n",
       "      <td>15419</td>\n",
       "      <td>HU</td>\n",
       "      <td>0</td>\n",
       "      <td>HU</td>\n",
       "      <td>M</td>\n",
       "    </tr>\n",
       "    <tr>\n",
       "      <th>73165</th>\n",
       "      <td>2024.0</td>\n",
       "      <td>Pleno</td>\n",
       "      <td>Tempo Integral</td>\n",
       "      <td>AI Specialist</td>\n",
       "      <td>5400000</td>\n",
       "      <td>HUF</td>\n",
       "      <td>15419</td>\n",
       "      <td>HU</td>\n",
       "      <td>0</td>\n",
       "      <td>HU</td>\n",
       "      <td>M</td>\n",
       "    </tr>\n",
       "    <tr>\n",
       "      <th>123146</th>\n",
       "      <td>2023.0</td>\n",
       "      <td>Junior</td>\n",
       "      <td>Tempo Integral</td>\n",
       "      <td>Analytics Engineer</td>\n",
       "      <td>43000</td>\n",
       "      <td>USD</td>\n",
       "      <td>43000</td>\n",
       "      <td>HU</td>\n",
       "      <td>0</td>\n",
       "      <td>HU</td>\n",
       "      <td>L</td>\n",
       "    </tr>\n",
       "    <tr>\n",
       "      <th>131985</th>\n",
       "      <td>2022.0</td>\n",
       "      <td>Junior</td>\n",
       "      <td>Tempo Integral</td>\n",
       "      <td>Data Scientist</td>\n",
       "      <td>6600000</td>\n",
       "      <td>HUF</td>\n",
       "      <td>17684</td>\n",
       "      <td>HU</td>\n",
       "      <td>100</td>\n",
       "      <td>HU</td>\n",
       "      <td>M</td>\n",
       "    </tr>\n",
       "    <tr>\n",
       "      <th>133179</th>\n",
       "      <td>2021.0</td>\n",
       "      <td>Pleno</td>\n",
       "      <td>Tempo Integral</td>\n",
       "      <td>BI Data Analyst</td>\n",
       "      <td>11000000</td>\n",
       "      <td>HUF</td>\n",
       "      <td>36259</td>\n",
       "      <td>HU</td>\n",
       "      <td>50</td>\n",
       "      <td>US</td>\n",
       "      <td>L</td>\n",
       "    </tr>\n",
       "    <tr>\n",
       "      <th>133249</th>\n",
       "      <td>2020.0</td>\n",
       "      <td>Pleno</td>\n",
       "      <td>Tempo Integral</td>\n",
       "      <td>Data Scientist</td>\n",
       "      <td>11000000</td>\n",
       "      <td>HUF</td>\n",
       "      <td>35735</td>\n",
       "      <td>HU</td>\n",
       "      <td>50</td>\n",
       "      <td>HU</td>\n",
       "      <td>L</td>\n",
       "    </tr>\n",
       "  </tbody>\n",
       "</table>\n",
       "</div>"
      ],
      "text/plain": [
       "           ano senioridade        contrato               cargo   salario  \\\n",
       "7034    2025.0      Junior  Tempo Integral           Developer   9000000   \n",
       "7035    2025.0      Junior  Tempo Integral           Developer   7500000   \n",
       "41797   2025.0      Junior  Tempo Integral      Data Scientist   9000000   \n",
       "41798   2025.0      Junior  Tempo Integral      Data Scientist   7500000   \n",
       "73164   2024.0       Pleno  Tempo Integral       AI Specialist   5400000   \n",
       "73165   2024.0       Pleno  Tempo Integral       AI Specialist   5400000   \n",
       "123146  2023.0      Junior  Tempo Integral  Analytics Engineer     43000   \n",
       "131985  2022.0      Junior  Tempo Integral      Data Scientist   6600000   \n",
       "133179  2021.0       Pleno  Tempo Integral     BI Data Analyst  11000000   \n",
       "133249  2020.0       Pleno  Tempo Integral      Data Scientist  11000000   \n",
       "\n",
       "       moeda    usd residencia  remoto empresa tamanho_empresa  \n",
       "7034     HUF  23086         HU       0      HU               M  \n",
       "7035     HUF  19238         HU       0      HU               M  \n",
       "41797    HUF  23086         HU       0      HU               M  \n",
       "41798    HUF  19238         HU       0      HU               M  \n",
       "73164    HUF  15419         HU       0      HU               M  \n",
       "73165    HUF  15419         HU       0      HU               M  \n",
       "123146   USD  43000         HU       0      HU               L  \n",
       "131985   HUF  17684         HU     100      HU               M  \n",
       "133179   HUF  36259         HU      50      US               L  \n",
       "133249   HUF  35735         HU      50      HU               L  "
      ]
     },
     "execution_count": 68,
     "metadata": {},
     "output_type": "execute_result"
    }
   ],
   "source": [
    "df_hu = df[df['residencia'] == 'HU']\n",
    "df_hu"
   ]
  },
  {
   "cell_type": "code",
   "execution_count": 69,
   "id": "63d46628",
   "metadata": {},
   "outputs": [
    {
     "data": {
      "text/plain": [
       "np.float64(7244300.0)"
      ]
     },
     "execution_count": 69,
     "metadata": {},
     "output_type": "execute_result"
    }
   ],
   "source": [
    "media_salario_hu = df_hu['salario'].mean()\n",
    "media_salario_hu"
   ]
  },
  {
   "cell_type": "code",
   "execution_count": null,
   "id": "aa368c2d",
   "metadata": {},
   "outputs": [],
   "source": []
  }
 ],
 "metadata": {
  "kernelspec": {
   "display_name": "Python 3 (ipykernel)",
   "language": "python",
   "name": "python3"
  },
  "language_info": {
   "codemirror_mode": {
    "name": "ipython",
    "version": 3
   },
   "file_extension": ".py",
   "mimetype": "text/x-python",
   "name": "python",
   "nbconvert_exporter": "python",
   "pygments_lexer": "ipython3",
   "version": "3.12.1"
  }
 },
 "nbformat": 4,
 "nbformat_minor": 5
}
